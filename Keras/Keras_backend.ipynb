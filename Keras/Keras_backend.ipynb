{
 "cells": [
  {
   "cell_type": "markdown",
   "metadata": {},
   "source": [
    "# Using the abstract Keras backend to write new code\n",
    "\n",
    "If you want the Keras modules you write to be compatible with both Theano (th) and TensorFlow (tf), you have to write them via the abstract Keras backend API. Here's an intro.\n",
    "\n",
    "You can import the backend module via:"
   ]
  },
  {
   "cell_type": "code",
   "execution_count": 1,
   "metadata": {},
   "outputs": [
    {
     "name": "stderr",
     "output_type": "stream",
     "text": [
      "Using TensorFlow backend.\n"
     ]
    }
   ],
   "source": [
    "import numpy as np\n",
    "#np.random.seed(5)   #not useful in Keras\n",
    "import tensorflow as tf\n",
    "#tf.random.set_random_seed(3)\n",
    "from keras import backend as K"
   ]
  },
  {
   "cell_type": "markdown",
   "metadata": {},
   "source": [
    "\n",
    "The code below instantiates an input placeholder. It's equivalent to tf.placeholder() or th.tensor.matrix(), th.tensor.tensor3(), etc."
   ]
  },
  {
   "cell_type": "code",
   "execution_count": 2,
   "metadata": {},
   "outputs": [],
   "source": [
    "inputs = K.placeholder(shape=(2,4,5))\n",
    "# also works:\n",
    "inputs = K.placeholder(shape=(None,4,5))\n",
    "# also works:\n",
    "inputs = K.placeholder(ndim=3)"
   ]
  },
  {
   "cell_type": "markdown",
   "metadata": {},
   "source": [
    "The code below instantiates a variable. It's equivalent to tf.Variable() or th.shared()."
   ]
  },
  {
   "cell_type": "code",
   "execution_count": 3,
   "metadata": {},
   "outputs": [],
   "source": [
    "val = np.random.random((3,4,5))\n",
    "val2 = np.random.random((3,4,5))\n",
    "var = K.variable(value=val)"
   ]
  },
  {
   "cell_type": "code",
   "execution_count": 4,
   "metadata": {},
   "outputs": [],
   "source": [
    "output = var + inputs"
   ]
  },
  {
   "cell_type": "code",
   "execution_count": 5,
   "metadata": {},
   "outputs": [
    {
     "data": {
      "text/plain": [
       "array([[[0.66060865, 0.0300301 , 0.99725485, 0.24316595, 0.5119618 ],\n",
       "        [0.107789  , 0.78278834, 0.98394746, 0.19380465, 0.435569  ],\n",
       "        [0.64456475, 0.9110368 , 0.17065303, 0.40758392, 0.49796164],\n",
       "        [0.87327564, 0.16381188, 0.6642294 , 0.40012708, 0.8198158 ]],\n",
       "\n",
       "       [[0.17371033, 0.6957717 , 0.04525151, 0.25430807, 0.05457584],\n",
       "        [0.6423691 , 0.95979714, 0.9533505 , 0.2982089 , 0.7182005 ],\n",
       "        [0.9070376 , 0.89414877, 0.4168126 , 0.3779643 , 0.9929056 ],\n",
       "        [0.2706096 , 0.56470174, 0.41066158, 0.24349687, 0.2560679 ]],\n",
       "\n",
       "       [[0.8207083 , 0.4083376 , 0.3186262 , 0.50797236, 0.49546114],\n",
       "        [0.5404506 , 0.29895705, 0.31473577, 0.4738359 , 0.07929014],\n",
       "        [0.99618226, 0.91186774, 0.7770949 , 0.26252526, 0.83046305],\n",
       "        [0.18783174, 0.8193949 , 0.34181574, 0.65593415, 0.09306999]]],\n",
       "      dtype=float32)"
      ]
     },
     "execution_count": 5,
     "metadata": {},
     "output_type": "execute_result"
    }
   ],
   "source": [
    "tf_session = K.get_session()\n",
    "output.eval(session=tf_session, feed_dict = {inputs : val2})\n",
    "var.eval(session=tf_session)"
   ]
  },
  {
   "cell_type": "markdown",
   "metadata": {},
   "source": [
    "Most tensor operations you will need can be done as you would in TensorFlow or Theano:"
   ]
  },
  {
   "cell_type": "code",
   "execution_count": 6,
   "metadata": {},
   "outputs": [
    {
     "data": {
      "text/plain": [
       "array([8], dtype=int32)"
      ]
     },
     "execution_count": 6,
     "metadata": {},
     "output_type": "execute_result"
    }
   ],
   "source": [
    "# Initializing Tensors with Random Numbers\n",
    "b = K.random_uniform_variable(shape=(4,3), low=0,high=1, seed=3) # Uniform distribution\n",
    "c = K.random_normal_variable(shape=(2,3), mean=0, scale=10, seed=3)  # Gaussian distribution\n",
    "\n",
    "# Tensor Arithmetic\n",
    "a = K.dot(b , K.transpose(c))\n",
    "s = K.sum(a , axis = 1)\n",
    "soft = K.softmax(s)\n",
    "concat = K.concatenate([soft, s], axis = 0)\n",
    "tf_session = K.get_session()\n",
    "K.shape(concat).eval(session=tf_session)    #Keras shape\n",
    "#concat.eval(session=tf_session)\n",
    "#soft.eval(session=tf_session)\n",
    "#s.eval(session=tf_session)\n",
    "#b.eval(session=tf_session)\n",
    "#c.eval(session=tf_session)"
   ]
  },
  {
   "cell_type": "markdown",
   "metadata": {},
   "source": [
    "\n",
    "\n",
    "# Backend functions\n",
    "\n",
    "backend : Publicly accessible method for determining the current backend."
   ]
  },
  {
   "cell_type": "code",
   "execution_count": 7,
   "metadata": {},
   "outputs": [
    {
     "data": {
      "text/plain": [
       "'tensorflow'"
      ]
     },
     "execution_count": 7,
     "metadata": {},
     "output_type": "execute_result"
    }
   ],
   "source": [
    "K.backend() #keras.backend.backend()"
   ]
  },
  {
   "cell_type": "markdown",
   "metadata": {},
   "source": [
    "epsilon : Returns the value of the fuzz factor used in numeric expressions."
   ]
  },
  {
   "cell_type": "code",
   "execution_count": 8,
   "metadata": {},
   "outputs": [
    {
     "data": {
      "text/plain": [
       "1e-07"
      ]
     },
     "execution_count": 8,
     "metadata": {},
     "output_type": "execute_result"
    }
   ],
   "source": [
    "K.epsilon()  #keras.backend.epsilon()"
   ]
  },
  {
   "cell_type": "markdown",
   "metadata": {},
   "source": [
    "set_epsilon : Sets the value of the fuzz factor used in numeric expressions."
   ]
  },
  {
   "cell_type": "code",
   "execution_count": 9,
   "metadata": {},
   "outputs": [],
   "source": [
    "K.set_epsilon(1e-08)  #keras.backend.set_epsilon(e)"
   ]
  },
  {
   "cell_type": "code",
   "execution_count": 10,
   "metadata": {},
   "outputs": [
    {
     "data": {
      "text/plain": [
       "1e-08"
      ]
     },
     "execution_count": 10,
     "metadata": {},
     "output_type": "execute_result"
    }
   ],
   "source": [
    "K.epsilon()  #keras.backend.epsilon()"
   ]
  },
  {
   "cell_type": "markdown",
   "metadata": {},
   "source": [
    "floatx: Returns the default float type, as a string. (e.g. 'float16', 'float32', 'float64')."
   ]
  },
  {
   "cell_type": "code",
   "execution_count": 11,
   "metadata": {},
   "outputs": [
    {
     "data": {
      "text/plain": [
       "'float32'"
      ]
     },
     "execution_count": 11,
     "metadata": {},
     "output_type": "execute_result"
    }
   ],
   "source": [
    "K.floatx()   #keras.backend.floatx()"
   ]
  },
  {
   "cell_type": "markdown",
   "metadata": {},
   "source": [
    "image_data_format : Returns the default image data format convention."
   ]
  },
  {
   "cell_type": "code",
   "execution_count": 12,
   "metadata": {},
   "outputs": [
    {
     "data": {
      "text/plain": [
       "'channels_last'"
      ]
     },
     "execution_count": 12,
     "metadata": {},
     "output_type": "execute_result"
    }
   ],
   "source": [
    "K.image_data_format()  #keras.backend.image_data_format()"
   ]
  },
  {
   "cell_type": "markdown",
   "metadata": {},
   "source": [
    "clear_session : Destroys the current TF graph and creates a new one.  Useful to avoid clutter from old models / layers."
   ]
  },
  {
   "cell_type": "code",
   "execution_count": 13,
   "metadata": {},
   "outputs": [],
   "source": [
    "K.clear_session() #keras.backend.clear_session() "
   ]
  },
  {
   "cell_type": "markdown",
   "metadata": {},
   "source": [
    "learning_phase : Returns the learning phase flag. The learning phase flag is a bool tensor (0 = test, 1 = train) to be passed as input to any Keras function that uses a different behavior at train time and test time."
   ]
  },
  {
   "cell_type": "code",
   "execution_count": 14,
   "metadata": {},
   "outputs": [
    {
     "data": {
      "text/plain": [
       "False"
      ]
     },
     "execution_count": 14,
     "metadata": {},
     "output_type": "execute_result"
    }
   ],
   "source": [
    "s1 = K.get_session()\n",
    "K.learning_phase().eval(session=s1) #keras.backend.learning_phase()"
   ]
  },
  {
   "cell_type": "markdown",
   "metadata": {},
   "source": [
    "set_learning_phase : Sets the learning phase to a fixed value. "
   ]
  },
  {
   "cell_type": "code",
   "execution_count": 15,
   "metadata": {},
   "outputs": [
    {
     "data": {
      "text/plain": [
       "True"
      ]
     },
     "execution_count": 15,
     "metadata": {},
     "output_type": "execute_result"
    }
   ],
   "source": [
    "K.set_learning_phase(True)   #keras.backend.set_learning_phase()\n",
    "K.learning_phase()"
   ]
  },
  {
   "cell_type": "markdown",
   "metadata": {},
   "source": [
    "update : Update the value of x to new_x."
   ]
  },
  {
   "cell_type": "code",
   "execution_count": 16,
   "metadata": {},
   "outputs": [
    {
     "data": {
      "text/plain": [
       "array([[ -8.581108 ,  -1.9662298,   1.3895046],\n",
       "       [-12.212768 ,  -4.0341287, -11.454041 ]], dtype=float32)"
      ]
     },
     "execution_count": 16,
     "metadata": {},
     "output_type": "execute_result"
    }
   ],
   "source": [
    "x1 = tf.Variable(tf.random.normal((2,3)), name = 'x1')\n",
    "new_x = tf.random.normal((2,3), mean=0, stddev=10, seed=2)\n",
    "K.update(x1, new_x).eval(session=s1)"
   ]
  },
  {
   "cell_type": "markdown",
   "metadata": {},
   "source": [
    "moving_average_update : Compute the moving average of a variable."
   ]
  },
  {
   "cell_type": "code",
   "execution_count": 27,
   "metadata": {},
   "outputs": [
    {
     "data": {
      "text/plain": [
       "array([[ 0.405457  , -1.1697458 , -1.5269387 ],\n",
       "       [ 0.14035547, -0.9657406 , -1.0671937 ]], dtype=float32)"
      ]
     },
     "execution_count": 27,
     "metadata": {},
     "output_type": "execute_result"
    }
   ],
   "source": [
    "#keras.backend.moving_average_update(x, value, momentum)\n",
    "m = tf.Variable(tf.random.normal((2,3)), name = 'm')\n",
    "val_m = tf.random.normal((2,3), mean=0, stddev=10, seed=3)\n",
    "K.moving_average_update(m, val_m, momentum=0.9)\n",
    "s2 = K.get_session()\n",
    "m.eval(session=s2)"
   ]
  },
  {
   "cell_type": "markdown",
   "metadata": {},
   "source": [
    "dot :  Multiplies 2 tensors (and/or variables) and returns a tensor. When attempting to multiply a nD tensor with a nD tensor, it reproduces the Theano behavior. (e.g.  (2, 3) * (4, 3, 5) -> (2, 4, 5)) . Returns A tensor, dot product of x and y.\n",
    "\n"
   ]
  },
  {
   "cell_type": "code",
   "execution_count": 34,
   "metadata": {},
   "outputs": [
    {
     "data": {
      "text/plain": [
       "array([3, 2, 5], dtype=int32)"
      ]
     },
     "execution_count": 34,
     "metadata": {},
     "output_type": "execute_result"
    }
   ],
   "source": [
    "#keras.backend.dot(x, y)\n",
    "l = tf.random_normal((3,4),  mean=50, stddev=100, seed=4)\n",
    "n = tf.random_normal((2,4,5), mean=0, stddev=1, seed=4)\n",
    "o = K.dot(l, n)\n",
    "K.shape(o).eval(session=s2)"
   ]
  },
  {
   "cell_type": "code",
   "execution_count": null,
   "metadata": {},
   "outputs": [],
   "source": []
  },
  {
   "cell_type": "code",
   "execution_count": null,
   "metadata": {},
   "outputs": [],
   "source": []
  }
 ],
 "metadata": {
  "kernelspec": {
   "display_name": "Python 3",
   "language": "python",
   "name": "python3"
  },
  "language_info": {
   "codemirror_mode": {
    "name": "ipython",
    "version": 3
   },
   "file_extension": ".py",
   "mimetype": "text/x-python",
   "name": "python",
   "nbconvert_exporter": "python",
   "pygments_lexer": "ipython3",
   "version": "3.6.8"
  }
 },
 "nbformat": 4,
 "nbformat_minor": 2
}
