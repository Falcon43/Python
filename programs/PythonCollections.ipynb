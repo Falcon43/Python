{
 "cells": [
  {
   "cell_type": "markdown",
   "metadata": {},
   "source": [
    "# List"
   ]
  },
  {
   "cell_type": "code",
   "execution_count": 14,
   "metadata": {},
   "outputs": [
    {
     "name": "stdout",
     "output_type": "stream",
     "text": [
      "##list\n",
      "[1, 2, 3, 4]\n",
      "[1, 2, 3, 4, 5]\n",
      "[1, 2, 3, 4, 5, [2, 3]]\n",
      "[1, 2, 3, 4, 5]\n",
      "<type 'list'>\n",
      "[1, 2, 3, 4, 5, [2, 3], [3, 4], [4, 5]]\n",
      "[1, [7, 9], 3, 4, 5, [[7, 9], 3], [3, 4], [4, 5]]\n",
      "[[[3, 4], 7], [[3, 4], 7]]\n",
      "[[[3, 4], 7]]\n",
      "[[[3, 4], 7], [[3, 4], 8], [[3, 4], 9]]\n",
      "[[[3, 4], 7], [[3, 4], 8]]\n",
      "[1, 2, 3]\n",
      "[[1, 2, 3]]\n",
      "[[1]]\n"
     ]
    }
   ],
   "source": [
    "print(\"##list\")\n",
    "x = [1, 2]\n",
    "y = [3, 4]\n",
    "z = 5\n",
    "w = [6, 7]\n",
    "x= x+y\n",
    "print(x)\n",
    "if isinstance(z, int):\n",
    "    x.append(z)\n",
    "if isinstance(w, int):\n",
    "    x.append(w)\n",
    "print(x)\n",
    "u = [2, 3]\n",
    "x.append(u)\n",
    "print(x)\n",
    "x.remove(u)\n",
    "print(x)\n",
    "\n",
    "x.append(u)\n",
    "print(type(u))\n",
    "x.append([3,4])\n",
    "x.append([4,5])\n",
    "print(x)\n",
    "for i in range(len(x)):\n",
    "    if isinstance(x[i], int) and x[i] == 2:\n",
    "            x[i] = [7, 9]\n",
    "    if isinstance(x[i], list):\n",
    "        for j in range(len(x[i])):\n",
    "            if x[i][j] == 2:\n",
    "                x[i][j] = [7, 9] \n",
    "print(x)\n",
    "x = []\n",
    "x.append([[3,4], 7])\n",
    "x.append([[3,4], 7])\n",
    "print(x)\n",
    "x.remove([[3,4], 7])\n",
    "print(x)\n",
    "x.append([[3,4], 8])\n",
    "x.append([[3,4], 9])\n",
    "print(x)\n",
    "x.remove(x[2])\n",
    "print(x)\n",
    "print(list([1,2,3]))\n",
    "print([[1,2,3]])\n",
    "print([[1]])\n"
   ]
  },
  {
   "cell_type": "markdown",
   "metadata": {},
   "source": [
    "# Dict"
   ]
  },
  {
   "cell_type": "code",
   "execution_count": 15,
   "metadata": {},
   "outputs": [
    {
     "name": "stdout",
     "output_type": "stream",
     "text": [
      "##dict\n",
      "{'brand': 'Ford', 'model': 'Mustang', 'year': 1964}\n",
      "{'brand': 'Ford', 'model': 'Mustang', 'year': 2018}\n",
      "{2: [3, 4, 5], 4: [5, 6, 7]}\n",
      "[3, 4, 5]\n",
      "{2: [3, 4, 5, 3], 4: [5, 6, 7]}\n",
      "2 found\n",
      "{}\n",
      "{2: [3, 4, 5], 4: [5, 6, 7]}\n",
      "[3, 4, 5, 5, 6, 7]\n",
      "{(2, 4): [3, 4, 5, 5, 6, 7]}\n",
      "a c\n",
      "a b\n",
      "a d\n",
      "c b\n",
      "c d\n",
      "b d\n"
     ]
    }
   ],
   "source": [
    "print(\"##dict\")\n",
    "thisdict ={\n",
    "  \"brand\": \"Ford\",\n",
    "  \"model\": \"Mustang\",\n",
    "  \"year\": 1964\n",
    "}\n",
    "print(thisdict)\n",
    "thisdict[\"year\"] = 2018\n",
    "print(thisdict)\n",
    "x = {2:[3,4,5], 4:[5,6,7]}\n",
    "print(x)\n",
    "print(x[2])\n",
    "x[2].append(3)\n",
    "print(x)\n",
    "for i in x.keys():\n",
    "    x.pop(i)\n",
    "    if(i == 2):\n",
    "        print(\"2 found\")\n",
    "    if(i == 3):\n",
    "        print(\"3 not found\")\n",
    "print(x)\n",
    "x = {2:[3,4,5], 4:[5,6,7]}\n",
    "print(x)\n",
    "a = x[2]\n",
    "b = x[4]\n",
    "c = a+b\n",
    "print(c)\n",
    "x.pop(2)\n",
    "x.pop(4)\n",
    "x[(2,4)] = c\n",
    "print(x)\n",
    "\n",
    "\n",
    "my_dict = {\"a\": 1, \"b\": 2, \"c\": 3, \"d\": 4}\n",
    "\n",
    "from itertools import combinations\n",
    "for key1, key2 in combinations(my_dict.keys(), r = 2):\n",
    "    print key1, key2"
   ]
  },
  {
   "cell_type": "markdown",
   "metadata": {},
   "source": [
    "# set"
   ]
  },
  {
   "cell_type": "code",
   "execution_count": 9,
   "metadata": {},
   "outputs": [
    {
     "name": "stdout",
     "output_type": "stream",
     "text": [
      "##set\n",
      "set([1, 2, 3, 4])\n",
      "set([1, 2, 3, 4, 5, 6, 7])\n",
      "set([1, 2, 3, 4, 5, 6, 7, (2, 3)])\n",
      "set([1, 2, 3, 4, 5, 6, 7])\n",
      " 'set' object does not support indexing\n"
     ]
    }
   ],
   "source": [
    "print(\"##set\")\n",
    "x = set([1, 2])\n",
    "u = (2, 3)\n",
    "for i in y:\n",
    "    x.add(i) \n",
    "print(x)\n",
    "if isinstance(z, int):\n",
    "    x.add(z)\n",
    "if isinstance(w, list):\n",
    "    for i in w:\n",
    "        x.add(i)\n",
    "print(x)\n",
    "x.add(u)\n",
    "print(x)\n",
    "x.remove(u)\n",
    "print(x)\n",
    "print(\" 'set' object does not support indexing\")"
   ]
  },
  {
   "cell_type": "markdown",
   "metadata": {},
   "source": [
    "# tuple"
   ]
  },
  {
   "cell_type": "code",
   "execution_count": 16,
   "metadata": {},
   "outputs": [
    {
     "name": "stdout",
     "output_type": "stream",
     "text": [
      "##tuple\n",
      "(2,)\n",
      "(3, 4)\n",
      "(3, 4, 2)\n",
      "(2,)\n",
      "(3, 4)\n",
      "(3, 4)\n",
      "(3, 4)\n",
      "[3, 4]\n"
     ]
    }
   ],
   "source": [
    "print(\"##tuple\")\n",
    "x = 2\n",
    "y = [3, 4]\n",
    "print((x, ))\n",
    "print(tuple(y))\n",
    "print(tuple(y) + (x, ))\n",
    "\n",
    "print(tuple((x, )))\n",
    "print(tuple(tuple(y)))\n",
    "y = tuple(y)\n",
    "print(y)\n",
    "y = tuple(y)\n",
    "print(y)\n",
    "print(list(y))"
   ]
  },
  {
   "cell_type": "code",
   "execution_count": 11,
   "metadata": {},
   "outputs": [
    {
     "name": "stdout",
     "output_type": "stream",
     "text": [
      "[1, 2]\n",
      "[3, 4, 1, 5, 6]\n",
      "[3, 4, 1, [5, 6]]\n"
     ]
    }
   ],
   "source": [
    "print([1, 2])\n",
    "x = [3, 4]\n",
    "x.append(1)\n",
    "print(x+[5,6])\n",
    "x.append([5, 6])\n",
    "print(x)"
   ]
  },
  {
   "cell_type": "markdown",
   "metadata": {},
   "source": [
    "# String"
   ]
  },
  {
   "cell_type": "code",
   "execution_count": 14,
   "metadata": {},
   "outputs": [
    {
     "name": "stdout",
     "output_type": "stream",
     "text": [
      "['1', '37', '79', '164', '155', '32', '87', '39', '113', '15', '18', '78', '175', '140', '200', '4', '160', '97', '191', '100', '91', '20', '69', '198', '196']\n",
      "['2', '123', '134', '10', '141', '13', '12', '43', '47', '3', '177', '101', '179', '77', '182', '117', '116', '36', '103', '51', '154', '162', '128', '30']\n",
      "['3', '48', '123', '134', '109', '41', '17', '159', '49', '136', '16', '130', '141', '29', '176', '2', '190', '66', '153', '157', '70', '114', '65', '173', '104', '194', '54']\n",
      "[]\n"
     ]
    }
   ],
   "source": [
    "IntegerMatrixString = [['1\\t37\\t79\\t164\\t155\\t32\\t87\\t39\\t113\\t15\\t18\\t78\\t175\\t140\\t200\\t4\\t160\\t97\\t191\\t100\\t91\\t20\\t69\\t198\\t196\\t'], ['2\\t123\\t134\\t10\\t141\\t13\\t12\\t43\\t47\\t3\\t177\\t101\\t179\\t77\\t182\\t117\\t116\\t36\\t103\\t51\\t154\\t162\\t128\\t30\\t'], ['3\\t48\\t123\\t134\\t109\\t41\\t17\\t159\\t49\\t136\\t16\\t130\\t141\\t29\\t176\\t2\\t190\\t66\\t153\\t157\\t70\\t114\\t65\\t173\\t104\\t194\\t54\\t']]\n",
    "\n",
    "IntegerMatrix = []\n",
    "for i in range(len(IntegerMatrixString)):\n",
    "    IntegerMatrixString[i][0] = IntegerMatrixString[i][0][:-1]\n",
    "    IntegerMatrixString[i] = IntegerMatrixString[i][0].split('\\t')\n",
    "    print(IntegerMatrixString[i])\n",
    "\n",
    "print(IntegerMatrix)"
   ]
  },
  {
   "cell_type": "code",
   "execution_count": 32,
   "metadata": {},
   "outputs": [
    {
     "name": "stdout",
     "output_type": "stream",
     "text": [
      "12\n",
      "['1', '2']\n",
      "2\n"
     ]
    }
   ],
   "source": [
    "# split word into letters\n",
    "a = '1'+'2'\n",
    "print(a)\n",
    "print(list(a))\n",
    "print(list(a)[-1])"
   ]
  },
  {
   "cell_type": "code",
   "execution_count": null,
   "metadata": {},
   "outputs": [],
   "source": []
  },
  {
   "cell_type": "code",
   "execution_count": null,
   "metadata": {},
   "outputs": [],
   "source": []
  }
 ],
 "metadata": {
  "kernelspec": {
   "display_name": "Python 2",
   "language": "python",
   "name": "python2"
  },
  "language_info": {
   "codemirror_mode": {
    "name": "ipython",
    "version": 2
   },
   "file_extension": ".py",
   "mimetype": "text/x-python",
   "name": "python",
   "nbconvert_exporter": "python",
   "pygments_lexer": "ipython2",
   "version": "2.7.14"
  }
 },
 "nbformat": 4,
 "nbformat_minor": 2
}
