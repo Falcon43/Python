{
 "cells": [
  {
   "cell_type": "markdown",
   "metadata": {},
   "source": [
    "Practically all objects can be compared for equality, tested for truth value, and converted to a string (with the repr() function or the slightly different str() function). The latter function is implicitly used when an object is written by the print() function.\n",
    "\n",
    "### Truth Value Testing\n",
    "By default, an object is considered true unless its class defines either a __bool__() method that returns False or a __len__() method that returns zero, when called with the object. 1 Here are most of the built-in objects considered false:\n",
    "\n",
    "constants defined to be false: None and False.\n",
    "\n",
    "zero of any numeric type: 0, 0.0, 0j, Decimal(0), Fraction(0, 1)\n",
    "\n",
    "empty sequences and collections: '', (), [], {}, set(), range(0)\n",
    "\n",
    "Operations and built-in functions that have a Boolean result always return 0 or False for false and 1 or True for true, unless otherwise stated. (Important exception: the Boolean operations or and and always return one of their operands.)\n",
    "\n",
    "### Boolean Operations — and, or, not\n",
    "These are the Boolean operations, ordered by ascending priority:\n",
    "\n",
    "\n",
    "![plot](img/booleanoperation.png)                \n",
    "\n",
    "\n",
    "### Comparison\n",
    "\n",
    "is : object identity\n",
    "\n",
    "is not : negated object identity"
   ]
  },
  {
   "cell_type": "code",
   "execution_count": 7,
   "metadata": {},
   "outputs": [],
   "source": [
    "for i in range(2, 2):\n",
    "    print(i)"
   ]
  },
  {
   "cell_type": "markdown",
   "metadata": {},
   "source": [
    "# List\n",
    "\n",
    "A list is unhashable because its contents can change over its lifetime. You can update an item contained in the list at any time.\n",
    "\n",
    "A list doesn't use a hash for indexing, so it isn't restricted to hashable items."
   ]
  },
  {
   "cell_type": "code",
   "execution_count": 14,
   "metadata": {},
   "outputs": [
    {
     "name": "stdout",
     "output_type": "stream",
     "text": [
      "##list\n",
      "[1, 2, 3, 4]\n",
      "[1, 2, 3, 4, 5]\n",
      "[1, 2, 3, 4, 5, [2, 3]]\n",
      "[1, 2, 3, 4, 5]\n",
      "<type 'list'>\n",
      "[1, 2, 3, 4, 5, [2, 3], [3, 4], [4, 5]]\n",
      "[1, [7, 9], 3, 4, 5, [[7, 9], 3], [3, 4], [4, 5]]\n",
      "[[[3, 4], 7], [[3, 4], 7]]\n",
      "[[[3, 4], 7]]\n",
      "[[[3, 4], 7], [[3, 4], 8], [[3, 4], 9]]\n",
      "[[[3, 4], 7], [[3, 4], 8]]\n",
      "[1, 2, 3]\n",
      "[[1, 2, 3]]\n",
      "[[1]]\n"
     ]
    }
   ],
   "source": [
    "print(\"##list\")\n",
    "x = [1, 2]\n",
    "y = [3, 4]\n",
    "z = 5\n",
    "w = [6, 7]\n",
    "x= x+y\n",
    "print(x)\n",
    "if isinstance(z, int):\n",
    "    x.append(z)\n",
    "if isinstance(w, int):\n",
    "    x.append(w)\n",
    "print(x)\n",
    "u = [2, 3]\n",
    "x.append(u)\n",
    "print(x)\n",
    "x.remove(u)\n",
    "print(x)\n",
    "\n",
    "x.append(u)\n",
    "print(type(u))\n",
    "x.append([3,4])\n",
    "x.append([4,5])\n",
    "print(x)\n",
    "for i in range(len(x)):\n",
    "    if isinstance(x[i], int) and x[i] == 2:\n",
    "            x[i] = [7, 9]\n",
    "    if isinstance(x[i], list):\n",
    "        for j in range(len(x[i])):\n",
    "            if x[i][j] == 2:\n",
    "                x[i][j] = [7, 9] \n",
    "print(x)\n",
    "x = []\n",
    "x.append([[3,4], 7])\n",
    "x.append([[3,4], 7])\n",
    "print(x)\n",
    "x.remove([[3,4], 7])\n",
    "print(x)\n",
    "x.append([[3,4], 8])\n",
    "x.append([[3,4], 9])\n",
    "print(x)\n",
    "x.remove(x[2])\n",
    "print(x)\n",
    "print(list([1,2,3]))\n",
    "print([[1,2,3]])\n",
    "print([[1]])\n"
   ]
  },
  {
   "cell_type": "code",
   "execution_count": 18,
   "metadata": {},
   "outputs": [
    {
     "data": {
      "text/plain": [
       "[1, 2, 3]"
      ]
     },
     "execution_count": 18,
     "metadata": {},
     "output_type": "execute_result"
    }
   ],
   "source": [
    "[1,2]+[3]"
   ]
  },
  {
   "cell_type": "code",
   "execution_count": 9,
   "metadata": {},
   "outputs": [
    {
     "name": "stdout",
     "output_type": "stream",
     "text": [
      "2\n",
      "3\n",
      "2\n",
      "3\n",
      "4\n",
      "True\n",
      "False\n",
      "True\n"
     ]
    }
   ],
   "source": [
    "# 2D list length\n",
    "li = [[3, 4, 3], [7, 9, 8]]\n",
    "print(len(li))\n",
    "print(len(li[0]))\n",
    "li = [[[3, 4, 4, 5], [4, 5, 7, 9], [7, 9, 4, 5]], [[7, 9, 7, 9], [4, 5, 7, 9], [4, 5, 7, 9]]]\n",
    "print(len(li))\n",
    "print(len(li[0]))\n",
    "print(len(li[0][0]))\n",
    "\n",
    "# isinstance\n",
    "a = [1, 2, 3, 4]\n",
    "print(isinstance(a, list))\n",
    "print(isinstance(a[0], list))\n",
    "print(isinstance(a[0], int))"
   ]
  },
  {
   "cell_type": "code",
   "execution_count": 52,
   "metadata": {},
   "outputs": [
    {
     "name": "stdout",
     "output_type": "stream",
     "text": [
      "li1: [3, 4]  li2: [3, 4]\n"
     ]
    }
   ],
   "source": [
    "li1 = [2, 3, 4]\n",
    "li2 = li1\n",
    "li2.remove(2)\n",
    "print(\"li1: {}  li2: {}\".format(li1,li2))"
   ]
  },
  {
   "cell_type": "code",
   "execution_count": 3,
   "metadata": {},
   "outputs": [
    {
     "name": "stdout",
     "output_type": "stream",
     "text": [
      "[2, 3, 4, 5, 6]\n",
      "[2, 3, 4, 5, 6, 5, 6]\n"
     ]
    }
   ],
   "source": [
    "# extend  = multi-append\n",
    "\n",
    "li = [2, 3, 4]\n",
    "li1 = []\n",
    "li2 = [5, 6]\n",
    "li.extend(li1)\n",
    "li.extend(li2)\n",
    "print(li)\n",
    "\n",
    "# usage\n",
    "if not li1 or not li2:\n",
    "    li.extend(li1)\n",
    "    li.extend(li2)\n",
    "    print(li)\n",
    "    \n"
   ]
  },
  {
   "cell_type": "code",
   "execution_count": 6,
   "metadata": {},
   "outputs": [
    {
     "name": "stdout",
     "output_type": "stream",
     "text": [
      "[1]\n"
     ]
    }
   ],
   "source": [
    "# empty lists work flawlessly with extend # useful for base cases which return []\n",
    "x = []\n",
    "x.extend([1])\n",
    "print(x)"
   ]
  },
  {
   "cell_type": "code",
   "execution_count": 5,
   "metadata": {},
   "outputs": [
    {
     "name": "stdout",
     "output_type": "stream",
     "text": [
      "2 Empty\n"
     ]
    }
   ],
   "source": [
    "if not [None, None]: print('1 Empty')\n",
    "if not []: print('2 Empty')    "
   ]
  },
  {
   "cell_type": "code",
   "execution_count": 17,
   "metadata": {},
   "outputs": [
    {
     "data": {
      "text/plain": [
       "[10.0, 3.3333333333333335, 6.75]"
      ]
     },
     "execution_count": 17,
     "metadata": {},
     "output_type": "execute_result"
    }
   ],
   "source": [
    "# divide 2 list\n",
    "li1 = [20, 10, 27]\n",
    "li2 = [2, 3, 4]\n",
    "\n",
    "[li1[i]/li2[i] for i in range(len(li1))]\n"
   ]
  },
  {
   "cell_type": "code",
   "execution_count": 3,
   "metadata": {},
   "outputs": [
    {
     "name": "stdout",
     "output_type": "stream",
     "text": [
      "After remove: [3, 2, 4, 5, 6]\n",
      "After del: [3, 4, 2, 5, 6]\n",
      "After del: [3, 4, 2, 5]\n",
      "After pop: [3, 4, 2, 5, 6]\n",
      "After 2 pop without index: [3, 4, 2, 4]\n",
      "After 1 element pop : []\n"
     ]
    }
   ],
   "source": [
    "# remove similar element\n",
    "# Difference between del, remove and pop on lists\n",
    "\n",
    "# remove removes the first matching value, not a specific index:\n",
    "r = [ 3, 4, 2, 4, 5, 6] \n",
    "r.remove(r[3])   # removes the first found 4 in the list\n",
    "print(\"After remove: {}\".format(r))\n",
    "\n",
    "#del removes the item at a specific index:\n",
    "r = [ 3, 4, 2, 4, 5, 6] \n",
    "del r[3]\n",
    "print(\"After del: {}\".format(r))\n",
    "del r[-1]\n",
    "print(\"After del: {}\".format(r))\n",
    "\n",
    "# and pop removes the item at a specific index and returns it.\n",
    "r = [ 3, 4, 2, 4, 5, 6] \n",
    "r.pop(3)  # give index as parameter\n",
    "print(\"After pop: {}\".format(r))\n",
    "\n",
    "# pop also pops at the end of list\n",
    "r = [ 3, 4, 2, 4, 5, 6] \n",
    "r.pop()\n",
    "r.pop()\n",
    "print(\"After 2 pop without index: {}\".format(r))\n",
    "\n",
    "# pop 1 element\n",
    "r = [1] \n",
    "r.pop()\n",
    "print(\"After 1 element pop : {}\".format(r))"
   ]
  },
  {
   "cell_type": "markdown",
   "metadata": {},
   "source": [
    "## li.count"
   ]
  },
  {
   "cell_type": "code",
   "execution_count": 22,
   "metadata": {},
   "outputs": [
    {
     "data": {
      "text/plain": [
       "[6, 4, 5, 5, 3, 3, 3, 1, 1, 1, 1, 1, 1, 1]"
      ]
     },
     "execution_count": 22,
     "metadata": {},
     "output_type": "execute_result"
    }
   ],
   "source": [
    "li = [3, 5, 1, 3, 6, 1, 3, 1, 1, 4, 1, 5, 1, 1]\n",
    "sorted(li, key=li.count)"
   ]
  },
  {
   "cell_type": "code",
   "execution_count": 23,
   "metadata": {},
   "outputs": [
    {
     "data": {
      "text/plain": [
       "[4, 6, 5, 5, 3, 3, 3, 1, 1, 1, 1, 1, 1, 1]"
      ]
     },
     "execution_count": 23,
     "metadata": {},
     "output_type": "execute_result"
    }
   ],
   "source": [
    "sorted(sorted(li), key=li.count)"
   ]
  },
  {
   "cell_type": "code",
   "execution_count": 8,
   "metadata": {},
   "outputs": [
    {
     "name": "stdout",
     "output_type": "stream",
     "text": [
      "False\n",
      "True\n",
      "True\n"
     ]
    }
   ],
   "source": [
    "print(3 not in [2, 3, 4])\n",
    "print(3 not in [4, 5, 6])\n",
    "print([3, 4] not in [4, 5, 6])"
   ]
  },
  {
   "cell_type": "code",
   "execution_count": 11,
   "metadata": {},
   "outputs": [
    {
     "name": "stdout",
     "output_type": "stream",
     "text": [
      "[3, 4]\n",
      "False\n",
      "True\n"
     ]
    }
   ],
   "source": [
    "x = [2, 3, 4]\n",
    "x.remove(2)\n",
    "print(x)\n",
    "print(not [3, 4])\n",
    "print(not [])"
   ]
  },
  {
   "cell_type": "code",
   "execution_count": 19,
   "metadata": {},
   "outputs": [
    {
     "name": "stdout",
     "output_type": "stream",
     "text": [
      "[2, 3, 4]\n",
      "[2, 3, 4, 6, 7, 8]\n"
     ]
    }
   ],
   "source": [
    "n = [-2, -3, -4]\n",
    "m = [6, 7, 8]\n",
    "print([-1*i for i in n] )\n",
    "\n",
    "print([-1*i for i in n] + [ _ for _ in m]  )"
   ]
  },
  {
   "cell_type": "code",
   "execution_count": 40,
   "metadata": {},
   "outputs": [
    {
     "name": "stdout",
     "output_type": "stream",
     "text": [
      "2\n",
      "3\n",
      "3\n",
      "[[ 1  8]\n",
      " [ 3  7]\n",
      " [ 2  4]\n",
      " [ 6 15]\n",
      " [ 4  2]\n",
      " [ 9 13]\n",
      " [ 5  5]\n",
      " [10 17]]\n"
     ]
    }
   ],
   "source": [
    "import numpy as np\n",
    "# indexing and selecting list\n",
    "print(m.index(8))\n",
    "\n",
    "# indexing and selecting double list\n",
    "doubleli = [[1, 8], [3, 7], [2, 4], [6, 15], [4, 2], [9, 13], [5, 5], [10, 17]]\n",
    "singleli = [i[1] for i in doubleli]\n",
    "s_idx = singleli.index(7)\n",
    "print(doubleli[s_idx][0])\n",
    "\n",
    "# indexing and selecting double list using numpy\n",
    "doublenp = np.array(doubleli)\n",
    "singlenp = doublenp[:,1]\n",
    "snp_idx = np.where(singlenp == 7)\n",
    "print(doublenp[snp_idx][0][0])\n",
    "print(doublenp)"
   ]
  },
  {
   "cell_type": "code",
   "execution_count": 24,
   "metadata": {},
   "outputs": [
    {
     "name": "stdout",
     "output_type": "stream",
     "text": [
      "[[1, 8], [3, 7], [2, 4], [6, 15], [4, 2], [9, 13], [5, 5], [10, 17], [8, 1], [7, 3], [15, 6], [17, 10], [13, 9]]\n",
      "\n",
      "[1, 3, 2, 6, 4, 9, 5, 10, 8, 7, 15, 17, 13]\n",
      "\n",
      "[ 1  3  2  6  4  9  5 10  8  7 15 17 13]\n",
      "\n",
      "[1 3 2 6 4]\n"
     ]
    }
   ],
   "source": [
    "import heapq\n",
    "import numpy as np\n",
    "\n",
    "# slice list of list \n",
    "li = [9, 10, 6, 2, 7, 1, 5, 8, 3, 4, 15, 17, 13]\n",
    "r = li[::-1]\n",
    "minheap_int = []\n",
    "for i in range(len(li)):\n",
    "    heapq.heappush(minheap_int, [li[i], r[i]])\n",
    "\n",
    "n = np.array(minheap_int)\n",
    "print(\"{}\\n\\n{}\\n\\n{}\\n\\n{}\".format(minheap_int, [item[0] for item in minheap_int], n[:,0], n[0:5,0]))"
   ]
  },
  {
   "cell_type": "markdown",
   "metadata": {},
   "source": [
    "## 2D list"
   ]
  },
  {
   "cell_type": "code",
   "execution_count": 3,
   "metadata": {},
   "outputs": [
    {
     "name": "stdout",
     "output_type": "stream",
     "text": [
      "[[7, 8, 9, 4], [4, 5, 6, 7], [1, 2, 3, 5]]\n"
     ]
    }
   ],
   "source": [
    "# reverse matrix\n",
    "\n",
    "mat = [[1,2,3, 5],[4,5,6, 7],[7,8,9, 4]]\n",
    "print(mat[::-1])  # flip\n"
   ]
  },
  {
   "cell_type": "code",
   "execution_count": 4,
   "metadata": {},
   "outputs": [
    {
     "data": {
      "text/plain": [
       "[[1, 4, 7], [2, 5, 8], [3, 6, 9]]"
      ]
     },
     "execution_count": 4,
     "metadata": {},
     "output_type": "execute_result"
    }
   ],
   "source": [
    "l=[[1,2,3],[4,5,6],[7,8,9]]\n",
    "[list(i) for i in zip(*l)]"
   ]
  },
  {
   "cell_type": "code",
   "execution_count": 5,
   "metadata": {},
   "outputs": [
    {
     "data": {
      "text/plain": [
       "[[1, 4, 7], [2, 5, 8], [3, 6, 9], [5, 7, 4]]"
      ]
     },
     "execution_count": 5,
     "metadata": {},
     "output_type": "execute_result"
    }
   ],
   "source": [
    "mat = [[1,2,3, 5],[4,5,6, 7],[7,8,9, 4]]\n",
    "[list(i) for i in zip(*mat)]"
   ]
  },
  {
   "cell_type": "code",
   "execution_count": 15,
   "metadata": {},
   "outputs": [
    {
     "data": {
      "text/plain": [
       "[[1, 4, 7, 7, 2, 7],\n",
       " [2, 5, 8, 8, 1, 7],\n",
       " [3, 6, 9, 5, 3, 8],\n",
       " [4, 5, 8, 8, 5, 8],\n",
       " [5, 3, 6, 2, 6, 9],\n",
       " [6, 2, 9, 1, 9, 9]]"
      ]
     },
     "execution_count": 15,
     "metadata": {},
     "output_type": "execute_result"
    }
   ],
   "source": [
    "mat = [[1,2,3,4,5,6],[4,5,6, 5,3,2],[7,8,9,8,6,9],[7,8,5,8,2,1],[2,1,3,5,6,9],[7,7,8,8,9,9]]\n",
    "[list(i) for i in zip(*mat)]\n"
   ]
  },
  {
   "cell_type": "code",
   "execution_count": 16,
   "metadata": {},
   "outputs": [
    {
     "data": {
      "text/plain": [
       "[[1, 2, 3, 4, 5, 6],\n",
       " [4, 5, 6, 5, 3, 2],\n",
       " [7, 8, 9, 8, 6, 9],\n",
       " [7, 8, 5, 8, 2, 1],\n",
       " [2, 1, 3, 5, 6, 9],\n",
       " [7, 7, 8, 8, 9, 9]]"
      ]
     },
     "execution_count": 16,
     "metadata": {},
     "output_type": "execute_result"
    }
   ],
   "source": [
    "mat"
   ]
  },
  {
   "cell_type": "code",
   "execution_count": 17,
   "metadata": {},
   "outputs": [
    {
     "data": {
      "text/plain": [
       "[(1, 4, 7, 7, 2, 7),\n",
       " (2, 5, 8, 8, 1, 7),\n",
       " (3, 6, 9, 5, 3, 8),\n",
       " (4, 5, 8, 8, 5, 8),\n",
       " (5, 3, 6, 2, 6, 9),\n",
       " (6, 2, 9, 1, 9, 9)]"
      ]
     },
     "execution_count": 17,
     "metadata": {},
     "output_type": "execute_result"
    }
   ],
   "source": [
    "# list banana h tho * use karo\n",
    "#[list(i) for i in zip(*mat)]  \n",
    "[*zip(*mat)]  "
   ]
  },
  {
   "cell_type": "code",
   "execution_count": 19,
   "metadata": {},
   "outputs": [
    {
     "data": {
      "text/plain": [
       "[(6, 2, 9, 1, 9, 9),\n",
       " (5, 3, 6, 2, 6, 9),\n",
       " (4, 5, 8, 8, 5, 8),\n",
       " (3, 6, 9, 5, 3, 8),\n",
       " (2, 5, 8, 8, 1, 7),\n",
       " (1, 4, 7, 7, 2, 7)]"
      ]
     },
     "execution_count": 19,
     "metadata": {},
     "output_type": "execute_result"
    }
   ],
   "source": [
    "[*zip(*mat)][::-1]   # 90 deg flip anticlockwise + 180 deg flip = 90 deg flip clockwise"
   ]
  },
  {
   "cell_type": "code",
   "execution_count": null,
   "metadata": {},
   "outputs": [],
   "source": []
  },
  {
   "cell_type": "code",
   "execution_count": 10,
   "metadata": {},
   "outputs": [
    {
     "data": {
      "text/plain": [
       "[7, 7, 8, 8, 9, 9]"
      ]
     },
     "execution_count": 10,
     "metadata": {},
     "output_type": "execute_result"
    }
   ],
   "source": [
    "mat.pop()"
   ]
  },
  {
   "cell_type": "code",
   "execution_count": 11,
   "metadata": {},
   "outputs": [
    {
     "data": {
      "text/plain": [
       "[1, 2, 3, 4, 5, 6]"
      ]
     },
     "execution_count": 11,
     "metadata": {},
     "output_type": "execute_result"
    }
   ],
   "source": [
    "mat.pop(0)"
   ]
  },
  {
   "cell_type": "code",
   "execution_count": 13,
   "metadata": {},
   "outputs": [
    {
     "data": {
      "text/plain": [
       "[7, 8, 9, 8, 6, 9]"
      ]
     },
     "execution_count": 13,
     "metadata": {},
     "output_type": "execute_result"
    }
   ],
   "source": [
    "[*mat.pop(0)]"
   ]
  },
  {
   "cell_type": "code",
   "execution_count": null,
   "metadata": {},
   "outputs": [],
   "source": []
  },
  {
   "cell_type": "code",
   "execution_count": 57,
   "metadata": {},
   "outputs": [
    {
     "name": "stdout",
     "output_type": "stream",
     "text": [
      "[20, 10, 25, 5, None, None, 30]\n"
     ]
    }
   ],
   "source": [
    "# inserting at non-continuous index in list\n",
    "\n",
    "li = [20, 10, 25, 5]\n",
    "if 6 >= len(li):\n",
    "    for _ in range(len(li), 6+1):\n",
    "        li.append(None)\n",
    "li[6] = 30\n",
    "print(li)"
   ]
  },
  {
   "cell_type": "code",
   "execution_count": 3,
   "metadata": {},
   "outputs": [
    {
     "data": {
      "text/plain": [
       "18"
      ]
     },
     "execution_count": 3,
     "metadata": {},
     "output_type": "execute_result"
    }
   ],
   "source": [
    "# sum of all nos in list\n",
    "a = [2, 3, 5, 8]\n",
    "sum(a)"
   ]
  },
  {
   "cell_type": "code",
   "execution_count": 29,
   "metadata": {},
   "outputs": [
    {
     "name": "stdout",
     "output_type": "stream",
     "text": [
      "2\n",
      "2\n",
      "2\n",
      "1\n",
      "[0, 4, 4, 59]\n"
     ]
    },
    {
     "data": {
      "text/plain": [
       "4"
      ]
     },
     "execution_count": 29,
     "metadata": {},
     "output_type": "execute_result"
    }
   ],
   "source": [
    "# min of list\n",
    "print(min(a))\n",
    "print(min(2, [3, 4, 5]))\n",
    "print(min(2, [1, 3, 4, 5]))\n",
    "print(min([1, 3, 4, 5]))\n",
    "print(min([1, 3, 4, 's'], [8, 3, 4, 5],  [3, 5, 8, 'a'],  [0, 4, 4, 59],  [20, 3, 4, 5]))\n",
    "A = [1, 3, 4, 5, 0, 9]\n",
    "A.index(min(A))"
   ]
  },
  {
   "cell_type": "code",
   "execution_count": 11,
   "metadata": {},
   "outputs": [
    {
     "name": "stdout",
     "output_type": "stream",
     "text": [
      "True\n",
      "False\n",
      "False\n"
     ]
    }
   ],
   "source": [
    "# similar list\n",
    "\n",
    "A = [1, 2, 3]\n",
    "B = [1, 2, 3]\n",
    "C = [1, 2]\n",
    "D = [3, 1, 2]\n",
    "print(A == B)\n",
    "print(A == C)\n",
    "print(A == D)"
   ]
  },
  {
   "cell_type": "code",
   "execution_count": 18,
   "metadata": {},
   "outputs": [
    {
     "name": "stdout",
     "output_type": "stream",
     "text": [
      "False\n",
      "True\n",
      "True\n",
      "False\n",
      "False\n",
      "True\n"
     ]
    }
   ],
   "source": [
    "# any() and all()\n",
    "A = [False, False, False, False, False]\n",
    "B = [False, True, False, False, False]\n",
    "C = [True, True, True, True, True]\n",
    "print(any(A))\n",
    "print(any(B))\n",
    "print(any(C))\n",
    "print(all(A))\n",
    "print(all(B))\n",
    "print(all(C))"
   ]
  },
  {
   "cell_type": "code",
   "execution_count": 31,
   "metadata": {},
   "outputs": [
    {
     "name": "stdout",
     "output_type": "stream",
     "text": [
      "False\n"
     ]
    }
   ],
   "source": [
    "A = [None,None,None,None,None,None]\n",
    "print(any(A))"
   ]
  },
  {
   "cell_type": "code",
   "execution_count": 32,
   "metadata": {},
   "outputs": [
    {
     "name": "stdout",
     "output_type": "stream",
     "text": [
      "False\n"
     ]
    }
   ],
   "source": [
    "A = [None,None,[],None,None,None]\n",
    "print(any(A))"
   ]
  },
  {
   "cell_type": "code",
   "execution_count": 33,
   "metadata": {},
   "outputs": [
    {
     "name": "stdout",
     "output_type": "stream",
     "text": [
      "True\n"
     ]
    }
   ],
   "source": [
    "A = [None,None,1,None,None,None]\n",
    "print(any(A))"
   ]
  },
  {
   "cell_type": "code",
   "execution_count": 34,
   "metadata": {},
   "outputs": [
    {
     "name": "stdout",
     "output_type": "stream",
     "text": [
      "True\n"
     ]
    }
   ],
   "source": [
    "A = [None,None,[1],None,None,None]\n",
    "print(any(A))"
   ]
  },
  {
   "cell_type": "code",
   "execution_count": 29,
   "metadata": {},
   "outputs": [
    {
     "name": "stdout",
     "output_type": "stream",
     "text": [
      "True\n",
      "False\n",
      "False\n",
      "False\n",
      "True\n"
     ]
    }
   ],
   "source": [
    "# all values true\n",
    "l = [1, 3, 4, 5]\n",
    "print(all(l))\n",
    "\n",
    "# all values false\n",
    "l = [0, False]\n",
    "print(all(l))\n",
    "\n",
    "# one false value\n",
    "l = [1, 3, 4, 0]\n",
    "print(all(l))\n",
    "\n",
    "# one true value\n",
    "l = [0, False, 5]\n",
    "print(all(l))\n",
    "\n",
    "# empty iterable\n",
    "l = []\n",
    "print(all(l))"
   ]
  },
  {
   "cell_type": "code",
   "execution_count": 4,
   "metadata": {},
   "outputs": [
    {
     "name": "stdout",
     "output_type": "stream",
     "text": [
      "yes\n",
      "[True, False, False]\n"
     ]
    }
   ],
   "source": [
    "x = [5,4,3]\n",
    "if any([4.5 < l for l in x]):\n",
    "    print(\"yes\")\n",
    "    print([4.5 < l for l in x])"
   ]
  },
  {
   "cell_type": "code",
   "execution_count": 16,
   "metadata": {},
   "outputs": [
    {
     "name": "stdout",
     "output_type": "stream",
     "text": [
      "[1, 3, 5, 7, 9]\n",
      "[1, 6]\n"
     ]
    }
   ],
   "source": [
    "# indexing with steps\n",
    "# The basic slice syntax is i:j:k where i is the starting index, j is the stopping index, and k is the step (k\\neq0).\n",
    "x = [0, 1, 2, 3, 4, 5, 6, 7, 8, 9]\n",
    "print(x[1::2])\n",
    "print(x[1::5])"
   ]
  },
  {
   "cell_type": "code",
   "execution_count": 19,
   "metadata": {},
   "outputs": [
    {
     "name": "stdout",
     "output_type": "stream",
     "text": [
      "Training data: [6, 8, 1, 3, 2]  Test data: [7, 4, 0, 5, 9] original data [6, 8, 1, 3, 2, 7, 4, 0, 5, 9]\n"
     ]
    }
   ],
   "source": [
    "import random\n",
    "# split lists\n",
    "data = [0, 1, 2, 3, 4, 5, 6, 7, 8, 9]\n",
    "random.shuffle(data)\n",
    "\n",
    "cut = random.randint(0, len(data))\n",
    "list_1 = data[:cut]\n",
    "list_2 = data[cut:]\n",
    "\n",
    "\n",
    "print(\"Training data: {}  Test data: {} original data {}\".format(list_1, list_2, data))"
   ]
  },
  {
   "cell_type": "markdown",
   "metadata": {},
   "source": [
    "### Sorted"
   ]
  },
  {
   "cell_type": "code",
   "execution_count": 5,
   "metadata": {},
   "outputs": [
    {
     "data": {
      "text/plain": [
       "[('dave', 'B', 10), ('jane', 'B', 12), ('john', 'A', 15)]"
      ]
     },
     "execution_count": 5,
     "metadata": {},
     "output_type": "execute_result"
    }
   ],
   "source": [
    "student_tuples = [\n",
    "     ('john', 'A', 15),\n",
    "     ('jane', 'B', 12),\n",
    "     ('dave', 'B', 10),\n",
    " ]\n",
    "sorted(student_tuples, key=lambda student: student[2])   # sort by age\n"
   ]
  },
  {
   "cell_type": "code",
   "execution_count": 6,
   "metadata": {},
   "outputs": [
    {
     "data": {
      "text/plain": [
       "[['dave', 'B', 10], ['jane', 'B', 12], ['john', 'A', 15]]"
      ]
     },
     "execution_count": 6,
     "metadata": {},
     "output_type": "execute_result"
    }
   ],
   "source": [
    "student_tuples = [\n",
    "     ['john', 'A', 15],\n",
    "     ['jane', 'B', 12],\n",
    "     ['dave', 'B', 10],\n",
    " ]\n",
    "sorted(student_tuples, key=lambda student: student[2])   # sort by age\n",
    "\n"
   ]
  },
  {
   "cell_type": "code",
   "execution_count": 14,
   "metadata": {},
   "outputs": [
    {
     "name": "stdout",
     "output_type": "stream",
     "text": [
      "[[1, 36, 88], [4, 60, 94], [6, 98, 25], [7, 99, 90], [8, 81, 10], [10, 44, 25]]\n",
      "[[1, 36, 88], [4, 60, 94], [6, 98, 25], [7, 99, 90], [8, 81, 10], [10, 44, 25]]\n",
      "[[10, 44, 25], [4, 60, 94], [8, 81, 10], [1, 36, 88], [6, 98, 25], [7, 99, 90]]\n",
      "[[1, 36, 88], [4, 60, 94], [6, 98, 25], [7, 99, 90], [8, 81, 10], [10, 44, 25]]\n",
      "[[10, 44, 25], [8, 81, 10], [7, 99, 90], [6, 98, 25], [4, 60, 94], [1, 36, 88]]\n"
     ]
    }
   ],
   "source": [
    "jobs = [[10, 44, 25], [4, 60, 94], [8, 81, 10], [1, 36, 88], [6, 98, 25], [7, 99, 90]]\n",
    "\n",
    "print( sorted(jobs, key=lambda jobs_key: jobs_key[0]) )\n",
    "print( sorted(jobs) )\n",
    "                         \n",
    "print(jobs)\n",
    "jobs = sorted(jobs)\n",
    "print(jobs)\n",
    "jobs.reverse()\n",
    "print(jobs)"
   ]
  },
  {
   "cell_type": "code",
   "execution_count": 15,
   "metadata": {},
   "outputs": [
    {
     "name": "stdout",
     "output_type": "stream",
     "text": [
      "[[10, 44, 25], [4, 60, 94], [1, 81, 10], [1, 36, 88], [1, 98, 25], [7, 99, 90]]\n",
      "[[1, 36, 88], [1, 81, 10], [1, 98, 25], [4, 60, 94], [7, 99, 90], [10, 44, 25]]\n"
     ]
    }
   ],
   "source": [
    "# handling ties\n",
    "\n",
    "jobs = [[10, 44, 25], [4, 60, 94], [1, 81, 10], [1, 36, 88], [1, 98, 25], [7, 99, 90]]\n",
    "\n",
    "print(jobs)\n",
    "print( sorted(jobs) )\n"
   ]
  },
  {
   "cell_type": "markdown",
   "metadata": {},
   "source": [
    "### max"
   ]
  },
  {
   "cell_type": "code",
   "execution_count": 9,
   "metadata": {},
   "outputs": [
    {
     "data": {
      "text/plain": [
       "[8, 1, 2, 3]"
      ]
     },
     "execution_count": 9,
     "metadata": {},
     "output_type": "execute_result"
    }
   ],
   "source": [
    "max([3, 7, 2, 1], [ 6, 7, 0, 9], [8, 1, 2, 3]) # list , separated"
   ]
  },
  {
   "cell_type": "code",
   "execution_count": 10,
   "metadata": {},
   "outputs": [
    {
     "data": {
      "text/plain": [
       "[8, 1, 2, 3]"
      ]
     },
     "execution_count": 10,
     "metadata": {},
     "output_type": "execute_result"
    }
   ],
   "source": [
    "max([[3, 7, 2, 1], [ 6, 7, 0, 9], [8, 1, 2, 3]])  # list in list"
   ]
  },
  {
   "cell_type": "code",
   "execution_count": 11,
   "metadata": {},
   "outputs": [
    {
     "data": {
      "text/plain": [
       "[6, 7, 0, 9]"
      ]
     },
     "execution_count": 11,
     "metadata": {},
     "output_type": "execute_result"
    }
   ],
   "source": [
    "max([[3, 7, 2, 1], [ 6, 7, 0, 9], [8, 1, 2, 3]], key= lambda x: x[3]) "
   ]
  },
  {
   "cell_type": "markdown",
   "metadata": {},
   "source": [
    "## Count in list"
   ]
  },
  {
   "cell_type": "code",
   "execution_count": 1,
   "metadata": {},
   "outputs": [
    {
     "data": {
      "text/plain": [
       "2"
      ]
     },
     "execution_count": 1,
     "metadata": {},
     "output_type": "execute_result"
    }
   ],
   "source": [
    "[1, 2, 3, 4, 2, 3].count(3)\n"
   ]
  },
  {
   "cell_type": "code",
   "execution_count": 35,
   "metadata": {},
   "outputs": [
    {
     "data": {
      "text/plain": [
       "[3, 6]"
      ]
     },
     "execution_count": 35,
     "metadata": {},
     "output_type": "execute_result"
    }
   ],
   "source": [
    "[1, 2, 3, 6, 7, 0, 9, 8][2:4]"
   ]
  },
  {
   "cell_type": "code",
   "execution_count": 36,
   "metadata": {},
   "outputs": [
    {
     "data": {
      "text/plain": [
       "[7, 0, 9, 8]"
      ]
     },
     "execution_count": 36,
     "metadata": {},
     "output_type": "execute_result"
    }
   ],
   "source": [
    "[1, 2, 3, 6, 7, 0, 9, 8][4:8]"
   ]
  },
  {
   "cell_type": "markdown",
   "metadata": {},
   "source": [
    "## OR, AND  on list / on ListNode{val: 1, next: ListNode{val: 2, next: ListNode{val: 4, next: None}}}\n",
    "\n",
    "#### So whenever this ListNode{ .. ListNode{ ...}}  comes, think in terms on OR and AND  so that u can apply recursion"
   ]
  },
  {
   "cell_type": "code",
   "execution_count": 4,
   "metadata": {},
   "outputs": [
    {
     "data": {
      "text/plain": [
       "[1, 2, 3, 4, 2, 3]"
      ]
     },
     "execution_count": 4,
     "metadata": {},
     "output_type": "execute_result"
    }
   ],
   "source": [
    "[1, 2, 3, 4, 2, 3] or [1, 2, 3]    # len checked, if 1st doesnt exist return 2nd"
   ]
  },
  {
   "cell_type": "code",
   "execution_count": 5,
   "metadata": {},
   "outputs": [
    {
     "data": {
      "text/plain": [
       "[1, 2, 3, 4, 2, 3]"
      ]
     },
     "execution_count": 5,
     "metadata": {},
     "output_type": "execute_result"
    }
   ],
   "source": [
    "[1, 2, 3, 4, 2, 3] or [1, 2, 3, 6, 7, 0, 9]    # like if l1 not present then only l2"
   ]
  },
  {
   "cell_type": "code",
   "execution_count": 7,
   "metadata": {},
   "outputs": [
    {
     "data": {
      "text/plain": [
       "[1, 2, 3, 6, 7, 0, 9, 8]"
      ]
     },
     "execution_count": 7,
     "metadata": {},
     "output_type": "execute_result"
    }
   ],
   "source": [
    "[] or [1, 2, 3, 6, 7, 0, 9, 8]    "
   ]
  },
  {
   "cell_type": "code",
   "execution_count": 17,
   "metadata": {},
   "outputs": [
    {
     "data": {
      "text/plain": [
       "[]"
      ]
     },
     "execution_count": 17,
     "metadata": {},
     "output_type": "execute_result"
    }
   ],
   "source": [
    "[] or []    "
   ]
  },
  {
   "cell_type": "code",
   "execution_count": 8,
   "metadata": {},
   "outputs": [
    {
     "data": {
      "text/plain": [
       "[1, 2, 3, 6, 7, 0, 9]"
      ]
     },
     "execution_count": 8,
     "metadata": {},
     "output_type": "execute_result"
    }
   ],
   "source": [
    "[1, 2, 3, 4, 2, 3] and [1, 2, 3, 6, 7, 0, 9]    # len checked, greater returned"
   ]
  },
  {
   "cell_type": "code",
   "execution_count": 9,
   "metadata": {},
   "outputs": [
    {
     "data": {
      "text/plain": [
       "[]"
      ]
     },
     "execution_count": 9,
     "metadata": {},
     "output_type": "execute_result"
    }
   ],
   "source": [
    "[] and [1, 2, 3, 6, 7, 0, 9]    # len checked, greater returned, if any null, that is returned"
   ]
  },
  {
   "cell_type": "code",
   "execution_count": 13,
   "metadata": {},
   "outputs": [
    {
     "data": {
      "text/plain": [
       "[]"
      ]
     },
     "execution_count": 13,
     "metadata": {},
     "output_type": "execute_result"
    }
   ],
   "source": [
    "[1, 2, 3, 6, 7, 0, 9] and []   # len checked, greater returned, if any null, that is returned"
   ]
  },
  {
   "cell_type": "code",
   "execution_count": 10,
   "metadata": {},
   "outputs": [
    {
     "data": {
      "text/plain": [
       "[1, 2, 3, 6, 7, 0, 9]"
      ]
     },
     "execution_count": 10,
     "metadata": {},
     "output_type": "execute_result"
    }
   ],
   "source": [
    "[1, 2, 3] and [1, 2, 3, 6, 7, 0, 9]    # len checked, greater returned"
   ]
  },
  {
   "cell_type": "code",
   "execution_count": 12,
   "metadata": {},
   "outputs": [],
   "source": [
    "if [] and [1, 2, 3, 6, 7, 0, 9] :\n",
    "    print(\"Found sth\")\n",
    "if [] :\n",
    "    print(\"Found sth\")"
   ]
  },
  {
   "cell_type": "code",
   "execution_count": 22,
   "metadata": {},
   "outputs": [
    {
     "name": "stdout",
     "output_type": "stream",
     "text": [
      "Found sth\n"
     ]
    }
   ],
   "source": [
    "if [[], [], [1]]  :\n",
    "    print(\"Found sth\")"
   ]
  },
  {
   "cell_type": "code",
   "execution_count": 23,
   "metadata": {},
   "outputs": [
    {
     "name": "stdout",
     "output_type": "stream",
     "text": [
      "Found sth\n"
     ]
    }
   ],
   "source": [
    "if [[], [], []]  :\n",
    "    print(\"Found sth\")"
   ]
  },
  {
   "cell_type": "code",
   "execution_count": 24,
   "metadata": {},
   "outputs": [
    {
     "name": "stdout",
     "output_type": "stream",
     "text": [
      "Found sth\n"
     ]
    }
   ],
   "source": [
    "if [None, None, None]  :\n",
    "    print(\"Found sth\")"
   ]
  },
  {
   "cell_type": "code",
   "execution_count": 25,
   "metadata": {},
   "outputs": [],
   "source": [
    "if None  :\n",
    "    print(\"Found sth\")"
   ]
  },
  {
   "cell_type": "markdown",
   "metadata": {},
   "source": [
    "## NOT of list"
   ]
  },
  {
   "cell_type": "code",
   "execution_count": 14,
   "metadata": {},
   "outputs": [
    {
     "data": {
      "text/plain": [
       "False"
      ]
     },
     "execution_count": 14,
     "metadata": {},
     "output_type": "execute_result"
    }
   ],
   "source": [
    "not [1, 2, 3, 6, 7, 0, 9, 8]  "
   ]
  },
  {
   "cell_type": "code",
   "execution_count": 15,
   "metadata": {},
   "outputs": [
    {
     "data": {
      "text/plain": [
       "True"
      ]
     },
     "execution_count": 15,
     "metadata": {},
     "output_type": "execute_result"
    }
   ],
   "source": [
    "not []  "
   ]
  },
  {
   "cell_type": "code",
   "execution_count": 16,
   "metadata": {},
   "outputs": [
    {
     "data": {
      "text/plain": [
       "False"
      ]
     },
     "execution_count": 16,
     "metadata": {},
     "output_type": "execute_result"
    }
   ],
   "source": [
    "not [1]  "
   ]
  },
  {
   "cell_type": "code",
   "execution_count": 20,
   "metadata": {},
   "outputs": [
    {
     "data": {
      "text/plain": [
       "False"
      ]
     },
     "execution_count": 20,
     "metadata": {},
     "output_type": "execute_result"
    }
   ],
   "source": [
    "not [[], [], []]  "
   ]
  },
  {
   "cell_type": "code",
   "execution_count": 19,
   "metadata": {},
   "outputs": [
    {
     "data": {
      "text/plain": [
       "False"
      ]
     },
     "execution_count": 19,
     "metadata": {},
     "output_type": "execute_result"
    }
   ],
   "source": [
    "not [[], [], [1]]  "
   ]
  },
  {
   "cell_type": "markdown",
   "metadata": {},
   "source": [
    "### Star unpacking\n",
    "A new unpacking feature introducted in python 3 called star unpacking or extended iterable unpacking.\n",
    "\n"
   ]
  },
  {
   "cell_type": "code",
   "execution_count": 18,
   "metadata": {},
   "outputs": [
    {
     "name": "stdout",
     "output_type": "stream",
     "text": [
      "10, [9, 8, 7, 6, 5]\n"
     ]
    }
   ],
   "source": [
    "a, *b = [10, 9, 8, 7, 6, 5]\n",
    "print(\"{}, {}\".format(a, b))"
   ]
  },
  {
   "cell_type": "markdown",
   "metadata": {},
   "source": [
    "### Conditional indexing"
   ]
  },
  {
   "cell_type": "code",
   "execution_count": 12,
   "metadata": {},
   "outputs": [
    {
     "name": "stdout",
     "output_type": "stream",
     "text": [
      "x: [3, 4, 2, 7, 1, 9, 5, 0, 6, 3, 4]\n",
      "y: [0, 0, 0, 10, 10, 10, 3, 3, 3, 0, 10]\n",
      "[None, None, None, 10, 10, 10, 3, 3, 3, None, 10]\n"
     ]
    }
   ],
   "source": [
    "x = [3, 4, 2, 7, 1, 9, 5, 0, 6, 3, 4]\n",
    "y = [0, 0, 0, 10, 10, 10, 3, 3, 3, 0, 10] #parent index\n",
    "print(\"x: {}\\ny: {}\".format(x,y))\n",
    "#c1 = filter(lambda y : y==10, y) \n",
    "c1 = [i if i in (10, 3) else None for i in y]\n",
    "print(c1)"
   ]
  },
  {
   "cell_type": "markdown",
   "metadata": {},
   "source": [
    "### map"
   ]
  },
  {
   "cell_type": "code",
   "execution_count": 19,
   "metadata": {},
   "outputs": [
    {
     "name": "stdout",
     "output_type": "stream",
     "text": [
      "[2, 4, 6, 8]\n",
      "[1, 10, 2, 20, 3, 30, 4, 40]\n"
     ]
    }
   ],
   "source": [
    "list_numbers = [1, 2, 3, 4]\n",
    "\n",
    "map_iterator = list(map(lambda x: x * 2, list_numbers))\n",
    "print(map_iterator)\n",
    "\n",
    "list_numbers = [1, 2, 3, 4]\n",
    "list_result = []\n",
    "map_iterator = list(map(lambda x: list_result.extend([x, x * 10]), list_numbers))\n",
    "print(list_result)"
   ]
  },
  {
   "cell_type": "markdown",
   "metadata": {},
   "source": [
    "### initialize 2D None\n",
    "Don't use $[[v]*n]*n$, it is a trap!   It's because $*$ is copying the address of the object (list).  <br>\n",
    "But t = $[$ $[0]*3$ for $i$ in range(3) $]$ is great\n",
    "\n"
   ]
  },
  {
   "cell_type": "code",
   "execution_count": 9,
   "metadata": {},
   "outputs": [
    {
     "data": {
      "text/plain": [
       "[[0, 0, 0], [0, 0, 0], [0, 0, 0]]"
      ]
     },
     "execution_count": 9,
     "metadata": {},
     "output_type": "execute_result"
    }
   ],
   "source": [
    "a = [[0]*3]*3\n",
    "a"
   ]
  },
  {
   "cell_type": "code",
   "execution_count": 10,
   "metadata": {},
   "outputs": [
    {
     "data": {
      "text/plain": [
       "[[1, 0, 0], [1, 0, 0], [1, 0, 0]]"
      ]
     },
     "execution_count": 10,
     "metadata": {},
     "output_type": "execute_result"
    }
   ],
   "source": [
    "a[0][0]=1\n",
    "a"
   ]
  },
  {
   "cell_type": "code",
   "execution_count": 13,
   "metadata": {},
   "outputs": [
    {
     "data": {
      "text/plain": [
       "array([[0., 0., 0.],\n",
       "       [0., 0., 0.],\n",
       "       [0., 0., 0.],\n",
       "       [0., 0., 0.],\n",
       "       [0., 0., 0.]])"
      ]
     },
     "execution_count": 13,
     "metadata": {},
     "output_type": "execute_result"
    }
   ],
   "source": [
    "import numpy as np\n",
    "#a = numpy.empty((10, 10))\n",
    "a = np.zeros((5, 3))\n",
    "a"
   ]
  },
  {
   "cell_type": "markdown",
   "metadata": {},
   "source": [
    "### iterate reverse"
   ]
  },
  {
   "cell_type": "code",
   "execution_count": 18,
   "metadata": {},
   "outputs": [
    {
     "name": "stdout",
     "output_type": "stream",
     "text": [
      "4\n",
      "3\n",
      "2\n"
     ]
    }
   ],
   "source": [
    "for i in range(4,1,-1):\n",
    "    print(i)"
   ]
  },
  {
   "cell_type": "code",
   "execution_count": 1,
   "metadata": {},
   "outputs": [
    {
     "name": "stdout",
     "output_type": "stream",
     "text": [
      "4\n",
      "3\n",
      "2\n",
      "1\n",
      "0\n"
     ]
    }
   ],
   "source": [
    "for i in range(4,-1,-1):\n",
    "    print(i)"
   ]
  },
  {
   "cell_type": "markdown",
   "metadata": {},
   "source": [
    "### zip\n",
    "zip stops when the shorter of foo or bar stops.\n",
    "\n",
    "In Python 3, zip returns an iterator of tuples, like itertools.izip in Python2. To get a list of tuples, use list(zip(foo, bar)). And to zip until both iterators are exhausted, you would use itertools.zip<br>\n",
    "izip stops when either foo or bar is exhausted. izip_longest stops when both foo and bar are exhausted. When the shorter iterator(s) are exhausted, izip_longest yields a tuple with None in the position corresponding to that iterator. You can also set a different fillvalue besides None if you wish. \n",
    "\n",
    "https://docs.python.org/3/library/itertools.html#itertools.izip_longest"
   ]
  },
  {
   "cell_type": "code",
   "execution_count": 1,
   "metadata": {},
   "outputs": [
    {
     "name": "stdout",
     "output_type": "stream",
     "text": [
      "(1, 10)\n",
      "(2, 20)\n",
      "(3, 30)\n"
     ]
    }
   ],
   "source": [
    "foo = [1, 2, 3, 4, 5]\n",
    "bar = [10, 20, 30]\n",
    "\n",
    "for f, b in zip(foo, bar):\n",
    "    print(f, b)"
   ]
  },
  {
   "cell_type": "markdown",
   "metadata": {},
   "source": [
    "### column selection in 2D list\n",
    " zip does the work but requires single arrays as arguments, the *a syntax unpacks the multidimensional array into single array arguments"
   ]
  },
  {
   "cell_type": "code",
   "execution_count": 2,
   "metadata": {},
   "outputs": [
    {
     "data": {
      "text/plain": [
       "(1, 3, 5)"
      ]
     },
     "execution_count": 2,
     "metadata": {},
     "output_type": "execute_result"
    }
   ],
   "source": [
    "a = [[1, 2], [3, 4], [5, 6]]\n",
    "a2 = zip(*a)\n",
    "a2[0]"
   ]
  },
  {
   "cell_type": "code",
   "execution_count": 14,
   "metadata": {},
   "outputs": [
    {
     "data": {
      "text/plain": [
       "('1', '3', '5')"
      ]
     },
     "execution_count": 14,
     "metadata": {},
     "output_type": "execute_result"
    }
   ],
   "source": [
    "a = [[\"1\", \"2\", \"7\"], [\"3\", \"4\", \"8\"], [\"5\", \"6\", \"9\"]]\n",
    "a2 = zip(*a)\n",
    "a2[0]"
   ]
  },
  {
   "cell_type": "code",
   "execution_count": 23,
   "metadata": {},
   "outputs": [
    {
     "name": "stdout",
     "output_type": "stream",
     "text": [
      "[(['1', '2', '7'],), (['3', '4', '8'],), (['5', '6', '9'],)]\n",
      "[(['1', '2', '7'],), (['3', '4', '8'],)]\n"
     ]
    }
   ],
   "source": [
    "a3 = zip(a)\n",
    "print(a3)\n",
    "print(a3[:2][:2])"
   ]
  },
  {
   "cell_type": "code",
   "execution_count": 25,
   "metadata": {},
   "outputs": [
    {
     "name": "stdout",
     "output_type": "stream",
     "text": [
      "<type 'numpy.ndarray'>\n",
      "[[1 2]\n",
      " [3 4]\n",
      " [5 6]]\n"
     ]
    }
   ],
   "source": [
    "import numpy as np\n",
    "a = [[1, 2], [3, 4], [5, 6]]\n",
    "a_np = np.array(a)\n",
    "print(type(a_np))\n",
    "print(a_np)\n"
   ]
  },
  {
   "cell_type": "markdown",
   "metadata": {},
   "source": [
    "### Count breaks u want to perform and break for loop"
   ]
  },
  {
   "cell_type": "code",
   "execution_count": 25,
   "metadata": {},
   "outputs": [
    {
     "name": "stdout",
     "output_type": "stream",
     "text": [
      "0 2\n",
      "5 4\n",
      "6 5\n"
     ]
    }
   ],
   "source": [
    "x = [2, 3,3,3, 3, 4, 5, 6]\n",
    "blocked = []\n",
    "exe = False\n",
    "for i in range(len(x)-1):\n",
    "    #print(i)\n",
    "    if i in blocked:\n",
    "        #print(blocked)\n",
    "        continue\n",
    "    if x[i] == x[i+1] and i+1 < len(x):\n",
    "        #i += 1\n",
    "        #print('i+1 {}'.format(i+1))\n",
    "        exe = True\n",
    "        blocked.append(i+1)\n",
    "    if exe == True:\n",
    "        exe = False\n",
    "        continue\n",
    "    print(i, x[i])"
   ]
  },
  {
   "cell_type": "markdown",
   "metadata": {},
   "source": [
    "2D list"
   ]
  },
  {
   "cell_type": "code",
   "execution_count": 5,
   "metadata": {},
   "outputs": [
    {
     "name": "stdout",
     "output_type": "stream",
     "text": [
      "[1, 2, 3]\n",
      "[4, 5, 6]\n",
      "[1, 2, 3]\n",
      "3\n",
      "[[1, 7, 3], [4, 5, 6]]\n",
      "[1, 7, 3]\n",
      "[1, 7, 9]\n",
      "[1, 7, 9]\n"
     ]
    }
   ],
   "source": [
    "a = [[1, 2, 3], [4, 5, 6]]\n",
    "print(a[0])\n",
    "print(a[1])\n",
    "b = a[0]\n",
    "print(b)\n",
    "print(a[0][2])\n",
    "a[0][1] = 7\n",
    "print(a)\n",
    "print(b)\n",
    "b[2] = 9\n",
    "print(a[0])\n",
    "print(b)"
   ]
  },
  {
   "cell_type": "code",
   "execution_count": 11,
   "metadata": {},
   "outputs": [
    {
     "name": "stdout",
     "output_type": "stream",
     "text": [
      "[1, 2, 3]\n",
      "[4, 5, 6]\n"
     ]
    }
   ],
   "source": [
    "# for loop:  set to list\n",
    "a = [(1, 2, 3), (4, 5, 6)]\n",
    "for i in a:\n",
    "    i = list(i)\n",
    "    print(i)"
   ]
  },
  {
   "cell_type": "markdown",
   "metadata": {},
   "source": [
    "# Dict"
   ]
  },
  {
   "cell_type": "code",
   "execution_count": 7,
   "metadata": {},
   "outputs": [
    {
     "name": "stdout",
     "output_type": "stream",
     "text": [
      "key : brand value : Ford\n",
      "key : model value : Mustang\n",
      "key : year value : 1964\n"
     ]
    }
   ],
   "source": [
    "d ={\n",
    "  \"brand\": \"Ford\",\n",
    "  \"model\": \"Mustang\",\n",
    "  \"year\": 1964\n",
    "}\n",
    "for key, value in d.items():\n",
    "    print('key : {} value : {}'.format( key, value))"
   ]
  },
  {
   "cell_type": "code",
   "execution_count": 15,
   "metadata": {},
   "outputs": [
    {
     "name": "stdout",
     "output_type": "stream",
     "text": [
      "##dict\n",
      "{'brand': 'Ford', 'model': 'Mustang', 'year': 1964}\n",
      "{'brand': 'Ford', 'model': 'Mustang', 'year': 2018}\n",
      "{2: [3, 4, 5], 4: [5, 6, 7]}\n",
      "[3, 4, 5]\n",
      "{2: [3, 4, 5, 3], 4: [5, 6, 7]}\n",
      "2 found\n",
      "{}\n",
      "{2: [3, 4, 5], 4: [5, 6, 7]}\n",
      "[3, 4, 5, 5, 6, 7]\n",
      "{(2, 4): [3, 4, 5, 5, 6, 7]}\n",
      "a c\n",
      "a b\n",
      "a d\n",
      "c b\n",
      "c d\n",
      "b d\n"
     ]
    }
   ],
   "source": [
    "print(\"##dict\")\n",
    "thisdict ={\n",
    "  \"brand\": \"Ford\",\n",
    "  \"model\": \"Mustang\",\n",
    "  \"year\": 1964\n",
    "}\n",
    "print(thisdict)\n",
    "thisdict[\"year\"] = 2018\n",
    "print(thisdict)\n",
    "x = {2:[3,4,5], 4:[5,6,7]}\n",
    "print(x)\n",
    "print(x[2])\n",
    "x[2].append(3)\n",
    "print(x)\n",
    "for i in x.keys():\n",
    "    x.pop(i)\n",
    "    if(i == 2):\n",
    "        print(\"2 found\")\n",
    "    if(i == 3):\n",
    "        print(\"3 not found\")\n",
    "print(x)\n",
    "x = {2:[3,4,5], 4:[5,6,7]}\n",
    "print(x)\n",
    "a = x[2]\n",
    "b = x[4]\n",
    "c = a+b\n",
    "print(c)\n",
    "x.pop(2)\n",
    "x.pop(4)\n",
    "x[(2,4)] = c\n",
    "print(x)\n",
    "\n",
    "\n",
    "my_dict = {\"a\": 1, \"b\": 2, \"c\": 3, \"d\": 4}\n",
    "\n",
    "from itertools import combinations\n",
    "for key1, key2 in combinations(my_dict.keys(), r = 2):\n",
    "    print key1, key2"
   ]
  },
  {
   "cell_type": "markdown",
   "metadata": {},
   "source": [
    "## Remove a key from dictionary using dict.pop()"
   ]
  },
  {
   "cell_type": "code",
   "execution_count": 14,
   "metadata": {},
   "outputs": [
    {
     "name": "stdout",
     "output_type": "stream",
     "text": [
      "Key 'testing' not found\n"
     ]
    }
   ],
   "source": [
    "wordFreqDic = {}\n",
    "\n",
    "try:\n",
    "    del wordFreqDic[\"testing\"]\n",
    "except KeyError:\n",
    "    print(\"Key 'testing' not found\")"
   ]
  },
  {
   "cell_type": "code",
   "execution_count": 16,
   "metadata": {},
   "outputs": [
    {
     "name": "stdout",
     "output_type": "stream",
     "text": [
      "None\n"
     ]
    }
   ],
   "source": [
    "#Remove a key from dictionary using dict.pop()\n",
    "# dict.pop(key[, default])  # default optional\n",
    "\n",
    "result = wordFreqDic.pop(\"this\", None)     # no KeyError thrown, default None value returned\n",
    "print(result)"
   ]
  },
  {
   "cell_type": "code",
   "execution_count": 4,
   "metadata": {},
   "outputs": [
    {
     "data": {
      "text/plain": [
       "2"
      ]
     },
     "execution_count": 4,
     "metadata": {},
     "output_type": "execute_result"
    }
   ],
   "source": [
    "a = {'foo':42, 'bar':69}\n",
    "len(a)"
   ]
  },
  {
   "cell_type": "code",
   "execution_count": 39,
   "metadata": {},
   "outputs": [
    {
     "name": "stdout",
     "output_type": "stream",
     "text": [
      "2\n",
      "7\n",
      "8\n",
      "{56: 4, 34: 8, 45: 3, 23: 1}\n",
      "{56: 4, 34: 8, 12: 1, 45: 3, 23: 1}\n",
      "{56: 4, 34: 8, 12: 1, 45: 3, 23: 1}\n"
     ]
    }
   ],
   "source": [
    "my_dict = {23: 1, 34: 2, 45: 3, 56: 4}\n",
    "print(my_dict[34])\n",
    "my_dict[34] = 7\n",
    "print(my_dict[34])\n",
    "my_dict[34] += 1\n",
    "print(my_dict[34])\n",
    "print(my_dict)\n",
    "if 12 not in my_dict:\n",
    "    my_dict[12] = 1  \n",
    "print(my_dict)\n",
    "if 34 not in my_dict:\n",
    "    my_dict[34] = 1  \n",
    "print(my_dict)"
   ]
  },
  {
   "cell_type": "code",
   "execution_count": 53,
   "metadata": {},
   "outputs": [
    {
     "name": "stdout",
     "output_type": "stream",
     "text": [
      "{56: 1, 34: 1, 45: 1, 23: 1}\n",
      "{56: 1, 34: 4, 45: 3, 23: 2}\n",
      "{0: 1}\n"
     ]
    }
   ],
   "source": [
    "# dict maintain order  (key max to min)\n",
    "my_dict = {23: 1, 34: 1, 45: 1, 56: 1}\n",
    "print(my_dict)\n",
    "my_dict = {23: 2, 56: 1, 34: 4, 45: 3}\n",
    "print(my_dict)\n",
    "my_dict = {0: 2, 0: 4, 0: 3, 0: 1}\n",
    "print(my_dict)\n"
   ]
  },
  {
   "cell_type": "code",
   "execution_count": 4,
   "metadata": {},
   "outputs": [
    {
     "name": "stdout",
     "output_type": "stream",
     "text": [
      "['6am', 54]\n",
      "['5am', 34]\n",
      "False\n",
      "True\n"
     ]
    }
   ],
   "source": [
    "my_dict = {(0, 0, 13, 'int'): ['5am', 34], (1, 0, 13, 'int'): ['6am', 54], (0, 2, 14, 'int'): ['5am', 34]}\n",
    "\n",
    "print(my_dict[(1, 0, 13, 'int')])\n",
    "print(my_dict[(0, 0, 13, 'int')])\n",
    "print((0, 0, 13, 'idnt') in my_dict)\n",
    "print((0, 0, 13, 'int') in my_dict)"
   ]
  },
  {
   "cell_type": "code",
   "execution_count": 10,
   "metadata": {},
   "outputs": [
    {
     "name": "stdout",
     "output_type": "stream",
     "text": [
      "{'d': 5, 'a': 7, 'c': 3, 'b': 1}\n",
      "['d', 'a', 'c', 'b']\n",
      "['a', 'b', 'c', 'd']\n"
     ]
    }
   ],
   "source": [
    "# sorted access to elements in hashmap\n",
    "\n",
    "sort = {}\n",
    "sort['d'] = 5\n",
    "sort['a'] = 7\n",
    "sort['c'] = 3\n",
    "sort['b'] = 1\n",
    "print(sort)\n",
    "print(list(sort))\n",
    "print(sorted(list(sort)))"
   ]
  },
  {
   "cell_type": "code",
   "execution_count": 6,
   "metadata": {},
   "outputs": [
    {
     "name": "stdout",
     "output_type": "stream",
     "text": [
      "2\n"
     ]
    }
   ],
   "source": [
    "my_dict = {'qw': 0, 'ss': 1, 'sds': 0, 'as': 1}\n",
    "count0 = 0\n",
    "for i in my_dict: \n",
    "    if my_dict[i] == 0: count0 = count0+1 \n",
    "print(count0)"
   ]
  },
  {
   "cell_type": "markdown",
   "metadata": {},
   "source": [
    "### How do I sort a dictionary by value?"
   ]
  },
  {
   "cell_type": "code",
   "execution_count": 12,
   "metadata": {},
   "outputs": [
    {
     "data": {
      "text/plain": [
       "{0: 0, 2: 1, 1: 2, 4: 3, 3: 4}"
      ]
     },
     "execution_count": 12,
     "metadata": {},
     "output_type": "execute_result"
    }
   ],
   "source": [
    "x = {1: 2, 3: 4, 4: 3, 2: 1, 0: 0}\n",
    "{k: v for k, v in sorted(x.items(), key=lambda item: item[1])}\n",
    "{0: 0, 2: 1, 1: 2, 4: 3, 3: 4}"
   ]
  },
  {
   "cell_type": "markdown",
   "metadata": {},
   "source": [
    "# set\n",
    "\n",
    "-------------\n",
    "1.\n",
    "\n",
    "The individual items that you put into a set can't be mutable, because if they changed, the effective hash would change and thus the ability to check for inclusion would break down.\n",
    "\n",
    "Instead, you need to put immutable objects into a set - e.g. frozensets.\n",
    "\n",
    "If you change the return statement from your enum method to...\n",
    "\n",
    "return [frozenset(i) for i in L]\n",
    "...then it should work.\n",
    "\n",
    "------------\n",
    "2.\n",
    "\n",
    "sets are mutable and not hashable and can not be included in other sets.\n",
    "\n",
    "If you need hashable sets you can use frozensets - wich are frozen (immutable) and hence hashable:\n",
    "\n",
    "A = {1, frozenset({2}), 3}\n",
    "B = {frozenset({1, frozenset({2})}), 3, 4}\n",
    "print(A | B)\n",
    "Output:\n",
    "\n",
    "set([1, 3, 4, frozenset([2]), frozenset([1, frozenset([2])])])"
   ]
  },
  {
   "cell_type": "code",
   "execution_count": 9,
   "metadata": {},
   "outputs": [
    {
     "name": "stdout",
     "output_type": "stream",
     "text": [
      "##set\n",
      "set([1, 2, 3, 4])\n",
      "set([1, 2, 3, 4, 5, 6, 7])\n",
      "set([1, 2, 3, 4, 5, 6, 7, (2, 3)])\n",
      "set([1, 2, 3, 4, 5, 6, 7])\n",
      " 'set' object does not support indexing\n"
     ]
    }
   ],
   "source": [
    "print(\"##set\")\n",
    "x = set([1, 2])\n",
    "u = (2, 3)\n",
    "for i in y:\n",
    "    x.add(i) \n",
    "print(x)\n",
    "if isinstance(z, int):\n",
    "    x.add(z)\n",
    "if isinstance(w, list):\n",
    "    for i in w:\n",
    "        x.add(i)\n",
    "print(x)\n",
    "x.add(u)\n",
    "print(x)\n",
    "x.remove(u)\n",
    "print(x)\n",
    "print(\" 'set' object does not support indexing\")"
   ]
  },
  {
   "cell_type": "code",
   "execution_count": 9,
   "metadata": {},
   "outputs": [
    {
     "name": "stdout",
     "output_type": "stream",
     "text": [
      "None\n"
     ]
    }
   ],
   "source": [
    "print((None))"
   ]
  },
  {
   "cell_type": "code",
   "execution_count": 28,
   "metadata": {},
   "outputs": [
    {
     "data": {
      "text/plain": [
       "[1, 3, 5, 7]"
      ]
     },
     "execution_count": 28,
     "metadata": {},
     "output_type": "execute_result"
    }
   ],
   "source": [
    "# find unique elements in list\n",
    "\n",
    "list(set([1, 3, 5, 7, 1, 3, 5, 7]))"
   ]
  },
  {
   "cell_type": "code",
   "execution_count": 26,
   "metadata": {},
   "outputs": [
    {
     "data": {
      "text/plain": [
       "4"
      ]
     },
     "execution_count": 26,
     "metadata": {},
     "output_type": "execute_result"
    }
   ],
   "source": [
    "list_numbers = [1, 2, 3, 4, 4]\n",
    "len(set(list_numbers))"
   ]
  },
  {
   "cell_type": "code",
   "execution_count": 3,
   "metadata": {},
   "outputs": [
    {
     "name": "stdout",
     "output_type": "stream",
     "text": [
      "True\n",
      "False\n"
     ]
    }
   ],
   "source": [
    "print('x' in ('c', 'x'))\n",
    "print('z' in ('c', 'x'))"
   ]
  },
  {
   "cell_type": "code",
   "execution_count": 17,
   "metadata": {},
   "outputs": [
    {
     "name": "stdout",
     "output_type": "stream",
     "text": [
      "False\n",
      "True\n",
      "\n"
     ]
    },
    {
     "ename": "TypeError",
     "evalue": "unhashable type: 'set'",
     "output_type": "error",
     "traceback": [
      "\u001b[0;31m---------------------------------------------------------------------------\u001b[0m",
      "\u001b[0;31mTypeError\u001b[0m                                 Traceback (most recent call last)",
      "\u001b[0;32m<ipython-input-17-fd4018689c00>\u001b[0m in \u001b[0;36m<module>\u001b[0;34m\u001b[0m\n\u001b[1;32m     13\u001b[0m \u001b[0;34m\u001b[0m\u001b[0m\n\u001b[1;32m     14\u001b[0m \u001b[0;34m\u001b[0m\u001b[0m\n\u001b[0;32m---> 15\u001b[0;31m \u001b[0ma_set\u001b[0m \u001b[0;34m=\u001b[0m \u001b[0mset\u001b[0m\u001b[0;34m(\u001b[0m\u001b[0;34m[\u001b[0m\u001b[0mset\u001b[0m\u001b[0;34m(\u001b[0m\u001b[0;34m[\u001b[0m\u001b[0;34m'a'\u001b[0m\u001b[0;34m,\u001b[0m \u001b[0;34m'b'\u001b[0m\u001b[0;34m,\u001b[0m \u001b[0;34m'c'\u001b[0m\u001b[0;34m,\u001b[0m \u001b[0;34m'd'\u001b[0m\u001b[0;34m]\u001b[0m\u001b[0;34m)\u001b[0m\u001b[0;34m,\u001b[0m \u001b[0mset\u001b[0m\u001b[0;34m(\u001b[0m\u001b[0;34m[\u001b[0m\u001b[0;34m'a'\u001b[0m\u001b[0;34m]\u001b[0m\u001b[0;34m)\u001b[0m\u001b[0;34m,\u001b[0m \u001b[0mset\u001b[0m\u001b[0;34m(\u001b[0m\u001b[0;34m[\u001b[0m\u001b[0;34m'b'\u001b[0m\u001b[0;34m,\u001b[0m \u001b[0;34m'c'\u001b[0m\u001b[0;34m]\u001b[0m\u001b[0;34m)\u001b[0m\u001b[0;34m]\u001b[0m\u001b[0;34m)\u001b[0m\u001b[0;34m\u001b[0m\u001b[0;34m\u001b[0m\u001b[0m\n\u001b[0m\u001b[1;32m     16\u001b[0m \u001b[0;34m\u001b[0m\u001b[0m\n\u001b[1;32m     17\u001b[0m \u001b[0mprint\u001b[0m\u001b[0;34m(\u001b[0m\u001b[0mset\u001b[0m\u001b[0;34m(\u001b[0m\u001b[0;34m[\u001b[0m\u001b[0;34m'c'\u001b[0m\u001b[0;34m,\u001b[0m \u001b[0;34m'b'\u001b[0m\u001b[0;34m]\u001b[0m\u001b[0;34m)\u001b[0m \u001b[0;32min\u001b[0m \u001b[0ma_set\u001b[0m\u001b[0;34m)\u001b[0m   \u001b[0;31m# Wrong way\u001b[0m\u001b[0;34m\u001b[0m\u001b[0;34m\u001b[0m\u001b[0m\n",
      "\u001b[0;31mTypeError\u001b[0m: unhashable type: 'set'"
     ]
    }
   ],
   "source": [
    "# subset check\n",
    "\n",
    "a_set = set(['a', 'b', 'c', 'd'])\n",
    "\n",
    "print(set(['d', 'a']) in a_set)   # Wrong way\n",
    "\n",
    "print(set(['d', 'a']) <= a_set)   #Right way\n",
    "\n",
    "print()\n",
    "\n",
    "# subset of sets check\n",
    "#a_set = set([['a', 'b', 'c', 'd'] ['a'], ['b', 'c']])\n",
    "\n",
    "\n",
    "a_set = set([set(['a', 'b', 'c', 'd']), set(['a']), set(['b', 'c'])])\n",
    "\n",
    "print(set(['c', 'b']) in a_set)   # Wrong way\n",
    "\n",
    "print(set(['c', 'b']) <= a_set)   #Right way\n"
   ]
  },
  {
   "cell_type": "code",
   "execution_count": 20,
   "metadata": {},
   "outputs": [
    {
     "data": {
      "text/plain": [
       "{1, 2, 3, 4, 5, 6, 7, 8, 9}"
      ]
     },
     "execution_count": 20,
     "metadata": {},
     "output_type": "execute_result"
    }
   ],
   "source": [
    "x = set([1, 2, 3, 4, 5, 6, 7])\n",
    "y = set([1, 2, 3, 8, 9])\n",
    "\n",
    "\n",
    "# union       s.union(t)\n",
    "\n",
    "x | y  # syntax is not not x or y "
   ]
  },
  {
   "cell_type": "code",
   "execution_count": 21,
   "metadata": {},
   "outputs": [
    {
     "data": {
      "text/plain": [
       "{1, 2, 3}"
      ]
     },
     "execution_count": 21,
     "metadata": {},
     "output_type": "execute_result"
    }
   ],
   "source": [
    "\n",
    "# intersection      s.intersection(t)\n",
    "\n",
    "x & y  # syntax is not not x and y "
   ]
  },
  {
   "cell_type": "code",
   "execution_count": 24,
   "metadata": {},
   "outputs": [
    {
     "data": {
      "text/plain": [
       "{4, 5, 6, 7}"
      ]
     },
     "execution_count": 24,
     "metadata": {},
     "output_type": "execute_result"
    }
   ],
   "source": [
    "x - y"
   ]
  },
  {
   "cell_type": "code",
   "execution_count": 27,
   "metadata": {},
   "outputs": [
    {
     "data": {
      "text/plain": [
       "{1, 2, 3, 4, 5, 6, 7}"
      ]
     },
     "execution_count": 27,
     "metadata": {},
     "output_type": "execute_result"
    }
   ],
   "source": [
    "x"
   ]
  },
  {
   "cell_type": "code",
   "execution_count": 15,
   "metadata": {},
   "outputs": [
    {
     "data": {
      "text/plain": [
       "False"
      ]
     },
     "execution_count": 15,
     "metadata": {},
     "output_type": "execute_result"
    }
   ],
   "source": [
    "#  subset   s.issubset(t)   s <= t\n",
    "\n",
    "x <= y\n",
    "\n"
   ]
  },
  {
   "cell_type": "code",
   "execution_count": 12,
   "metadata": {},
   "outputs": [
    {
     "data": {
      "text/plain": [
       "False"
      ]
     },
     "execution_count": 12,
     "metadata": {},
     "output_type": "execute_result"
    }
   ],
   "source": [
    "# superset  s.issuperset(t)\n",
    "\n",
    "x >= y\n",
    "\n"
   ]
  },
  {
   "cell_type": "code",
   "execution_count": 13,
   "metadata": {},
   "outputs": [
    {
     "data": {
      "text/plain": [
       "{4, 5, 6, 7, 8, 9}"
      ]
     },
     "execution_count": 13,
     "metadata": {},
     "output_type": "execute_result"
    }
   ],
   "source": [
    "# s.symmetric_difference(t)  new set with elements in either s or t but not both\n",
    "\n",
    "\n",
    "x ^ y\n"
   ]
  },
  {
   "cell_type": "code",
   "execution_count": 17,
   "metadata": {},
   "outputs": [
    {
     "data": {
      "text/plain": [
       "True"
      ]
     },
     "execution_count": 17,
     "metadata": {},
     "output_type": "execute_result"
    }
   ],
   "source": [
    "x = set([1, 2, 8, 3, 4, 5, 6, 9, 7])\n",
    "y = set([1, 2, 3, 8, 9, 4, 5, 6, 7])\n",
    "\n",
    "x == y"
   ]
  },
  {
   "cell_type": "code",
   "execution_count": 20,
   "metadata": {},
   "outputs": [
    {
     "ename": "TypeError",
     "evalue": "set expected at most 1 arguments, got 2",
     "output_type": "error",
     "traceback": [
      "\u001b[0;31m---------------------------------------------------------------------------\u001b[0m",
      "\u001b[0;31mTypeError\u001b[0m                                 Traceback (most recent call last)",
      "\u001b[0;32m<ipython-input-20-ada2526945a1>\u001b[0m in \u001b[0;36m<module>\u001b[0;34m\u001b[0m\n\u001b[1;32m      1\u001b[0m \u001b[0mx\u001b[0m \u001b[0;34m=\u001b[0m \u001b[0mset\u001b[0m\u001b[0;34m(\u001b[0m\u001b[0;34m)\u001b[0m\u001b[0;34m\u001b[0m\u001b[0;34m\u001b[0m\u001b[0m\n\u001b[0;32m----> 2\u001b[0;31m \u001b[0mx\u001b[0m\u001b[0;34m.\u001b[0m\u001b[0madd\u001b[0m\u001b[0;34m(\u001b[0m\u001b[0;34m[\u001b[0m\u001b[0mset\u001b[0m\u001b[0;34m(\u001b[0m\u001b[0;36m1\u001b[0m\u001b[0;34m,\u001b[0m \u001b[0;36m2\u001b[0m\u001b[0;34m)\u001b[0m\u001b[0;34m]\u001b[0m\u001b[0;34m)\u001b[0m\u001b[0;34m\u001b[0m\u001b[0;34m\u001b[0m\u001b[0m\n\u001b[0m\u001b[1;32m      3\u001b[0m \u001b[0mx\u001b[0m\u001b[0;34m.\u001b[0m\u001b[0madd\u001b[0m\u001b[0;34m(\u001b[0m\u001b[0mset\u001b[0m\u001b[0;34m(\u001b[0m\u001b[0;36m3\u001b[0m\u001b[0;34m,\u001b[0m \u001b[0;36m4\u001b[0m\u001b[0;34m,\u001b[0m \u001b[0;36m5\u001b[0m\u001b[0;34m)\u001b[0m\u001b[0;34m)\u001b[0m\u001b[0;34m\u001b[0m\u001b[0;34m\u001b[0m\u001b[0m\n\u001b[1;32m      4\u001b[0m \u001b[0my\u001b[0m\u001b[0;34m.\u001b[0m\u001b[0madd\u001b[0m\u001b[0;34m(\u001b[0m\u001b[0mset\u001b[0m\u001b[0;34m(\u001b[0m\u001b[0;36m4\u001b[0m\u001b[0;34m,\u001b[0m \u001b[0;36m3\u001b[0m\u001b[0;34m,\u001b[0m \u001b[0;36m5\u001b[0m\u001b[0;34m)\u001b[0m\u001b[0;34m)\u001b[0m\u001b[0;34m\u001b[0m\u001b[0;34m\u001b[0m\u001b[0m\n\u001b[1;32m      5\u001b[0m \u001b[0mx\u001b[0m\u001b[0;34m.\u001b[0m\u001b[0madd\u001b[0m\u001b[0;34m(\u001b[0m\u001b[0mset\u001b[0m\u001b[0;34m(\u001b[0m\u001b[0;36m3\u001b[0m\u001b[0;34m,\u001b[0m \u001b[0;36m4\u001b[0m\u001b[0;34m,\u001b[0m \u001b[0;36m6\u001b[0m\u001b[0;34m)\u001b[0m\u001b[0;34m)\u001b[0m\u001b[0;34m\u001b[0m\u001b[0;34m\u001b[0m\u001b[0m\n",
      "\u001b[0;31mTypeError\u001b[0m: set expected at most 1 arguments, got 2"
     ]
    }
   ],
   "source": [
    "x = set()\n",
    "x.add(set(1, 2))\n",
    "x.add(set(3, 4, 5))\n",
    "y.add(set(4, 3, 5))\n",
    "x.add(set(3, 4, 6))\n",
    "y.add(set(4, 3, 7))\n",
    "\n",
    "if set(2, 1) in x: print(\"jumbled in set 2\")"
   ]
  },
  {
   "cell_type": "code",
   "execution_count": 28,
   "metadata": {},
   "outputs": [
    {
     "data": {
      "text/plain": [
       "{'a', 'b', 'c', 'd'}"
      ]
     },
     "execution_count": 28,
     "metadata": {},
     "output_type": "execute_result"
    }
   ],
   "source": [
    "set('abcd')"
   ]
  },
  {
   "cell_type": "code",
   "execution_count": 29,
   "metadata": {},
   "outputs": [
    {
     "data": {
      "text/plain": [
       "{'abcd'}"
      ]
     },
     "execution_count": 29,
     "metadata": {},
     "output_type": "execute_result"
    }
   ],
   "source": [
    "set(['abcd'])"
   ]
  },
  {
   "cell_type": "code",
   "execution_count": 32,
   "metadata": {},
   "outputs": [
    {
     "name": "stdout",
     "output_type": "stream",
     "text": [
      "{'abc', 'xyz'}\n"
     ]
    }
   ],
   "source": [
    "z = set(['abc'])  # first must be a list with string inside , set() takes [] \n",
    "z.add('xyz')    # 2nd shouldnt be a list but just object to be added\n",
    "print(z)"
   ]
  },
  {
   "cell_type": "code",
   "execution_count": 33,
   "metadata": {},
   "outputs": [],
   "source": [
    "w = set()\n",
    "\n",
    "for i in list(w):\n",
    "    print('reached')"
   ]
  },
  {
   "cell_type": "code",
   "execution_count": 37,
   "metadata": {},
   "outputs": [
    {
     "name": "stdout",
     "output_type": "stream",
     "text": [
      "reached mango\n"
     ]
    }
   ],
   "source": [
    "w = set([\"mango\"])\n",
    "\n",
    "for i in w:\n",
    "    print('reached', i)"
   ]
  },
  {
   "cell_type": "code",
   "execution_count": 38,
   "metadata": {},
   "outputs": [],
   "source": [
    "if set(): print('Empty')"
   ]
  },
  {
   "cell_type": "code",
   "execution_count": 39,
   "metadata": {},
   "outputs": [
    {
     "name": "stdout",
     "output_type": "stream",
     "text": [
      "Empty\n"
     ]
    }
   ],
   "source": [
    "if not set(): print('Empty')"
   ]
  },
  {
   "cell_type": "markdown",
   "metadata": {},
   "source": [
    "# tuple"
   ]
  },
  {
   "cell_type": "code",
   "execution_count": 16,
   "metadata": {},
   "outputs": [
    {
     "name": "stdout",
     "output_type": "stream",
     "text": [
      "##tuple\n",
      "(2,)\n",
      "(3, 4)\n",
      "(3, 4, 2)\n",
      "(2,)\n",
      "(3, 4)\n",
      "(3, 4)\n",
      "(3, 4)\n",
      "[3, 4]\n"
     ]
    }
   ],
   "source": [
    "print(\"##tuple\")\n",
    "x = 2\n",
    "y = [3, 4]\n",
    "print((x, ))\n",
    "print(tuple(y))\n",
    "print(tuple(y) + (x, ))\n",
    "\n",
    "print(tuple((x, )))\n",
    "print(tuple(tuple(y)))\n",
    "y = tuple(y)\n",
    "print(y)\n",
    "y = tuple(y)\n",
    "print(y)\n",
    "print(list(y))"
   ]
  },
  {
   "cell_type": "code",
   "execution_count": 11,
   "metadata": {},
   "outputs": [
    {
     "name": "stdout",
     "output_type": "stream",
     "text": [
      "[1, 2]\n",
      "[3, 4, 1, 5, 6]\n",
      "[3, 4, 1, [5, 6]]\n"
     ]
    }
   ],
   "source": [
    "print([1, 2])\n",
    "x = [3, 4]\n",
    "x.append(1)\n",
    "print(x+[5,6])\n",
    "x.append([5, 6])\n",
    "print(x)"
   ]
  },
  {
   "cell_type": "markdown",
   "metadata": {},
   "source": [
    "# String"
   ]
  },
  {
   "cell_type": "code",
   "execution_count": 1,
   "metadata": {},
   "outputs": [
    {
     "name": "stdout",
     "output_type": "stream",
     "text": [
      "True\n",
      "False\n",
      "False\n",
      "False\n",
      "True\n",
      "True\n"
     ]
    }
   ],
   "source": [
    "# string comparison\n",
    "\n",
    "fruit1 = 'Apple'\n",
    "\n",
    "print(fruit1 == 'Apple')\n",
    "print(fruit1 != 'Apple')\n",
    "print(fruit1 < 'Apple')\n",
    "print(fruit1 > 'Apple')\n",
    "print(fruit1 <= 'Apple')\n",
    "print(fruit1 >= 'Apple')"
   ]
  },
  {
   "cell_type": "code",
   "execution_count": 2,
   "metadata": {},
   "outputs": [
    {
     "name": "stdout",
     "output_type": "stream",
     "text": [
      "False\n",
      "True\n",
      "A unicode is 65 ,a unicode is 97\n",
      "True\n",
      "False\n",
      "False\n"
     ]
    }
   ],
   "source": [
    "print('apple' == 'Apple')\n",
    "print('apple' > 'Apple')\n",
    "print('A unicode is', ord('A'), ',a unicode is', ord('a'))\n",
    "print('Apple' < 'ApplePie')\n",
    "print('apple' < 'apple')\n",
    "print('apple' > 'apple')"
   ]
  },
  {
   "cell_type": "code",
   "execution_count": 6,
   "metadata": {},
   "outputs": [
    {
     "name": "stdout",
     "output_type": "stream",
     "text": [
      "True\n",
      "False\n",
      "True\n",
      "True\n"
     ]
    }
   ],
   "source": [
    "print('a2b3c4' < 'a2b3c5')\n",
    "print('a2b3c4' >= 'a2b3c5')\n",
    "print('a2b3c4' == 'a2b3c4')\n",
    "print('a2b3c4' < 'a2b3c4d2')"
   ]
  },
  {
   "cell_type": "code",
   "execution_count": 14,
   "metadata": {},
   "outputs": [
    {
     "name": "stdout",
     "output_type": "stream",
     "text": [
      "['1', '37', '79', '164', '155', '32', '87', '39', '113', '15', '18', '78', '175', '140', '200', '4', '160', '97', '191', '100', '91', '20', '69', '198', '196']\n",
      "['2', '123', '134', '10', '141', '13', '12', '43', '47', '3', '177', '101', '179', '77', '182', '117', '116', '36', '103', '51', '154', '162', '128', '30']\n",
      "['3', '48', '123', '134', '109', '41', '17', '159', '49', '136', '16', '130', '141', '29', '176', '2', '190', '66', '153', '157', '70', '114', '65', '173', '104', '194', '54']\n",
      "[]\n"
     ]
    }
   ],
   "source": [
    "IntegerMatrixString = [['1\\t37\\t79\\t164\\t155\\t32\\t87\\t39\\t113\\t15\\t18\\t78\\t175\\t140\\t200\\t4\\t160\\t97\\t191\\t100\\t91\\t20\\t69\\t198\\t196\\t'], ['2\\t123\\t134\\t10\\t141\\t13\\t12\\t43\\t47\\t3\\t177\\t101\\t179\\t77\\t182\\t117\\t116\\t36\\t103\\t51\\t154\\t162\\t128\\t30\\t'], ['3\\t48\\t123\\t134\\t109\\t41\\t17\\t159\\t49\\t136\\t16\\t130\\t141\\t29\\t176\\t2\\t190\\t66\\t153\\t157\\t70\\t114\\t65\\t173\\t104\\t194\\t54\\t']]\n",
    "\n",
    "IntegerMatrix = []\n",
    "for i in range(len(IntegerMatrixString)):\n",
    "    IntegerMatrixString[i][0] = IntegerMatrixString[i][0][:-1]\n",
    "    IntegerMatrixString[i] = IntegerMatrixString[i][0].split('\\t')\n",
    "    print(IntegerMatrixString[i])\n",
    "\n",
    "print(IntegerMatrix)"
   ]
  },
  {
   "cell_type": "code",
   "execution_count": 32,
   "metadata": {},
   "outputs": [
    {
     "name": "stdout",
     "output_type": "stream",
     "text": [
      "12\n",
      "['1', '2']\n",
      "2\n"
     ]
    }
   ],
   "source": [
    "# split word into letters\n",
    "a = '1'+'2'\n",
    "print(a)\n",
    "print(list(a))\n",
    "print(list(a)[-1])"
   ]
  },
  {
   "cell_type": "code",
   "execution_count": 46,
   "metadata": {},
   "outputs": [
    {
     "name": "stdout",
     "output_type": "stream",
     "text": [
      "['123', '456', '']\n",
      "123 456 \n",
      "['1', '1', '']\n",
      "1 1 \n",
      "['2', '2', '']\n",
      "2 2 \n"
     ]
    },
    {
     "data": {
      "image/png": "[encoded data removed]",
      "text/plain": [
       "<matplotlib.figure.Figure at 0x1148e88d0>"
      ]
     },
     "metadata": {},
     "output_type": "display_data"
    }
   ],
   "source": [
    "import networkx as nx\n",
    "DG = nx.DiGraph()\n",
    "reverseDG = nx.DiGraph()\n",
    "\n",
    "b = ['123 456 ', '1 1 ', '2 2 ']\n",
    "for i in b:\n",
    "    from_to = i.split(' ')\n",
    "    print(from_to)\n",
    "    print(i)\n",
    "    fromint = int(from_to[0])\n",
    "    toint = int(from_to[1])\n",
    "    DG.add_edge(fromint, toint)\n",
    "\n",
    "nx.draw(DG, with_labels = True)"
   ]
  },
  {
   "cell_type": "code",
   "execution_count": 14,
   "metadata": {},
   "outputs": [
    {
     "name": "stdout",
     "output_type": "stream",
     "text": [
      "[1, 37, 79, 164, 91]\n"
     ]
    }
   ],
   "source": [
    "len_str = '1,37,79,164,91'\n",
    "len_int = [ int(i) for i in len_str.split(',')]\n",
    "print(len_int)"
   ]
  },
  {
   "cell_type": "code",
   "execution_count": 11,
   "metadata": {},
   "outputs": [
    {
     "name": "stdout",
     "output_type": "stream",
     "text": [
      "['0', '0', '1', 't', 'h', 'e', 'f', 'i', 's', 'h']\n"
     ]
    }
   ],
   "source": [
    "# Split string into characters\n",
    "x = '001thefish'\n",
    "print(list(x))"
   ]
  },
  {
   "cell_type": "code",
   "execution_count": 14,
   "metadata": {},
   "outputs": [
    {
     "name": "stdout",
     "output_type": "stream",
     "text": [
      "0,0,1,t,h,e,f,i,s,h\n"
     ]
    }
   ],
   "source": [
    "print(','.join(list(x)))"
   ]
  },
  {
   "cell_type": "code",
   "execution_count": 19,
   "metadata": {},
   "outputs": [
    {
     "name": "stdout",
     "output_type": "stream",
     "text": [
      "None,a,3\n"
     ]
    }
   ],
   "source": [
    "print(','.join(['None', 'a', '3']))"
   ]
  },
  {
   "cell_type": "code",
   "execution_count": 12,
   "metadata": {},
   "outputs": [
    {
     "name": "stdout",
     "output_type": "stream",
     "text": [
      "1, 2, 3, 4\n",
      "1, 2, 3, 4\n"
     ]
    }
   ],
   "source": [
    "numList = ['1', '2', '3', '4']\n",
    "seperator = ', '\n",
    "print(seperator.join(numList))\n",
    "\n",
    "numTuple = ('1', '2', '3', '4')\n",
    "print(seperator.join(numTuple))"
   ]
  },
  {
   "cell_type": "code",
   "execution_count": 21,
   "metadata": {},
   "outputs": [
    {
     "name": "stdout",
     "output_type": "stream",
     "text": [
      "['None', 'a', '3']\n"
     ]
    }
   ],
   "source": [
    "print('None,a,3'.split(','))"
   ]
  },
  {
   "cell_type": "code",
   "execution_count": 5,
   "metadata": {},
   "outputs": [
    {
     "data": {
      "text/plain": [
       "'de'"
      ]
     },
     "execution_count": 5,
     "metadata": {},
     "output_type": "execute_result"
    }
   ],
   "source": [
    "s = 'abcde'\n",
    "s[-2:]"
   ]
  },
  {
   "cell_type": "code",
   "execution_count": 1,
   "metadata": {},
   "outputs": [
    {
     "data": {
      "text/plain": [
       "'ab'"
      ]
     },
     "execution_count": 1,
     "metadata": {},
     "output_type": "execute_result"
    }
   ],
   "source": [
    "'a'+'b'"
   ]
  },
  {
   "cell_type": "code",
   "execution_count": 2,
   "metadata": {},
   "outputs": [
    {
     "data": {
      "text/plain": [
       "'ab'"
      ]
     },
     "execution_count": 2,
     "metadata": {},
     "output_type": "execute_result"
    }
   ],
   "source": [
    "a = 'a'\n",
    "b = 'b'\n",
    "a+b"
   ]
  },
  {
   "cell_type": "code",
   "execution_count": 20,
   "metadata": {},
   "outputs": [
    {
     "name": "stdout",
     "output_type": "stream",
     "text": [
      "['2', '3', '4', '5', '2']\n",
      "2345\n",
      "2\n"
     ]
    },
    {
     "ename": "TypeError",
     "evalue": "'str' object does not support item assignment",
     "output_type": "error",
     "traceback": [
      "\u001b[0;31m---------------------------------------------------------------------------\u001b[0m",
      "\u001b[0;31mTypeError\u001b[0m                                 Traceback (most recent call last)",
      "\u001b[0;32m<ipython-input-20-7471d3ec3d8d>\u001b[0m in \u001b[0;36m<module>\u001b[0;34m\u001b[0m\n\u001b[1;32m     13\u001b[0m \u001b[0my\u001b[0m \u001b[0;34m=\u001b[0m \u001b[0;34m'23452'\u001b[0m\u001b[0;34m\u001b[0m\u001b[0;34m\u001b[0m\u001b[0m\n\u001b[1;32m     14\u001b[0m \u001b[0mz\u001b[0m \u001b[0;34m=\u001b[0m \u001b[0mcopy\u001b[0m\u001b[0;34m.\u001b[0m\u001b[0mdeepcopy\u001b[0m\u001b[0;34m(\u001b[0m\u001b[0my\u001b[0m\u001b[0;34m)\u001b[0m\u001b[0;34m\u001b[0m\u001b[0;34m\u001b[0m\u001b[0m\n\u001b[0;32m---> 15\u001b[0;31m \u001b[0mz\u001b[0m\u001b[0;34m[\u001b[0m\u001b[0;36m4\u001b[0m\u001b[0;34m:\u001b[0m\u001b[0;36m5\u001b[0m\u001b[0;34m]\u001b[0m \u001b[0;34m=\u001b[0m \u001b[0;34m''\u001b[0m\u001b[0;34m\u001b[0m\u001b[0;34m\u001b[0m\u001b[0m\n\u001b[0m\u001b[1;32m     16\u001b[0m \u001b[0mprint\u001b[0m\u001b[0;34m(\u001b[0m\u001b[0my\u001b[0m\u001b[0;34m)\u001b[0m\u001b[0;34m\u001b[0m\u001b[0;34m\u001b[0m\u001b[0m\n\u001b[1;32m     17\u001b[0m \u001b[0mprint\u001b[0m\u001b[0;34m(\u001b[0m\u001b[0mint\u001b[0m\u001b[0;34m(\u001b[0m\u001b[0mz\u001b[0m\u001b[0;34m)\u001b[0m\u001b[0;34m)\u001b[0m\u001b[0;34m\u001b[0m\u001b[0;34m\u001b[0m\u001b[0m\n",
      "\u001b[0;31mTypeError\u001b[0m: 'str' object does not support item assignment"
     ]
    }
   ],
   "source": [
    "import copy\n",
    "\n",
    "#  convert to list #######################\n",
    "y = '23452'\n",
    "y = list(y)\n",
    "z = copy.deepcopy(y)\n",
    "del z[4]\n",
    "print(y)\n",
    "print(int(''.join(z)))\n",
    "print(y[0])\n",
    "\n",
    "# since we cant manipulate string #######################\n",
    "y = '23452'\n",
    "z = copy.deepcopy(y)\n",
    "z[4:5] = ''\n",
    "print(y)\n",
    "print(int(z))\n"
   ]
  },
  {
   "cell_type": "code",
   "execution_count": 17,
   "metadata": {},
   "outputs": [
    {
     "name": "stdout",
     "output_type": "stream",
     "text": [
      "DCBA\n"
     ]
    }
   ],
   "source": [
    "# reverse string\n",
    "string = 'ABCD'\n",
    "string = string[::-1]\n",
    "print(string)"
   ]
  },
  {
   "cell_type": "code",
   "execution_count": 15,
   "metadata": {},
   "outputs": [
    {
     "name": "stdout",
     "output_type": "stream",
     "text": [
      "ABC\n",
      "Found\n"
     ]
    }
   ],
   "source": [
    "#substring \n",
    "string = 'ABCD'\n",
    "print(string[:-1])\n",
    "\n",
    "# contains using in operator\n",
    "if 'BC' in string: print('Found')\n",
    "if 'bC' in string: print('Not found')"
   ]
  },
  {
   "cell_type": "code",
   "execution_count": 1,
   "metadata": {},
   "outputs": [
    {
     "name": "stdout",
     "output_type": "stream",
     "text": [
      "A\n",
      "B\n",
      "C\n",
      "E\n",
      "D\n"
     ]
    }
   ],
   "source": [
    "s = 'ABCED'\n",
    "for i in s:\n",
    "    print(i)"
   ]
  },
  {
   "cell_type": "code",
   "execution_count": 2,
   "metadata": {},
   "outputs": [
    {
     "ename": "TypeError",
     "evalue": "'str' object does not support item assignment",
     "output_type": "error",
     "traceback": [
      "\u001b[0;31m---------------------------------------------------------------------------\u001b[0m",
      "\u001b[0;31mTypeError\u001b[0m                                 Traceback (most recent call last)",
      "\u001b[0;32m<ipython-input-2-45fad283caa5>\u001b[0m in \u001b[0;36m<module>\u001b[0;34m\u001b[0m\n\u001b[1;32m      1\u001b[0m \u001b[0ms\u001b[0m \u001b[0;34m=\u001b[0m \u001b[0;34m'ABCED'\u001b[0m\u001b[0;34m\u001b[0m\u001b[0;34m\u001b[0m\u001b[0m\n\u001b[1;32m      2\u001b[0m \u001b[0msreg\u001b[0m \u001b[0;34m=\u001b[0m \u001b[0ms\u001b[0m\u001b[0;34m\u001b[0m\u001b[0;34m\u001b[0m\u001b[0m\n\u001b[0;32m----> 3\u001b[0;31m \u001b[0msreg\u001b[0m\u001b[0;34m[\u001b[0m\u001b[0;36m0\u001b[0m\u001b[0;34m]\u001b[0m \u001b[0;34m=\u001b[0m \u001b[0;34m'z'\u001b[0m\u001b[0;34m\u001b[0m\u001b[0;34m\u001b[0m\u001b[0m\n\u001b[0m\u001b[1;32m      4\u001b[0m \u001b[0mprint\u001b[0m\u001b[0;34m(\u001b[0m\u001b[0ms\u001b[0m\u001b[0;34m)\u001b[0m\u001b[0;34m\u001b[0m\u001b[0;34m\u001b[0m\u001b[0m\n\u001b[1;32m      5\u001b[0m \u001b[0mprint\u001b[0m\u001b[0;34m(\u001b[0m\u001b[0msreg\u001b[0m\u001b[0;34m)\u001b[0m\u001b[0;34m\u001b[0m\u001b[0;34m\u001b[0m\u001b[0m\n",
      "\u001b[0;31mTypeError\u001b[0m: 'str' object does not support item assignment"
     ]
    }
   ],
   "source": [
    "s = 'ABCED'\n",
    "sreg = s\n",
    "sreg[0] = 'z'\n",
    "print(s)\n",
    "print(sreg)\n"
   ]
  },
  {
   "cell_type": "code",
   "execution_count": 9,
   "metadata": {},
   "outputs": [
    {
     "name": "stdout",
     "output_type": "stream",
     "text": [
      "['*A', 'B', 'C', 'E', '*D']\n"
     ]
    }
   ],
   "source": [
    "s = 'A*BCED*'\n",
    "srev = s[::-1]\n",
    "sli = []\n",
    "cont = False\n",
    "for i in range(len(srev)):\n",
    "    if cont == True:\n",
    "        cont = False\n",
    "        continue\n",
    "    if srev[i] == '*':\n",
    "        sli.append(srev[i]+srev[i+1])\n",
    "        cont = True\n",
    "    else:\n",
    "        sli.append(srev[i])\n",
    "sli = list(reversed(sli))\n",
    "print(sli)\n"
   ]
  },
  {
   "cell_type": "code",
   "execution_count": 21,
   "metadata": {},
   "outputs": [
    {
     "data": {
      "text/plain": [
       "3"
      ]
     },
     "execution_count": 21,
     "metadata": {},
     "output_type": "execute_result"
    }
   ],
   "source": [
    "True + True + True + False"
   ]
  },
  {
   "cell_type": "code",
   "execution_count": 8,
   "metadata": {},
   "outputs": [
    {
     "name": "stdout",
     "output_type": "stream",
     "text": [
      "True\n",
      "False\n",
      "True\n"
     ]
    }
   ],
   "source": [
    "x = True\n",
    "y = True\n",
    "z = False\n",
    "w = False\n",
    "print(x is y)\n",
    "print(x is z)\n",
    "print(w is z)"
   ]
  },
  {
   "cell_type": "code",
   "execution_count": 25,
   "metadata": {},
   "outputs": [
    {
     "data": {
      "text/plain": [
       "997"
      ]
     },
     "execution_count": 25,
     "metadata": {},
     "output_type": "execute_result"
    }
   ],
   "source": [
    "# List of prime numbers below n\n",
    "def primes2(n):\n",
    "    \"\"\" Input n>=6, Returns a list of primes, 2 <= p < n \"\"\"\n",
    "    n, correction = n-n%6+6, 2-(n%6>1)\n",
    "    sieve = [True] * (n//3)\n",
    "    for i in range(1,int(n**0.5)//3+1):\n",
    "        if sieve[i]:\n",
    "            k=3*i+1|1\n",
    "            sieve[      k*k//3      ::2*k] = [False] * ((n//6-k*k//6-1)//k+1)\n",
    "            sieve[k*(k-2*(i&1)+4)//3::2*k] = [False] * ((n//6-k*(k-2*(i&1)+4)//6-1)//k+1)\n",
    "    return [2,3] + [3*i+1|1 for i in range(1,n//3-correction) if sieve[i]]\n",
    "\n",
    "primes2(1000)[-1]"
   ]
  },
  {
   "cell_type": "code",
   "execution_count": 27,
   "metadata": {},
   "outputs": [
    {
     "name": "stdout",
     "output_type": "stream",
     "text": [
      "-5\n",
      "-4\n",
      "-3\n",
      "-2\n",
      "-1\n",
      "0\n",
      "1\n",
      "2\n",
      "3\n",
      "4\n",
      "5\n"
     ]
    }
   ],
   "source": [
    "for target in range(-5,6):\n",
    "    print(target)"
   ]
  },
  {
   "cell_type": "code",
   "execution_count": 1,
   "metadata": {},
   "outputs": [
    {
     "name": "stdout",
     "output_type": "stream",
     "text": [
      "True\n",
      "False\n",
      "False\n",
      "False\n",
      "True\n",
      "True\n"
     ]
    }
   ],
   "source": [
    "fruit1 = 'Apple'\n",
    "\n",
    "print(fruit1 == 'Apple')\n",
    "print(fruit1 != 'Apple')\n",
    "print(fruit1 < 'Apple')\n",
    "print(fruit1 > 'Apple')\n",
    "print(fruit1 <= 'Apple')\n",
    "print(fruit1 >= 'Apple')"
   ]
  },
  {
   "cell_type": "code",
   "execution_count": 4,
   "metadata": {},
   "outputs": [
    {
     "name": "stdout",
     "output_type": "stream",
     "text": [
      "Apple comes before Banana in the dictionary.\n"
     ]
    }
   ],
   "source": [
    "fruit1 = 'Apple'\n",
    "fruit2 = 'Banana'\n",
    "\n",
    "if fruit1 < fruit2:\n",
    "    print(fruit1 + \" comes before \" + fruit2 + \" in the dictionary.\")\n",
    "elif fruit1 > fruit2:\n",
    "    print(fruit1 + \" comes after \" + fruit2 + \" in the dictionary.\")\n",
    "else:\n",
    "    print(fruit1 + \" and \" + fruit2 + \" are same.\")"
   ]
  },
  {
   "cell_type": "code",
   "execution_count": 5,
   "metadata": {},
   "outputs": [
    {
     "name": "stdout",
     "output_type": "stream",
     "text": [
      "True\n"
     ]
    }
   ],
   "source": [
    "print('Apple' < 'ApplePie')\n"
   ]
  },
  {
   "cell_type": "code",
   "execution_count": 6,
   "metadata": {},
   "outputs": [
    {
     "name": "stdout",
     "output_type": "stream",
     "text": [
      "False\n",
      "True\n",
      "('A unicode is', 65, ',a unicode is', 97)\n"
     ]
    }
   ],
   "source": [
    "print('apple' == 'Apple')\n",
    "print('apple' > 'Apple')\n",
    "print('A unicode is', ord('A'), ',a unicode is', ord('a'))"
   ]
  },
  {
   "cell_type": "code",
   "execution_count": 7,
   "metadata": {},
   "outputs": [
    {
     "name": "stdout",
     "output_type": "stream",
     "text": [
      "False\n",
      "True\n",
      "False\n",
      "True\n"
     ]
    }
   ],
   "source": [
    "print('' > 'apple')\n",
    "print('' < 'apple')\n",
    "print('' >= 'apple')\n",
    "print('' <= 'apple')"
   ]
  },
  {
   "cell_type": "markdown",
   "metadata": {},
   "source": [
    "## sorted string"
   ]
  },
  {
   "cell_type": "code",
   "execution_count": 14,
   "metadata": {},
   "outputs": [
    {
     "data": {
      "text/plain": [
       "['q',\n",
       " 's',\n",
       " 'v',\n",
       " 'b',\n",
       " 'w',\n",
       " 'g',\n",
       " 'y',\n",
       " 'e',\n",
       " 'e',\n",
       " 'p',\n",
       " 'p',\n",
       " 'p',\n",
       " 'p',\n",
       " 'p',\n",
       " 'p',\n",
       " 'p',\n",
       " 'p',\n",
       " 'p',\n",
       " 'p']"
      ]
     },
     "execution_count": 14,
     "metadata": {},
     "output_type": "execute_result"
    }
   ],
   "source": [
    "S = 'eqpspvbpppwpgyppppe'\n",
    "sorted(S, key=S.count)   # just sorted"
   ]
  },
  {
   "cell_type": "code",
   "execution_count": 15,
   "metadata": {},
   "outputs": [
    {
     "data": {
      "text/plain": [
       "['b',\n",
       " 'g',\n",
       " 'q',\n",
       " 's',\n",
       " 'v',\n",
       " 'w',\n",
       " 'y',\n",
       " 'e',\n",
       " 'e',\n",
       " 'p',\n",
       " 'p',\n",
       " 'p',\n",
       " 'p',\n",
       " 'p',\n",
       " 'p',\n",
       " 'p',\n",
       " 'p',\n",
       " 'p',\n",
       " 'p']"
      ]
     },
     "execution_count": 15,
     "metadata": {},
     "output_type": "execute_result"
    }
   ],
   "source": [
    "sorted(sorted(S), key=S.count)  # alphabetical order"
   ]
  },
  {
   "cell_type": "markdown",
   "metadata": {},
   "source": [
    "## string * True / False"
   ]
  },
  {
   "cell_type": "code",
   "execution_count": 18,
   "metadata": {},
   "outputs": [
    {
     "name": "stdout",
     "output_type": "stream",
     "text": [
      "abcde\n",
      "\n",
      "x\n"
     ]
    }
   ],
   "source": [
    "s = 'abcde'\n",
    "\n",
    "print( s * True )\n",
    "print( s * False )  # empty string\n",
    "\n",
    "f = s * False\n",
    "f += 'x'\n",
    "print(f)  "
   ]
  },
  {
   "cell_type": "markdown",
   "metadata": {},
   "source": [
    "### split and join"
   ]
  },
  {
   "cell_type": "code",
   "execution_count": 37,
   "metadata": {},
   "outputs": [
    {
     "name": "stdout",
     "output_type": "stream",
     "text": [
      "['0', '0', '0', '1', '1', '0', '0', '0', '1', '1', '0', '1', '1', '0', '1', '0', '1', '0', '1', '0', '0', '0', '0', '0', '1', '']\n",
      "0001100011011010101000001\n",
      "3257665\n"
     ]
    }
   ],
   "source": [
    "binarystring = '0 0 0 1 1 0 0 0 1 1 0 1 1 0 1 0 1 0 1 0 0 0 0 0 1 '\n",
    "splitted = binarystring.split(' ')\n",
    "print(splitted)\n",
    "joinedstring = ''.join(splitted) \n",
    "print(joinedstring)\n",
    "print(int(joinedstring, 2))"
   ]
  },
  {
   "cell_type": "code",
   "execution_count": 51,
   "metadata": {},
   "outputs": [
    {
     "name": "stdout",
     "output_type": "stream",
     "text": [
      "xyzabc\n"
     ]
    }
   ],
   "source": [
    "f = [200, 'xyz']\n",
    "g = [500, 'abc']\n",
    "print(''.join([f[1], g[1]]))"
   ]
  },
  {
   "cell_type": "code",
   "execution_count": 7,
   "metadata": {},
   "outputs": [
    {
     "data": {
      "text/plain": [
       "[[1, 3],\n",
       " [1, 4],\n",
       " [1, 6],\n",
       " [3, 1],\n",
       " [3, 4],\n",
       " [3, 6],\n",
       " [4, 1],\n",
       " [4, 3],\n",
       " [4, 6],\n",
       " [6, 1],\n",
       " [6, 3],\n",
       " [6, 4]]"
      ]
     },
     "execution_count": 7,
     "metadata": {},
     "output_type": "execute_result"
    }
   ],
   "source": [
    "from itertools import permutations\n",
    "[list(p) for p in permutations([1,3,4,6], r=2)]"
   ]
  },
  {
   "cell_type": "code",
   "execution_count": 44,
   "metadata": {},
   "outputs": [
    {
     "data": {
      "text/plain": [
       "[[6, 4, 3, 1],\n",
       " [4, 6, 3, 1],\n",
       " [4, 3, 6, 1],\n",
       " [4, 3, 1, 6],\n",
       " [6, 3, 4, 1],\n",
       " [3, 6, 4, 1],\n",
       " [3, 4, 6, 1],\n",
       " [3, 4, 1, 6],\n",
       " [6, 3, 1, 4],\n",
       " [3, 6, 1, 4],\n",
       " [3, 1, 6, 4],\n",
       " [3, 1, 4, 6],\n",
       " [6, 4, 1, 3],\n",
       " [4, 6, 1, 3],\n",
       " [4, 1, 6, 3],\n",
       " [4, 1, 3, 6],\n",
       " [6, 1, 4, 3],\n",
       " [1, 6, 4, 3],\n",
       " [1, 4, 6, 3],\n",
       " [1, 4, 3, 6],\n",
       " [6, 1, 3, 4],\n",
       " [1, 6, 3, 4],\n",
       " [1, 3, 6, 4],\n",
       " [1, 3, 4, 6]]"
      ]
     },
     "execution_count": 44,
     "metadata": {},
     "output_type": "execute_result"
    }
   ],
   "source": [
    "\n",
    "nums = [1,3,4,6]\n",
    "def generateUniquePermutations( nums):\n",
    "    #perms = permutations([1,3,4,6], r=2)\n",
    "    perms = [[]]\n",
    "    for n in nums:\n",
    "        perms = [p[:i] + [n] + p[i:]\n",
    "                 for p in perms\n",
    "                 for i in range((p + [n]).index(n) + 1)]\n",
    "    return perms\n",
    "\n",
    "generateUniquePermutations(nums)"
   ]
  },
  {
   "cell_type": "code",
   "execution_count": 50,
   "metadata": {},
   "outputs": [
    {
     "name": "stdout",
     "output_type": "stream",
     "text": [
      "n: 1, p: [], i: 0\n"
     ]
    },
    {
     "ename": "TypeError",
     "evalue": "unsupported operand type(s) for +: 'int' and 'list'",
     "output_type": "error",
     "traceback": [
      "\u001b[0;31m---------------------------------------------------------------------------\u001b[0m",
      "\u001b[0;31mTypeError\u001b[0m                                 Traceback (most recent call last)",
      "\u001b[0;32m<ipython-input-50-152d1a4505c4>\u001b[0m in \u001b[0;36m<module>\u001b[0;34m\u001b[0m\n\u001b[1;32m     12\u001b[0m     \u001b[0;32mreturn\u001b[0m \u001b[0mperms\u001b[0m\u001b[0;34m\u001b[0m\u001b[0;34m\u001b[0m\u001b[0m\n\u001b[1;32m     13\u001b[0m \u001b[0;34m\u001b[0m\u001b[0m\n\u001b[0;32m---> 14\u001b[0;31m \u001b[0mgenerateUniquePermutations\u001b[0m\u001b[0;34m(\u001b[0m\u001b[0mnums\u001b[0m\u001b[0;34m)\u001b[0m\u001b[0;34m\u001b[0m\u001b[0;34m\u001b[0m\u001b[0m\n\u001b[0m",
      "\u001b[0;32m<ipython-input-50-152d1a4505c4>\u001b[0m in \u001b[0;36mgenerateUniquePermutations\u001b[0;34m(nums)\u001b[0m\n\u001b[1;32m      6\u001b[0m     \u001b[0;32mfor\u001b[0m \u001b[0mn\u001b[0m \u001b[0;32min\u001b[0m \u001b[0mnums\u001b[0m\u001b[0;34m:\u001b[0m\u001b[0;34m\u001b[0m\u001b[0;34m\u001b[0m\u001b[0m\n\u001b[1;32m      7\u001b[0m         \u001b[0;32mfor\u001b[0m \u001b[0mp\u001b[0m \u001b[0;32min\u001b[0m \u001b[0mperms\u001b[0m\u001b[0;34m:\u001b[0m\u001b[0;34m\u001b[0m\u001b[0;34m\u001b[0m\u001b[0m\n\u001b[0;32m----> 8\u001b[0;31m             \u001b[0;32mfor\u001b[0m \u001b[0mi\u001b[0m \u001b[0;32min\u001b[0m \u001b[0mrange\u001b[0m\u001b[0;34m(\u001b[0m\u001b[0;34m(\u001b[0m\u001b[0mp\u001b[0m \u001b[0;34m+\u001b[0m \u001b[0;34m[\u001b[0m\u001b[0mn\u001b[0m\u001b[0;34m]\u001b[0m\u001b[0;34m)\u001b[0m\u001b[0;34m.\u001b[0m\u001b[0mindex\u001b[0m\u001b[0;34m(\u001b[0m\u001b[0mn\u001b[0m\u001b[0;34m)\u001b[0m \u001b[0;34m+\u001b[0m \u001b[0;36m1\u001b[0m\u001b[0;34m)\u001b[0m\u001b[0;34m:\u001b[0m\u001b[0;34m\u001b[0m\u001b[0;34m\u001b[0m\u001b[0m\n\u001b[0m\u001b[1;32m      9\u001b[0m                 \u001b[0;31m#perms.append(p[:i] + [n] + p[i:])\u001b[0m\u001b[0;34m\u001b[0m\u001b[0;34m\u001b[0m\u001b[0;34m\u001b[0m\u001b[0m\n\u001b[1;32m     10\u001b[0m                 \u001b[0mprint\u001b[0m\u001b[0;34m(\u001b[0m\u001b[0;34m\"n: {}, p: {}, i: {}\"\u001b[0m\u001b[0;34m.\u001b[0m\u001b[0mformat\u001b[0m\u001b[0;34m(\u001b[0m\u001b[0mn\u001b[0m\u001b[0;34m,\u001b[0m \u001b[0mp\u001b[0m\u001b[0;34m,\u001b[0m \u001b[0mi\u001b[0m\u001b[0;34m)\u001b[0m\u001b[0;34m)\u001b[0m\u001b[0;34m\u001b[0m\u001b[0;34m\u001b[0m\u001b[0m\n",
      "\u001b[0;31mTypeError\u001b[0m: unsupported operand type(s) for +: 'int' and 'list'"
     ]
    }
   ],
   "source": [
    "# arrangement\n",
    "nums = [1,3,4,6]\n",
    "def generateUniquePermutations( nums):\n",
    "    #perms = permutations([1,3,4,6], r=2)\n",
    "    perms = [[]]\n",
    "    for n in nums:\n",
    "        for p in perms:\n",
    "            for i in range((p + [n]).index(n) + 1):\n",
    "                #perms.append(p[:i] + [n] + p[i:])\n",
    "                print(\"n: {}, p: {}, i: {}\".format(n, p, i))\n",
    "                perms = p[:i] + [n] + p[i:]\n",
    "    return perms\n",
    "\n",
    "generateUniquePermutations(nums)"
   ]
  },
  {
   "cell_type": "code",
   "execution_count": 5,
   "metadata": {},
   "outputs": [
    {
     "name": "stdout",
     "output_type": "stream",
     "text": [
      "(1, 2, 3)\n",
      "(1, 3, 2)\n",
      "(2, 1, 3)\n",
      "(2, 3, 1)\n",
      "(3, 1, 2)\n",
      "(3, 2, 1)\n"
     ]
    }
   ],
   "source": [
    "from itertools import permutations \n",
    "  \n",
    "# Get all permutations of [1, 2, 3] \n",
    "perm = permutations([1, 2, 3]) \n",
    "  \n",
    "# Print the obtained permutations \n",
    "for i in list(perm): \n",
    "    print(i) "
   ]
  },
  {
   "cell_type": "code",
   "execution_count": 6,
   "metadata": {},
   "outputs": [
    {
     "name": "stdout",
     "output_type": "stream",
     "text": [
      "(1, 2)\n",
      "(1, 3)\n",
      "(2, 3)\n"
     ]
    }
   ],
   "source": [
    "from itertools import combinations \n",
    "  \n",
    "# Get all combinations of [1, 2, 3] \n",
    "# and length 2 \n",
    "comb = combinations([1, 2, 3], 2) \n",
    "  \n",
    "# Print the obtained combinations \n",
    "for i in list(comb): \n",
    "    print(i) "
   ]
  },
  {
   "cell_type": "code",
   "execution_count": 11,
   "metadata": {},
   "outputs": [
    {
     "data": {
      "text/plain": [
       "[(1,), (2,), (3,), (1, 2), (1, 3), (2, 3), (1, 2, 3)]"
      ]
     },
     "execution_count": 11,
     "metadata": {},
     "output_type": "execute_result"
    }
   ],
   "source": [
    "import itertools\n",
    "\n",
    "import itertools\n",
    "\n",
    "def all_combinations(any_list):\n",
    "    return itertools.chain.from_iterable(\n",
    "        itertools.combinations(any_list, i + 1)\n",
    "        for i in range(len(any_list)))\n",
    "\n",
    "list(all_combinations([1,2,3]))  # --> [(1,), (2,), (3,), (1, 2), (1, 3), (2, 3), (1, 2, 3)]"
   ]
  },
  {
   "cell_type": "markdown",
   "metadata": {},
   "source": [
    "# infinity"
   ]
  },
  {
   "cell_type": "code",
   "execution_count": 16,
   "metadata": {},
   "outputs": [],
   "source": [
    "x = 0\n",
    "x = float('inf')"
   ]
  },
  {
   "cell_type": "code",
   "execution_count": 1,
   "metadata": {},
   "outputs": [
    {
     "name": "stdout",
     "output_type": "stream",
     "text": [
      "False\n"
     ]
    }
   ],
   "source": [
    "x = True\n",
    "print(not x)"
   ]
  },
  {
   "cell_type": "code",
   "execution_count": 2,
   "metadata": {},
   "outputs": [
    {
     "name": "stdout",
     "output_type": "stream",
     "text": [
      "True\n"
     ]
    }
   ],
   "source": [
    "x = False\n",
    "print(not x)"
   ]
  },
  {
   "cell_type": "code",
   "execution_count": 10,
   "metadata": {},
   "outputs": [
    {
     "data": {
      "text/plain": [
       "inf"
      ]
     },
     "execution_count": 10,
     "metadata": {},
     "output_type": "execute_result"
    }
   ],
   "source": [
    "float('inf') + 1"
   ]
  },
  {
   "cell_type": "code",
   "execution_count": 4,
   "metadata": {},
   "outputs": [
    {
     "data": {
      "text/plain": [
       "3"
      ]
     },
     "execution_count": 4,
     "metadata": {},
     "output_type": "execute_result"
    }
   ],
   "source": [
    "len('100')  # length of integer"
   ]
  },
  {
   "cell_type": "markdown",
   "metadata": {},
   "source": [
    "## not"
   ]
  },
  {
   "cell_type": "code",
   "execution_count": 9,
   "metadata": {},
   "outputs": [
    {
     "data": {
      "text/plain": [
       "False"
      ]
     },
     "execution_count": 9,
     "metadata": {},
     "output_type": "execute_result"
    }
   ],
   "source": [
    "not 2"
   ]
  },
  {
   "cell_type": "code",
   "execution_count": 10,
   "metadata": {},
   "outputs": [
    {
     "data": {
      "text/plain": [
       "False"
      ]
     },
     "execution_count": 10,
     "metadata": {},
     "output_type": "execute_result"
    }
   ],
   "source": [
    "not 1"
   ]
  },
  {
   "cell_type": "code",
   "execution_count": 11,
   "metadata": {},
   "outputs": [
    {
     "data": {
      "text/plain": [
       "True"
      ]
     },
     "execution_count": 11,
     "metadata": {},
     "output_type": "execute_result"
    }
   ],
   "source": [
    "not 0"
   ]
  },
  {
   "cell_type": "markdown",
   "metadata": {},
   "source": [
    "### bytes"
   ]
  },
  {
   "cell_type": "code",
   "execution_count": 2,
   "metadata": {},
   "outputs": [
    {
     "data": {
      "text/plain": [
       "b''"
      ]
     },
     "execution_count": 2,
     "metadata": {},
     "output_type": "execute_result"
    }
   ],
   "source": [
    "# bytes on None\n",
    "bytes()"
   ]
  },
  {
   "cell_type": "code",
   "execution_count": 3,
   "metadata": {},
   "outputs": [
    {
     "data": {
      "text/plain": [
       "b'\\x00\\x00\\x00\\x00\\x00'"
      ]
     },
     "execution_count": 3,
     "metadata": {},
     "output_type": "execute_result"
    }
   ],
   "source": [
    "# bytes on integer\n",
    "bytes(5)"
   ]
  },
  {
   "cell_type": "code",
   "execution_count": 4,
   "metadata": {},
   "outputs": [
    {
     "data": {
      "text/plain": [
       "b'\\x00\\x01\\x02\\x03\\x04'"
      ]
     },
     "execution_count": 4,
     "metadata": {},
     "output_type": "execute_result"
    }
   ],
   "source": [
    "# bytes on iterable\n",
    "bytes([0, 1, 2, 3, 4])"
   ]
  },
  {
   "cell_type": "code",
   "execution_count": 5,
   "metadata": {},
   "outputs": [
    {
     "data": {
      "text/plain": [
       "1"
      ]
     },
     "execution_count": 5,
     "metadata": {},
     "output_type": "execute_result"
    }
   ],
   "source": [
    "b = bytes([0, 1, 2, 3, 4])\n",
    "b[1]"
   ]
  },
  {
   "cell_type": "code",
   "execution_count": null,
   "metadata": {},
   "outputs": [],
   "source": []
  },
  {
   "cell_type": "code",
   "execution_count": null,
   "metadata": {},
   "outputs": [],
   "source": []
  }
 ],
 "metadata": {
  "kernelspec": {
   "display_name": "Python 3",
   "language": "python",
   "name": "python3"
  },
  "language_info": {
   "codemirror_mode": {
    "name": "ipython",
    "version": 3
   },
   "file_extension": ".py",
   "mimetype": "text/x-python",
   "name": "python",
   "nbconvert_exporter": "python",
   "pygments_lexer": "ipython3",
   "version": "3.6.8"
  }
 },
 "nbformat": 4,
 "nbformat_minor": 2
}
