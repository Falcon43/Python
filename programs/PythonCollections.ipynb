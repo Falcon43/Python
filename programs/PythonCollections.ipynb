{
 "cells": [
  {
   "cell_type": "code",
   "execution_count": 7,
   "metadata": {},
   "outputs": [
    {
     "name": "stdout",
     "output_type": "stream",
     "text": [
      "##list\n",
      "[1, 2, 3, 4]\n",
      "[1, 2, 3, 4, 5]\n",
      "[1, 2, 3, 4, 5, [2, 3]]\n",
      "[1, 2, 3, 4, 5]\n",
      "<type 'list'>\n",
      "[1, 2, 3, 4, 5, [2, 3], [3, 4], [4, 5]]\n",
      "[1, [7, 9], 3, 4, 5, [[7, 9], 3], [3, 4], [4, 5]]\n",
      "[[[3, 4], 7], [[3, 4], 7]]\n",
      "[[[3, 4], 7]]\n",
      "[1, 2, 3]\n",
      "[[1, 2, 3]]\n",
      "[[1]]\n"
     ]
    }
   ],
   "source": [
    "print(\"##list\")\n",
    "x = [1, 2]\n",
    "y = [3, 4]\n",
    "z = 5\n",
    "w = [6, 7]\n",
    "x= x+y\n",
    "print(x)\n",
    "if isinstance(z, int):\n",
    "    x.append(z)\n",
    "if isinstance(w, int):\n",
    "    x.append(w)\n",
    "print(x)\n",
    "u = [2, 3]\n",
    "x.append(u)\n",
    "print(x)\n",
    "x.remove(u)\n",
    "print(x)\n",
    "\n",
    "x.append(u)\n",
    "print(type(u))\n",
    "x.append([3,4])\n",
    "x.append([4,5])\n",
    "print(x)\n",
    "for i in range(len(x)):\n",
    "    if isinstance(x[i], int) and x[i] == 2:\n",
    "            x[i] = [7, 9]\n",
    "    if isinstance(x[i], list):\n",
    "        for j in range(len(x[i])):\n",
    "            if x[i][j] == 2:\n",
    "                x[i][j] = [7, 9] \n",
    "print(x)\n",
    "x = []\n",
    "x.append([[3,4], 7])\n",
    "x.append([[3,4], 7])\n",
    "print(x)\n",
    "x.remove([[3,4], 7])\n",
    "print(x)\n",
    "print(list([1,2,3]))\n",
    "print([[1,2,3]])\n",
    "print([[1]])\n"
   ]
  },
  {
   "cell_type": "code",
   "execution_count": 8,
   "metadata": {},
   "outputs": [
    {
     "name": "stdout",
     "output_type": "stream",
     "text": [
      "##dict\n",
      "{'brand': 'Ford', 'model': 'Mustang', 'year': 1964}\n",
      "{'brand': 'Ford', 'model': 'Mustang', 'year': 2018}\n",
      "{2: [3, 4, 5], 4: [5, 6, 7]}\n",
      "[3, 4, 5]\n",
      "{2: [3, 4, 5, 3], 4: [5, 6, 7]}\n",
      "2 found\n",
      "{}\n",
      "{2: [3, 4, 5], 4: [5, 6, 7]}\n",
      "[3, 4, 5, 5, 6, 7]\n",
      "{(2, 4): [3, 4, 5, 5, 6, 7]}\n"
     ]
    }
   ],
   "source": [
    "print(\"##dict\")\n",
    "thisdict ={\n",
    "  \"brand\": \"Ford\",\n",
    "  \"model\": \"Mustang\",\n",
    "  \"year\": 1964\n",
    "}\n",
    "print(thisdict)\n",
    "thisdict[\"year\"] = 2018\n",
    "print(thisdict)\n",
    "x = {2:[3,4,5], 4:[5,6,7]}\n",
    "print(x)\n",
    "print(x[2])\n",
    "x[2].append(3)\n",
    "print(x)\n",
    "for i in x.keys():\n",
    "    x.pop(i)\n",
    "    if(i == 2):\n",
    "        print(\"2 found\")\n",
    "    if(i == 3):\n",
    "        print(\"3 not found\")\n",
    "print(x)\n",
    "x = {2:[3,4,5], 4:[5,6,7]}\n",
    "print(x)\n",
    "a = x[2]\n",
    "b = x[4]\n",
    "c = a+b\n",
    "print(c)\n",
    "x.pop(2)\n",
    "x.pop(4)\n",
    "x[(2,4)] = c\n",
    "print(x)\n",
    "\n",
    "\n"
   ]
  },
  {
   "cell_type": "code",
   "execution_count": 9,
   "metadata": {},
   "outputs": [
    {
     "name": "stdout",
     "output_type": "stream",
     "text": [
      "##set\n",
      "set([1, 2, 3, 4])\n",
      "set([1, 2, 3, 4, 5, 6, 7])\n",
      "set([1, 2, 3, 4, 5, 6, 7, (2, 3)])\n",
      "set([1, 2, 3, 4, 5, 6, 7])\n",
      " 'set' object does not support indexing\n"
     ]
    }
   ],
   "source": [
    "print(\"##set\")\n",
    "x = set([1, 2])\n",
    "u = (2, 3)\n",
    "for i in y:\n",
    "    x.add(i) \n",
    "print(x)\n",
    "if isinstance(z, int):\n",
    "    x.add(z)\n",
    "if isinstance(w, list):\n",
    "    for i in w:\n",
    "        x.add(i)\n",
    "print(x)\n",
    "x.add(u)\n",
    "print(x)\n",
    "x.remove(u)\n",
    "print(x)\n",
    "print(\" 'set' object does not support indexing\")"
   ]
  },
  {
   "cell_type": "code",
   "execution_count": 10,
   "metadata": {},
   "outputs": [
    {
     "name": "stdout",
     "output_type": "stream",
     "text": [
      "##tuple\n",
      "(2,)\n",
      "(3, 4)\n",
      "(3, 4, 2)\n",
      "(2,)\n",
      "(3, 4)\n",
      "(3, 4)\n",
      "(3, 4)\n"
     ]
    }
   ],
   "source": [
    "print(\"##tuple\")\n",
    "x = 2\n",
    "y = [3, 4]\n",
    "print((x, ))\n",
    "print(tuple(y))\n",
    "print(tuple(y) + (x, ))\n",
    "\n",
    "print(tuple((x, )))\n",
    "print(tuple(tuple(y)))\n",
    "y = tuple(y)\n",
    "print(y)\n",
    "y = tuple(y)\n",
    "print(y)"
   ]
  },
  {
   "cell_type": "code",
   "execution_count": 11,
   "metadata": {},
   "outputs": [
    {
     "name": "stdout",
     "output_type": "stream",
     "text": [
      "[1, 2]\n",
      "[3, 4, 1, 5, 6]\n",
      "[3, 4, 1, [5, 6]]\n"
     ]
    }
   ],
   "source": [
    "print([1, 2])\n",
    "x = [3, 4]\n",
    "x.append(1)\n",
    "print(x+[5,6])\n",
    "x.append([5, 6])\n",
    "print(x)"
   ]
  },
  {
   "cell_type": "code",
   "execution_count": null,
   "metadata": {},
   "outputs": [],
   "source": []
  }
 ],
 "metadata": {
  "kernelspec": {
   "display_name": "Python 2",
   "language": "python",
   "name": "python2"
  },
  "language_info": {
   "codemirror_mode": {
    "name": "ipython",
    "version": 2
   },
   "file_extension": ".py",
   "mimetype": "text/x-python",
   "name": "python",
   "nbconvert_exporter": "python",
   "pygments_lexer": "ipython2",
   "version": "2.7.14"
  }
 },
 "nbformat": 4,
 "nbformat_minor": 2
}
