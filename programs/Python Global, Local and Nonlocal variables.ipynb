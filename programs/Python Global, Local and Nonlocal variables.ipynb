{
 "cells": [
  {
   "cell_type": "markdown",
   "metadata": {},
   "source": [
    "# Global\n",
    "\n",
    "Local variable not affected using global keyword"
   ]
  },
  {
   "cell_type": "code",
   "execution_count": 8,
   "metadata": {},
   "outputs": [
    {
     "name": "stdout",
     "output_type": "stream",
     "text": [
      "('Inside add():', 2)\n",
      "('In func_add:', 0)\n",
      "('In main:', 2)\n"
     ]
    }
   ],
   "source": [
    "def sub_func_add():\n",
    "    global c\n",
    "    c = c + 2 # increment by 2\n",
    "    print(\"Inside sub_func_add():\", c)\n",
    "\n",
    "def func_add():\n",
    "    c = 0 # global variable\n",
    "    add()\n",
    "    print(\"In func_add:\", c)\n",
    "\n",
    "func_add()    \n",
    "print(\"In main:\", c)"
   ]
  },
  {
   "cell_type": "code",
   "execution_count": 9,
   "metadata": {},
   "outputs": [
    {
     "name": "stdout",
     "output_type": "stream",
     "text": [
      "('Inside add():', 4)\n",
      "('In func_add:', 0)\n",
      "('In main:', 4)\n"
     ]
    }
   ],
   "source": [
    "func_add()    \n",
    "print(\"In main:\", c)"
   ]
  },
  {
   "cell_type": "code",
   "execution_count": 10,
   "metadata": {},
   "outputs": [
    {
     "name": "stdout",
     "output_type": "stream",
     "text": [
      "('Inside add():', 6)\n",
      "('In func_add:', 0)\n",
      "('In main:', 6)\n"
     ]
    }
   ],
   "source": [
    "func_add()    \n",
    "print(\"In main:\", c)"
   ]
  },
  {
   "cell_type": "markdown",
   "metadata": {},
   "source": [
    "###### Affect all local variables"
   ]
  },
  {
   "cell_type": "code",
   "execution_count": 11,
   "metadata": {},
   "outputs": [
    {
     "name": "stdout",
     "output_type": "stream",
     "text": [
      "('Inside add():', 2)\n",
      "('In func_add:', 2)\n",
      "('In main:', 2)\n"
     ]
    }
   ],
   "source": [
    "c = 0\n",
    "\n",
    "def sub_func_add():\n",
    "    global c\n",
    "    c = c + 2 # increment by 2\n",
    "    print(\"Inside sub_func_add():\", c)\n",
    "\n",
    "def func_add():\n",
    "    global c\n",
    "    c = 0 # global variable\n",
    "    add()\n",
    "    print(\"In func_add:\", c)\n",
    "\n",
    "func_add()    \n",
    "print(\"In main:\", c)"
   ]
  },
  {
   "cell_type": "code",
   "execution_count": 12,
   "metadata": {},
   "outputs": [
    {
     "name": "stdout",
     "output_type": "stream",
     "text": [
      "('Inside add():', 2)\n",
      "('In func_add:', 2)\n",
      "('In main:', 2)\n"
     ]
    }
   ],
   "source": [
    "func_add()    \n",
    "print(\"In main:\", c)"
   ]
  },
  {
   "cell_type": "markdown",
   "metadata": {},
   "source": [
    "### continue"
   ]
  },
  {
   "cell_type": "code",
   "execution_count": 2,
   "metadata": {},
   "outputs": [
    {
     "name": "stdout",
     "output_type": "stream",
     "text": [
      "3 1\n",
      "2 3\n",
      "1 1\n",
      "0 3\n"
     ]
    }
   ],
   "source": [
    "i = 3\n",
    "while i > 0:\n",
    "    for j in range(5):\n",
    "        if j % 2 == 0:\n",
    "            continue\n",
    "        else:\n",
    "            print(\"{} {}\".format(i, j))\n",
    "            i -= 1"
   ]
  },
  {
   "cell_type": "code",
   "execution_count": null,
   "metadata": {},
   "outputs": [],
   "source": []
  }
 ],
 "metadata": {
  "kernelspec": {
   "display_name": "Python 3",
   "language": "python",
   "name": "python3"
  },
  "language_info": {
   "codemirror_mode": {
    "name": "ipython",
    "version": 3
   },
   "file_extension": ".py",
   "mimetype": "text/x-python",
   "name": "python",
   "nbconvert_exporter": "python",
   "pygments_lexer": "ipython3",
   "version": "3.6.8"
  }
 },
 "nbformat": 4,
 "nbformat_minor": 2
}
