{
 "cells": [
  {
   "cell_type": "markdown",
   "metadata": {},
   "source": [
    "## Invert dictionary\n",
    "\n",
    "my_dict = {<br>\n",
    "  'Izuku Midoriya': 'One for All', <br>\n",
    "  'Katsuki Bakugo': 'Explosion', <br>\n",
    "  'All Might': 'One for All', <br>\n",
    "  'Ochaco Uraraka': 'Zero Gravity' <br>\n",
    "}<br><br>\n",
    "my_inverted_dict = {<br>\n",
    "  'One for All': ['Izuku Midoriya', 'All Might'], <br>\n",
    "  'Explosion': ['Katsuki Bakugo'], <br>\n",
    "  'Ochaco Uraraka': ['Zero Gravity']<br>\n"
   ]
  },
  {
   "cell_type": "code",
   "execution_count": 4,
   "metadata": {},
   "outputs": [
    {
     "name": "stdout",
     "output_type": "stream",
     "text": [
      "{'One for All': 'All Might', 'Explosion': 'Katsuki Bakugo', 'Zero Gravity': 'Ochaco Uraraka'}\n"
     ]
    }
   ],
   "source": [
    "# lose values ?\n",
    "\n",
    "my_dict = {\n",
    "  'Izuku Midoriya': 'One for All', \n",
    "  'Katsuki Bakugo': 'Explosion', \n",
    "  'All Might': 'One for All', \n",
    "  'Ochaco Uraraka': 'Zero Gravity'\n",
    "}\n",
    "\n",
    "my_inverted_dict = dict(map(reversed, my_dict.items()))\n",
    "print(my_inverted_dict)"
   ]
  },
  {
   "cell_type": "code",
   "execution_count": 6,
   "metadata": {},
   "outputs": [
    {
     "name": "stdout",
     "output_type": "stream",
     "text": [
      "{'One for All': 'All Might', 'Explosion': 'Katsuki Bakugo', 'Zero Gravity': 'Ochaco Uraraka'}\n"
     ]
    }
   ],
   "source": [
    "# lose values ?\n",
    "\n",
    "my_inverted_dict = {value: key for key, value in my_dict.items()}\n",
    "print(my_inverted_dict)"
   ]
  },
  {
   "cell_type": "markdown",
   "metadata": {},
   "source": [
    "Of course, if we want to make sure we don’t lose Midoriya, we shouldn’t use this method. Otherwise, this would be a perfect solution."
   ]
  },
  {
   "cell_type": "code",
   "execution_count": 9,
   "metadata": {},
   "outputs": [
    {
     "name": "stdout",
     "output_type": "stream",
     "text": [
      "defaultdict(<class 'list'>, {'One for All': ['Izuku Midoriya', 'All Might'], 'Explosion': ['Katsuki Bakugo'], 'Zero Gravity': ['Ochaco Uraraka']})\n"
     ]
    }
   ],
   "source": [
    "# dont lose values?\n",
    "\n",
    "from collections import defaultdict\n",
    "my_inverted_dict = defaultdict(list)\n",
    "{my_inverted_dict[v].append(k) for k, v in my_dict.items()}\n",
    "print(my_inverted_dict)"
   ]
  },
  {
   "cell_type": "code",
   "execution_count": 2,
   "metadata": {},
   "outputs": [
    {
     "name": "stdout",
     "output_type": "stream",
     "text": [
      "defaultdict(None, {})\n",
      "Emoty\n"
     ]
    }
   ],
   "source": [
    "from collections import defaultdict\n",
    "mydict = defaultdict()\n",
    "print(mydict)\n",
    "if not mydict: print('Emoty')"
   ]
  },
  {
   "cell_type": "code",
   "execution_count": null,
   "metadata": {},
   "outputs": [],
   "source": []
  }
 ],
 "metadata": {
  "kernelspec": {
   "display_name": "Python 3",
   "language": "python",
   "name": "python3"
  },
  "language_info": {
   "codemirror_mode": {
    "name": "ipython",
    "version": 3
   },
   "file_extension": ".py",
   "mimetype": "text/x-python",
   "name": "python",
   "nbconvert_exporter": "python",
   "pygments_lexer": "ipython3",
   "version": "3.6.8"
  }
 },
 "nbformat": 4,
 "nbformat_minor": 2
}
