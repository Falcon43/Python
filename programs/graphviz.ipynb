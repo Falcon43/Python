{
 "cells": [
  {
   "cell_type": "markdown",
   "metadata": {},
   "source": [
    "## simple eg"
   ]
  },
  {
   "cell_type": "code",
   "execution_count": 22,
   "metadata": {},
   "outputs": [],
   "source": [
    "import graphviz as gv\n",
    "from graphviz import Source\n",
    "\n",
    "\n",
    "colors = ['green','red']\n",
    "\n",
    "\n",
    "def create_graph(colors, d):\n",
    "    d.edge('hello','world', color=colors[0])\n",
    "    d.edge('world','hello', color=colors[1])\n",
    "    d.render('multi.gv', view=True)  \n",
    "\n",
    "if __name__ == '__main__':\n",
    "    d = gv.Digraph()\n",
    "    create_graph(colors, d)"
   ]
  },
  {
   "cell_type": "markdown",
   "metadata": {},
   "source": [
    "### Change color of edge from black (as above) to red:  Networkx -> Graphviz"
   ]
  },
  {
   "cell_type": "code",
   "execution_count": 35,
   "metadata": {},
   "outputs": [
    {
     "ename": "SyntaxError",
     "evalue": "invalid syntax (<ipython-input-35-d7a959caea08>, line 24)",
     "output_type": "error",
     "traceback": [
      "\u001b[0;36m  File \u001b[0;32m\"<ipython-input-35-d7a959caea08>\"\u001b[0;36m, line \u001b[0;32m24\u001b[0m\n\u001b[0;31m    dot.render(filename='multi.gv', view=True)\u001b[0m\n\u001b[0m      ^\u001b[0m\n\u001b[0;31mSyntaxError\u001b[0m\u001b[0;31m:\u001b[0m invalid syntax\n"
     ]
    }
   ],
   "source": [
    "import networkx as nx\n",
    "from graphviz import Source\n",
    "from networkx.drawing.nx_pydot import write_dot\n",
    "import graphviz as gv\n",
    "\n",
    "# color only 1->2 weight=0.3\n",
    "# you are specifically looking for node 1, node 2, and weight=0.3\n",
    "MG = nx.MultiDiGraph()\n",
    "edges = [(3, 2, 0.3), (1, 2, 0.5), (1, 2, 0.75) , (1, 2, 0.1), (1, 2, 0.5), (1, 2, 0.2), (1, 2, 0.3) ]\n",
    "for e in edges:\n",
    "    MG.add_edge(e[0], e[1], weight=e[2], label=e[2])\n",
    "    \n",
    "dot = gv.Digraph()  \n",
    "#dot.attr('edge', color = colors)\n",
    "edgeall = MG.edges\n",
    "print(edgeall)\n",
    "for key, value in edgeall.items():\n",
    "    print('key : {} value : {}'.format(key, value['label']))\n",
    "    if value['label'] == 0.3 and key[0] == 1 and key[1] == 2:\n",
    "        dot.edge(str(key[0]), str(key[1]), color='red', label=str(value['label']))\n",
    "    else:\n",
    "        dot.edge(str(key[0]), str(key[1]), color='black', label=str(value['label'])\n",
    "\n",
    "dot.render(filename='multi.gv', view=True)  \n"
   ]
  },
  {
   "cell_type": "code",
   "execution_count": null,
   "metadata": {},
   "outputs": [],
   "source": [
    "##"
   ]
  },
  {
   "cell_type": "code",
   "execution_count": null,
   "metadata": {},
   "outputs": [],
   "source": []
  }
 ],
 "metadata": {
  "kernelspec": {
   "display_name": "Python 3",
   "language": "python",
   "name": "python3"
  },
  "language_info": {
   "codemirror_mode": {
    "name": "ipython",
    "version": 3
   },
   "file_extension": ".py",
   "mimetype": "text/x-python",
   "name": "python",
   "nbconvert_exporter": "python",
   "pygments_lexer": "ipython3",
   "version": "3.6.8"
  }
 },
 "nbformat": 4,
 "nbformat_minor": 2
}
