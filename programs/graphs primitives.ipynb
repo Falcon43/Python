{
 "cells": [
  {
   "cell_type": "markdown",
   "metadata": {},
   "source": [
    "## list of Nodes in graph"
   ]
  },
  {
   "cell_type": "code",
   "execution_count": 4,
   "metadata": {},
   "outputs": [
    {
     "name": "stdout",
     "output_type": "stream",
     "text": [
      "[0, 1, 2, 3]\n"
     ]
    }
   ],
   "source": [
    "edges = [[1, 0], [1, 2], [1, 3]]\n",
    "nodes = []\n",
    "for i in edges:\n",
    "    nodes.append(i[0])\n",
    "    nodes.append(i[1])\n",
    "nodes = list(set(nodes))\n",
    "print(nodes)"
   ]
  },
  {
   "cell_type": "markdown",
   "metadata": {},
   "source": [
    "## ADJACENCY LIST"
   ]
  },
  {
   "cell_type": "code",
   "execution_count": 8,
   "metadata": {},
   "outputs": [
    {
     "name": "stdout",
     "output_type": "stream",
     "text": [
      "{1: [0, 2, 3], 0: [1], 2: [1], 3: [1]}\n",
      "{0: [3], 3: [0, 1, 2, 4], 1: [3], 2: [3], 4: [3, 5], 5: [4]}\n"
     ]
    }
   ],
   "source": [
    "def adjacency_list(edges):\n",
    "    adj = {}\n",
    "    for i in edges:\n",
    "        if i[0] not in adj:\n",
    "            adj[i[0]] = []\n",
    "        if i[1] not in adj:\n",
    "            adj[i[1]] = []\n",
    "    for i in edges:\n",
    "        adj[i[0]].append(i[1])\n",
    "        adj[i[1]].append(i[0])\n",
    "    return adj\n",
    "\n",
    "edges = [[1, 0], [1, 2], [1, 3]]\n",
    "adj_list = adjacency_list(edges)\n",
    "print(adj_list)\n",
    "\n",
    "edges = [[0, 3], [1, 3], [2, 3], [4, 3], [5, 4]]\n",
    "adj_list = adjacency_list(edges)\n",
    "print(adj_list)"
   ]
  },
  {
   "cell_type": "markdown",
   "metadata": {},
   "source": [
    "## Max edge node ADJACENCY LIST"
   ]
  },
  {
   "cell_type": "code",
   "execution_count": 9,
   "metadata": {},
   "outputs": [
    {
     "name": "stdout",
     "output_type": "stream",
     "text": [
      "3\n"
     ]
    }
   ],
   "source": [
    "def node_maxEdges(adj_list):\n",
    "    node = None\n",
    "    count = 0\n",
    "    for i in adj_list.keys():\n",
    "        l = len(adj_list[i])\n",
    "        if l > count:\n",
    "            count = l\n",
    "            node = i\n",
    "    return node\n",
    "        \n",
    "        \n",
    "adj_list = {0: [3], 3: [0, 1, 2, 4], 1: [3], 2: [3], 4: [3, 5], 5: [4]}\n",
    "node_max_edges = node_maxEdges(adj_list)\n",
    "print(node_max_edges)"
   ]
  },
  {
   "cell_type": "markdown",
   "metadata": {},
   "source": [
    "## DFS  >while loop, stack, no backtracking< given ADJACENCY LIST\n",
    "\n",
    "requires node_maxEdges function"
   ]
  },
  {
   "cell_type": "code",
   "execution_count": 25,
   "metadata": {},
   "outputs": [
    {
     "name": "stdout",
     "output_type": "stream",
     "text": [
      "root: 3 , stack: []\n",
      "root: 4 , stack: [0, 1, 2]\n",
      "root: 5 , stack: [0, 1, 2]\n",
      "root: 2 , stack: [0, 1]\n",
      "root: 1 , stack: [0]\n"
     ]
    }
   ],
   "source": [
    "def dfs(adj, root):\n",
    "    stack = []  # mainroot not added during dfs in stack\n",
    "    visited = []\n",
    "    while root or stack:\n",
    "        #print('root: {} , stack: {}'.format(root, stack))\n",
    "        while root:\n",
    "            if root not in visited:\n",
    "                visited.append(root)\n",
    "                app = 0\n",
    "                for j in adj[root]:\n",
    "                    if j not in stack and j not in visited:\n",
    "                        stack.append(j)\n",
    "                        app += 1\n",
    "                if app == 0:\n",
    "                    root = None\n",
    "            if root in visited:\n",
    "                root = None\n",
    "        if len(stack) != 0:\n",
    "            root = stack.pop()\n",
    "    \n",
    "    \n",
    "adj_list = {0: [3], 3: [0, 1, 2, 4], 1: [3], 2: [3], 4: [3, 5], 5: [4]}\n",
    "root = node_maxEdges(adj_list)\n",
    "dfs(adj_list, root)\n"
   ]
  },
  {
   "cell_type": "markdown",
   "metadata": {},
   "source": [
    "## DFS  >recursive with backtracking< given ADJACENCY LIST"
   ]
  },
  {
   "cell_type": "code",
   "execution_count": 71,
   "metadata": {},
   "outputs": [
    {
     "name": "stdout",
     "output_type": "stream",
     "text": [
      "[1, 2, 4, 6, 7, 5, 3]\n"
     ]
    }
   ],
   "source": [
    "def dfs_recursive(graph, vertex, path=[]):\n",
    "    path.append(vertex)  #path += [vertex]\n",
    "    for neighbor in graph[vertex]:\n",
    "        if neighbor not in path:\n",
    "            path = dfs_recursive(graph, neighbor, path)\n",
    "    return path\n",
    "\n",
    "\n",
    "adjacency_matrix = {1: [2, 3], 2: [4, 5],\n",
    "                    3: [5], 4: [6], 5: [6],\n",
    "                    6: [7], 7: []}\n",
    "\n",
    "print(dfs_recursive(adjacency_matrix, 1))\n",
    "# [1, 2, 4, 6, 7, 5, 3]\n",
    "\n"
   ]
  },
  {
   "cell_type": "code",
   "execution_count": 72,
   "metadata": {},
   "outputs": [
    {
     "name": "stdout",
     "output_type": "stream",
     "text": [
      "[3, 0, 1, 2, 4, 5]\n"
     ]
    }
   ],
   "source": [
    "adj_list = {0: [3], 3: [0, 1, 2, 4], 1: [3], 2: [3], 4: [3, 5], 5: [4]}\n",
    "print(dfs_recursive(adj_list, 3, []))"
   ]
  },
  {
   "cell_type": "markdown",
   "metadata": {},
   "source": [
    "##  heights (top-bottom where root = 0) of a graph:\n",
    "\n",
    "Requires call to node_maxEdges"
   ]
  },
  {
   "cell_type": "code",
   "execution_count": 51,
   "metadata": {},
   "outputs": [
    {
     "name": "stdout",
     "output_type": "stream",
     "text": [
      "{0: 1, 3: 0, 1: 1, 2: 1, 4: 1, 5: 2}\n"
     ]
    }
   ],
   "source": [
    "def dfs(adj, mainroot):\n",
    "    depth = {}\n",
    "    for i in adj.keys():\n",
    "        depth[i] = -1\n",
    "    stack = []  # mainroot not added during dfs in stack\n",
    "    visited = []\n",
    "    root = mainroot\n",
    "    depth[root] = 0\n",
    "    while root or stack:\n",
    "        #print('root: {} , stack: {}'.format(root, stack))\n",
    "        while root:\n",
    "            if root not in visited:\n",
    "                visited.append(root)\n",
    "                dp = depth[root] + 1\n",
    "                app = 0\n",
    "                for j in adj[root]:\n",
    "                    if j not in stack and j not in visited:\n",
    "                        stack.append([j, dp])\n",
    "                        app += 1\n",
    "                if app == 0:\n",
    "                    root = None\n",
    "            if root in visited:\n",
    "                root = None\n",
    "        if len(stack) != 0:\n",
    "            root, d = stack.pop()\n",
    "            depth[root] = d\n",
    "    return depth\n",
    "            \n",
    "            \n",
    "def depth_height(adj, root):\n",
    "    dp = dfs(adj, root)\n",
    "    \n",
    "    return dp\n",
    "    \n",
    "    \n",
    "\n",
    "    \n",
    "   \n",
    "adj_list = {0: [3], 3: [0, 1, 2, 4], 1: [3], 2: [3], 4: [3, 5], 5: [4]}\n",
    "root = node_maxEdges(adj_list)\n",
    "dp = depth_height(adj_list, root)\n",
    "print(dp)\n",
    "\n",
    "\n"
   ]
  },
  {
   "cell_type": "markdown",
   "metadata": {},
   "source": [
    "## IN and OUT heights of a graph: \n",
    "\n",
    "### IN :  bottom-top where leaves = 0\n",
    "\n",
    "Requires call to node_maxEdges"
   ]
  },
  {
   "cell_type": "code",
   "execution_count": 84,
   "metadata": {},
   "outputs": [
    {
     "name": "stdout",
     "output_type": "stream",
     "text": [
      "{3: 2, 0: 0, 1: 0, 2: 0, 4: 1, 5: 0} {}\n"
     ]
    }
   ],
   "source": [
    "def dfs_recursive(graph, vertex, path={}, ideep = 0):\n",
    "    path[vertex] = ideep \n",
    "    neighdeep = []\n",
    "    for neighbor in graph[vertex]:\n",
    "        if neighbor not in path:\n",
    "            path, d = dfs_recursive(graph, neighbor, path, ideep)  \n",
    "            neighdeep.append(d)\n",
    "    if len(neighdeep) == 0:\n",
    "        path[vertex] = ideep\n",
    "        return path, ideep\n",
    "    else:\n",
    "        path[vertex] = max(neighdeep)+1\n",
    "        return path, path[vertex]\n",
    "  \n",
    "def dfs_recursive2(graph, vertex, path={}, ideep = 0):\n",
    "    path[vertex] = ideep \n",
    "    neighdeep = []\n",
    "    for neighbor in graph[vertex]:\n",
    "        if neighbor not in path:\n",
    "            path, d = dfs_recursive(graph, neighbor, path, ideep)  \n",
    "            neighdeep.append(d)\n",
    "    if len(neighdeep) == 0:\n",
    "        path[vertex] = ideep\n",
    "        return path, ideep\n",
    "    else:\n",
    "        path[vertex] = max(neighdeep)+1\n",
    "        return path, path[vertex]\n",
    "            \n",
    "def in_out_height(adj, root):\n",
    "    inn, _ = dfs_recursive(adj, root, {}, ideep = 0)\n",
    "    out, _ = dfs_recursive2(adj, root, {}, ideep = 0)\n",
    "    \n",
    "    \n",
    "    return inn, out\n",
    "\n",
    "   \n",
    "adj_list = {0: [3], 3: [0, 1, 2, 4], 1: [3], 2: [3], 4: [3, 5], 5: [4]}\n",
    "root = node_maxEdges(adj_list)\n",
    "inn, out = in_out_height(adj_list, root)\n",
    "print(inn,out)"
   ]
  },
  {
   "cell_type": "code",
   "execution_count": null,
   "metadata": {},
   "outputs": [],
   "source": []
  }
 ],
 "metadata": {
  "kernelspec": {
   "display_name": "Python 3",
   "language": "python",
   "name": "python3"
  },
  "language_info": {
   "codemirror_mode": {
    "name": "ipython",
    "version": 3
   },
   "file_extension": ".py",
   "mimetype": "text/x-python",
   "name": "python",
   "nbconvert_exporter": "python",
   "pygments_lexer": "ipython3",
   "version": "3.6.8"
  }
 },
 "nbformat": 4,
 "nbformat_minor": 2
}
