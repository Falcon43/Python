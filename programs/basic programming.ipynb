{
 "cells": [
  {
   "cell_type": "code",
   "execution_count": 6,
   "metadata": {},
   "outputs": [],
   "source": [
    "import numpy as np\n",
    "import tensorflow as tf\n",
    "\n",
    "from numpy.testing import (\n",
    "    assert_, assert_equal, assert_raises, assert_raises_regex,\n",
    "    assert_array_equal, assert_almost_equal, assert_array_almost_equal,\n",
    "    HAS_REFCOUNT\n",
    "    )"
   ]
  },
  {
   "cell_type": "markdown",
   "metadata": {},
   "source": [
    "# Rank 1 array "
   ]
  },
  {
   "cell_type": "code",
   "execution_count": 3,
   "metadata": {},
   "outputs": [],
   "source": [
    "a = np.zeros((2,3))"
   ]
  },
  {
   "cell_type": "code",
   "execution_count": 4,
   "metadata": {},
   "outputs": [
    {
     "name": "stdout",
     "output_type": "stream",
     "text": [
      "(2, 3)\n"
     ]
    }
   ],
   "source": [
    "print(a.shape)"
   ]
  },
  {
   "cell_type": "code",
   "execution_count": 5,
   "metadata": {},
   "outputs": [
    {
     "name": "stdout",
     "output_type": "stream",
     "text": [
      "(3,)\n"
     ]
    }
   ],
   "source": [
    "a = np.eye(3)[0]\n",
    "print(a.shape)"
   ]
  },
  {
   "cell_type": "code",
   "execution_count": 6,
   "metadata": {},
   "outputs": [
    {
     "name": "stdout",
     "output_type": "stream",
     "text": [
      "(2,)\n"
     ]
    }
   ],
   "source": [
    "b = np.array([1,2])\n",
    "print(b.shape)"
   ]
  },
  {
   "cell_type": "code",
   "execution_count": 7,
   "metadata": {},
   "outputs": [
    {
     "name": "stdout",
     "output_type": "stream",
     "text": [
      "(2, 1)\n"
     ]
    }
   ],
   "source": [
    "b = np.expand_dims(b,axis=1)\n",
    "print(b.shape)"
   ]
  },
  {
   "cell_type": "code",
   "execution_count": 8,
   "metadata": {},
   "outputs": [
    {
     "name": "stdout",
     "output_type": "stream",
     "text": [
      "(2, 1, 1)\n"
     ]
    }
   ],
   "source": [
    "b = np.expand_dims(b,axis=1)\n",
    "print(b.shape)"
   ]
  },
  {
   "cell_type": "markdown",
   "metadata": {},
   "source": [
    "# Synchronous Shuffling "
   ]
  },
  {
   "cell_type": "code",
   "execution_count": 10,
   "metadata": {},
   "outputs": [
    {
     "name": "stdout",
     "output_type": "stream",
     "text": [
      "[[[-0.31276838  0.8455825   0.49019278]\n",
      "  [-0.15697893  0.74686735 -0.17815361]\n",
      "  [-0.49393696 -2.34541452 -0.26865282]\n",
      "  [ 0.16633489  0.88581099 -0.07289856]]\n",
      "\n",
      " [[ 0.95583061  0.26822161 -0.0444783 ]\n",
      "  [-0.03275515  1.57983117 -0.63221916]\n",
      "  [-0.62470927  0.43818327  0.41314011]\n",
      "  [-0.59016566 -1.34338561  0.15356295]]\n",
      "\n",
      " [[-0.48129321 -1.36282709 -0.13857507]\n",
      "  [-0.02666569  0.93996542  1.40207892]\n",
      "  [ 0.80864324  0.16157803  0.98590735]\n",
      "  [-2.35996691  0.64249089 -2.14757953]]\n",
      "\n",
      " [[ 0.45123137  0.03459274 -1.5015139 ]\n",
      "  [-0.63781811  0.40164509  1.5122646 ]\n",
      "  [ 0.75480382 -0.26732757 -1.20334287]\n",
      "  [-1.41422027 -1.39928794  0.38364972]]\n",
      "\n",
      " [[ 0.37186964 -0.08959438  0.31699282]\n",
      "  [ 0.88383665 -1.04647055  1.31899976]\n",
      "  [-0.35803898 -2.25454149 -1.35778043]\n",
      "  [-0.31342359  1.0442274   0.71803855]]]\n",
      "[[-1.49902866  1.96243033 -0.95895204 -0.28968606]\n",
      " [ 0.17566112  0.39378072 -0.08487153  0.73542515]\n",
      " [-0.47870454  0.37056908  0.24730688 -0.12784765]\n",
      " [ 1.37399329  0.32201985  0.52063797  0.46599311]\n",
      " [-1.27014982  0.07733382  0.53866292 -1.11207754]]\n",
      "permutation \n",
      "[3 4 2 1 0]\n",
      "[[[ 0.45123137  0.03459274 -1.5015139 ]\n",
      "  [-0.63781811  0.40164509  1.5122646 ]\n",
      "  [ 0.75480382 -0.26732757 -1.20334287]\n",
      "  [-1.41422027 -1.39928794  0.38364972]]\n",
      "\n",
      " [[ 0.37186964 -0.08959438  0.31699282]\n",
      "  [ 0.88383665 -1.04647055  1.31899976]\n",
      "  [-0.35803898 -2.25454149 -1.35778043]\n",
      "  [-0.31342359  1.0442274   0.71803855]]\n",
      "\n",
      " [[-0.48129321 -1.36282709 -0.13857507]\n",
      "  [-0.02666569  0.93996542  1.40207892]\n",
      "  [ 0.80864324  0.16157803  0.98590735]\n",
      "  [-2.35996691  0.64249089 -2.14757953]]\n",
      "\n",
      " [[ 0.95583061  0.26822161 -0.0444783 ]\n",
      "  [-0.03275515  1.57983117 -0.63221916]\n",
      "  [-0.62470927  0.43818327  0.41314011]\n",
      "  [-0.59016566 -1.34338561  0.15356295]]\n",
      "\n",
      " [[-0.31276838  0.8455825   0.49019278]\n",
      "  [-0.15697893  0.74686735 -0.17815361]\n",
      "  [-0.49393696 -2.34541452 -0.26865282]\n",
      "  [ 0.16633489  0.88581099 -0.07289856]]]\n",
      "[[ 1.37399329  0.32201985  0.52063797  0.46599311]\n",
      " [-1.27014982  0.07733382  0.53866292 -1.11207754]\n",
      " [-0.47870454  0.37056908  0.24730688 -0.12784765]\n",
      " [ 0.17566112  0.39378072 -0.08487153  0.73542515]\n",
      " [-1.49902866  1.96243033 -0.95895204 -0.28968606]]\n"
     ]
    }
   ],
   "source": [
    "X = np.random.randn(5,4,3)\n",
    "Y = np.random.randn(5,4)\n",
    "print(X)\n",
    "print(Y)\n",
    "permutation = np.random.permutation(X.shape[0])\n",
    "print(\"permutation \")\n",
    "print(permutation)\n",
    "X_shuffled = X[permutation,:,:]\n",
    "Y_shuffled = Y[permutation,:]\n",
    "print(X_shuffled)\n",
    "print(Y_shuffled)"
   ]
  },
  {
   "cell_type": "markdown",
   "metadata": {},
   "source": [
    "### np.clip()"
   ]
  },
  {
   "cell_type": "code",
   "execution_count": 42,
   "metadata": {},
   "outputs": [
    {
     "name": "stdout",
     "output_type": "stream",
     "text": [
      "[[1.78862847 0.43650985 0.09649747]]\n",
      "[[1.         0.43650985 0.09649747]]\n",
      "\n",
      "[[-1.8634927  -0.2773882  -0.35475898]\n",
      " [-0.08274148 -0.62700068 -0.04381817]]\n",
      "[[-1.         -0.2773882  -0.35475898]\n",
      " [-0.08274148 -0.62700068 -0.04381817]]\n",
      "\n",
      "[[1.         0.43650985 0.09649747]]\n",
      "[[-1.         -0.2773882  -0.35475898]\n",
      " [-0.08274148 -0.62700068 -0.04381817]]\n",
      "[[-1.         -0.2773882  -0.35475898]\n",
      " [-0.08274148 -0.62700068 -0.04381817]]\n"
     ]
    }
   ],
   "source": [
    "np.random.seed(3)\n",
    "a = np.random.randn(1,3)\n",
    "b = np.random.randn(2,3)\n",
    "for c in [a, b]:\n",
    "    print(c)\n",
    "    np.clip(c, -1, 1, out=c)\n",
    "    print(c)\n",
    "    print()\n",
    "print(a)\n",
    "print(b)\n",
    "print(c)"
   ]
  },
  {
   "cell_type": "code",
   "execution_count": 45,
   "metadata": {},
   "outputs": [],
   "source": [
    "arr = [-1, 5, 2, 3, 10, -4, -9]\n",
    "out = np.clip(arr, 2, 7)\n",
    "tgt = [2, 5, 2, 3, 7, 2, 2]\n",
    "assert_equal(out, tgt)"
   ]
  },
  {
   "cell_type": "code",
   "execution_count": 60,
   "metadata": {},
   "outputs": [],
   "source": [
    "#check usage of out parameter of clip() and check that refer variable overrides value of arr1 and arr2\n",
    "arr1 = np.array([-1, 5, 2, 3, 10, -4, -9])\n",
    "arr2 = np.array([7, 3, 4, -3, 10, -6])\n",
    "for refer in [arr1, arr2]:\n",
    "    np.clip(refer, 2, 7, out=refer)\n",
    "tgt = [2, 5, 2, 3, 7, 2, 2]\n",
    "assert_equal(arr1, tgt)\n",
    "tgt = [7, 3, 4, 2, 7, 2]\n",
    "assert_equal(arr2, tgt)"
   ]
  },
  {
   "cell_type": "markdown",
   "metadata": {},
   "source": [
    "### np.random.choice()"
   ]
  },
  {
   "cell_type": "code",
   "execution_count": 40,
   "metadata": {},
   "outputs": [
    {
     "name": "stdout",
     "output_type": "stream",
     "text": [
      "2\n"
     ]
    }
   ],
   "source": [
    "np.random.seed(0)\n",
    "p = np.array([0.1, 0.0, 0.7, 0.2])\n",
    "index = np.random.choice([0, 1, 2, 3], p = p.ravel())\n",
    "print(index)"
   ]
  },
  {
   "cell_type": "markdown",
   "metadata": {},
   "source": [
    "flatten always returns a copy.\n",
    "\n",
    "ravel returns a view of the original array whenever possible. This isn't visible in the printed output, but if you modify the array returned by ravel, it may modify the entries in the original array. If you modify the entries in an array returned from flatten this will never happen. ravel will often be faster since no memory is copied, but you have to be more careful about modifying the array it returns.\n",
    "\n",
    "reshape((-1,)) gets a view whenever the strides of the array allow it even if that means you don't always get a contiguous array."
   ]
  },
  {
   "cell_type": "markdown",
   "metadata": {},
   "source": [
    "## One Hot Encoding"
   ]
  },
  {
   "cell_type": "code",
   "execution_count": 4,
   "metadata": {},
   "outputs": [
    {
     "name": "stdout",
     "output_type": "stream",
     "text": [
      "[[0. 0. 1. 0. 0. 0.]\n",
      " [0. 0. 0. 1. 0. 0.]\n",
      " [0. 0. 0. 0. 1. 0.]\n",
      " [1. 0. 0. 0. 0. 0.]]\n"
     ]
    }
   ],
   "source": [
    "nb_classes = 6\n",
    "targets = np.array([[2, 3, 4, 0]]).reshape(-1)\n",
    "one_hot_targets = np.eye(nb_classes)[targets]\n",
    "print(one_hot_targets)"
   ]
  },
  {
   "cell_type": "code",
   "execution_count": 5,
   "metadata": {},
   "outputs": [
    {
     "data": {
      "text/plain": [
       "array([[0., 0., 1., 0., 0., 0.],\n",
       "       [0., 0., 0., 1., 0., 0.],\n",
       "       [0., 0., 0., 0., 1., 0.],\n",
       "       [1., 0., 0., 0., 0., 0.]])"
      ]
     },
     "execution_count": 5,
     "metadata": {},
     "output_type": "execute_result"
    }
   ],
   "source": [
    "def one_hot_basic(targets, classes):\n",
    "    res = np.eye(classes)[np.array(targets).reshape(-1)]\n",
    "    return res\n",
    "    #return res.reshape(list(targets.shape)+[classes])\n",
    "\n",
    "one_hot_basic(np.array([2, 3, 4, 0]), 6)"
   ]
  },
  {
   "cell_type": "code",
   "execution_count": null,
   "metadata": {},
   "outputs": [],
   "source": [
    "def one_hot(indices, classes):\n",
    "    res = np.eye(classes)[np.array(targets).reshape(-1)]\n",
    "    return res\n",
    "    #return res.reshape(list(targets.shape)+[classes])\n",
    "\n",
    "one_hot(np.array([2, 3, 4, 0]), 6)"
   ]
  },
  {
   "cell_type": "code",
   "execution_count": 7,
   "metadata": {},
   "outputs": [
    {
     "data": {
      "text/plain": [
       "<tf.Tensor 'one_hot:0' shape=(3, 3) dtype=float32>"
      ]
     },
     "execution_count": 7,
     "metadata": {},
     "output_type": "execute_result"
    }
   ],
   "source": [
    "indices = [0, 1, 2]\n",
    "depth = 3\n",
    "tf.one_hot(indices, depth) "
   ]
  },
  {
   "cell_type": "code",
   "execution_count": null,
   "metadata": {},
   "outputs": [],
   "source": []
  }
 ],
 "metadata": {
  "kernelspec": {
   "display_name": "Python 3",
   "language": "python",
   "name": "python3"
  }
 },
 "nbformat": 4,
 "nbformat_minor": 2
}
