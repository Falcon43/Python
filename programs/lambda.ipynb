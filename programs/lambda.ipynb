{
 "cells": [
  {
   "cell_type": "code",
   "execution_count": 1,
   "metadata": {},
   "outputs": [
    {
     "data": {
      "text/plain": [
       "False"
      ]
     },
     "execution_count": 1,
     "metadata": {},
     "output_type": "execute_result"
    }
   ],
   "source": [
    "two_sat_function = lambda x1, x2, x3, x4: (x1 or x2) and (not x1 or x3) and (x3 or x4) and (not x2 or not x4) \n",
    "two_sat_function(1,1, 1, 1)"
   ]
  },
  {
   "cell_type": "code",
   "execution_count": 7,
   "metadata": {},
   "outputs": [
    {
     "data": {
      "text/plain": [
       "True"
      ]
     },
     "execution_count": 7,
     "metadata": {},
     "output_type": "execute_result"
    }
   ],
   "source": [
    "two_sat_function = lambda x1, x2, x3, x4: (x1 or x2) and (not x1 or x3) and (x3 or x4) and (not x2 or not x4) \n",
    "two_sat_function(1,0, 1, 0)"
   ]
  },
  {
   "cell_type": "code",
   "execution_count": 9,
   "metadata": {},
   "outputs": [
    {
     "data": {
      "text/plain": [
       "4"
      ]
     },
     "execution_count": 9,
     "metadata": {},
     "output_type": "execute_result"
    }
   ],
   "source": [
    "#count number of parameters\n",
    "two_sat_function.__code__.co_argcount"
   ]
  },
  {
   "cell_type": "code",
   "execution_count": 11,
   "metadata": {},
   "outputs": [
    {
     "data": {
      "text/plain": [
       "1"
      ]
     },
     "execution_count": 11,
     "metadata": {},
     "output_type": "execute_result"
    }
   ],
   "source": [
    "two_sat_function = lambda x1, x2: (x1 or x2) \n",
    "two_sat_function(1, 0)"
   ]
  },
  {
   "cell_type": "code",
   "execution_count": 6,
   "metadata": {},
   "outputs": [
    {
     "data": {
      "text/plain": [
       "2"
      ]
     },
     "execution_count": 6,
     "metadata": {},
     "output_type": "execute_result"
    }
   ],
   "source": [
    "two_sat_function.__code__.co_argcount"
   ]
  },
  {
   "cell_type": "code",
   "execution_count": 15,
   "metadata": {},
   "outputs": [
    {
     "name": "stdout",
     "output_type": "stream",
     "text": [
      "0\n"
     ]
    }
   ],
   "source": [
    "import functools\n",
    "\n",
    "reduced = functools.partial(two_sat_function, 0)\n",
    "print(reduced(0))"
   ]
  },
  {
   "cell_type": "code",
   "execution_count": 30,
   "metadata": {},
   "outputs": [],
   "source": [
    "import functools\n",
    "\n",
    "add_nos = lambda a , b, c  : a+b+c\n",
    "add_nos_copy = copy.deepcopy(add_nos)"
   ]
  },
  {
   "cell_type": "code",
   "execution_count": 31,
   "metadata": {},
   "outputs": [
    {
     "name": "stdout",
     "output_type": "stream",
     "text": [
      "35\n"
     ]
    }
   ],
   "source": [
    "import copy \n",
    "import functools\n",
    "\n",
    "#copy functions \n",
    "add_nos_copy = functools.partial(add_nos_copy, 5)\n",
    "add_nos_copy = functools.partial(add_nos_copy, 10)\n",
    "print(add_nos_copy(20))"
   ]
  },
  {
   "cell_type": "code",
   "execution_count": 32,
   "metadata": {},
   "outputs": [
    {
     "name": "stdout",
     "output_type": "stream",
     "text": [
      "functools.partial(<function <lambda> at 0x10d2a5620>, 5, 10, 20)\n"
     ]
    }
   ],
   "source": [
    "add_nos = functools.partial(add_nos, 5)\n",
    "add_nos = functools.partial(add_nos, 10)\n",
    "add_nos = functools.partial(add_nos, 20)\n",
    "print(add_nos)"
   ]
  },
  {
   "cell_type": "markdown",
   "metadata": {},
   "source": [
    "### inspect parameter name and function name #todo"
   ]
  },
  {
   "cell_type": "code",
   "execution_count": null,
   "metadata": {},
   "outputs": [],
   "source": [
    "import inspect\n",
    "\n",
    "def func_xyz(two_sat_function):\n",
    "    frame = inspect.currentframe()\n",
    "    args, _, _, values = inspect.getargvalues(frame)\n",
    "    print(\"function name {}\".format(inspect.getframeinfo(frame)[2]))\n",
    "    for i in args:\n",
    "        print(\"    {} = {}\".format(i, values[i]))\n",
    "    return [(i, values[i]) for i in args]\n",
    "\n",
    "two_sat_function = lambda x1, x2, x3, x4: (x1 or x2) and (not x1 or x3) and (x3 or x4) and (not x2 or not x4) \n",
    "func_xyz(two_sat_function)"
   ]
  }
 ],
 "metadata": {
  "kernelspec": {
   "display_name": "Python 3",
   "language": "python",
   "name": "python3"
  },
  "language_info": {
   "codemirror_mode": {
    "name": "ipython",
    "version": 3
   },
   "file_extension": ".py",
   "mimetype": "text/x-python",
   "name": "python",
   "nbconvert_exporter": "python",
   "pygments_lexer": "ipython3",
   "version": "3.6.8"
  }
 },
 "nbformat": 4,
 "nbformat_minor": 2
}
