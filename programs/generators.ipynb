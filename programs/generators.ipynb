{
 "cells": [
  {
   "cell_type": "code",
   "execution_count": 7,
   "metadata": {},
   "outputs": [],
   "source": [
    "def createGenerator():\n",
    "        mylist = range(3)\n",
    "        for i in mylist:\n",
    "            yield i*i\n",
    "            "
   ]
  },
  {
   "cell_type": "code",
   "execution_count": 9,
   "metadata": {},
   "outputs": [
    {
     "name": "stdout",
     "output_type": "stream",
     "text": [
      "0\n",
      "1\n",
      "4\n"
     ]
    }
   ],
   "source": [
    "c = createGenerator()\n",
    "print(c.next())\n",
    "print(c.next())\n",
    "print(c.next())"
   ]
  },
  {
   "cell_type": "code",
   "execution_count": 12,
   "metadata": {},
   "outputs": [
    {
     "name": "stdout",
     "output_type": "stream",
     "text": [
      "0\n",
      "1\n",
      "2\n",
      "0\n",
      "1\n",
      "2\n"
     ]
    }
   ],
   "source": [
    "class generat_multiple:\n",
    "    def __init__(self):\n",
    "        self.mylist = range(3)\n",
    "        \n",
    "    def createGenerator(self):\n",
    "        for i in self.mylist:\n",
    "            yield i\n",
    "        \n",
    "        \n",
    "g = generat_multiple()\n",
    "c = g.createGenerator()\n",
    "print(c.next())\n",
    "print(c.next())\n",
    "print(c.next())\n",
    "\n",
    "c = g.createGenerator()\n",
    "print(c.next())\n",
    "print(c.next())\n",
    "print(c.next())      "
   ]
  },
  {
   "cell_type": "code",
   "execution_count": null,
   "metadata": {},
   "outputs": [],
   "source": []
  }
 ],
 "metadata": {
  "kernelspec": {
   "display_name": "Python 2",
   "language": "python",
   "name": "python2"
  },
  "language_info": {
   "codemirror_mode": {
    "name": "ipython",
    "version": 2
   },
   "file_extension": ".py",
   "mimetype": "text/x-python",
   "name": "python",
   "nbconvert_exporter": "python",
   "pygments_lexer": "ipython2",
   "version": "2.7.14"
  }
 },
 "nbformat": 4,
 "nbformat_minor": 2
}
