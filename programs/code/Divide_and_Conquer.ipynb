{
 "cells": [
  {
   "cell_type": "markdown",
   "metadata": {},
   "source": [
    "## 713. Subarray Product Less Than K\n",
    "Your are given an array of positive integers nums.\n",
    "\n",
    "Count and print the number of (contiguous) subarrays where the product of all the elements in the subarray is less than k.\n",
    "\n",
    "Example 1:<br><br>\n",
    "Input: nums = [10, 5, 2, 6], k = 100<br><br>\n",
    "Output: 8<br><br>\n",
    "Explanation: The 8 subarrays that have product less than 100 are: [10], [5], [2], [6], [10, 5], [5, 2], [2, 6], [5, 2, 6].<br><br>\n",
    "Note that [10, 5, 2] is not included as the product of 100 is not strictly less than k.<br>\n",
    "\n",
    "Note:\n",
    "\n",
    "0 < nums.length <= 50000.<br>\n",
    "0 < nums[i] < 1000.<br>\n",
    "0 <= k < 10^6.\n"
   ]
  },
  {
   "cell_type": "code",
   "execution_count": 15,
   "metadata": {},
   "outputs": [
    {
     "data": {
      "text/plain": [
       "([[0.8], [0.9], [0.8, 0.9]], 3)"
      ]
     },
     "execution_count": 15,
     "metadata": {},
     "output_type": "execute_result"
    }
   ],
   "source": [
    "# Theta(n logn)\n",
    "class Solution:\n",
    "    def numSubarrayProductLessThanK(self, a, k: int) -> int:\n",
    "        def divide_and_conquer(a, maximum, k):\n",
    "            #print(a)\n",
    "            n = len(a)\n",
    "            if n == 1:\n",
    "                m = a[0]\n",
    "                if  m < k:\n",
    "                    maximum.append([m])\n",
    "                return maximum\n",
    "\n",
    "            left = divide_and_conquer(a[:n//2], maximum, k)\n",
    "            right = divide_and_conquer(a[n//2:], maximum, k)\n",
    "            #print(a)\n",
    "            #print(range(0,n//2,-1))\n",
    "            x = []\n",
    "            y = []\n",
    "            for i in list(range(n//2-1,-1,-1)):\n",
    "                if i == n//2-1:\n",
    "                    p = a[i]\n",
    "                    for j in range(n//2,n):\n",
    "                        p = p*a[j]\n",
    "                        x.append([p, a[i:j+1]])\n",
    "                        #if p < k: \n",
    "                        #    maximum.append(a[i:j+1])\n",
    "                else:\n",
    "                    y.append([ l*a[i] for l in x])\n",
    "                    \n",
    "                    #for w in range(len(x)):\n",
    "                    #    if x[w] < k:\n",
    "                    #        maximum.append(a[i:n//2+w])\n",
    "\n",
    "            return maximum\n",
    "    \n",
    "        maximum = []\n",
    "        maximum = divide_and_conquer(a, maximum, k)\n",
    "        return maximum, len(maximum)\n",
    "    \n",
    "    \n",
    "s = Solution()\n",
    "s.numSubarrayProductLessThanK([100, 100, 10, 0.8, 0.9, 100], 1)"
   ]
  },
  {
   "cell_type": "code",
   "execution_count": null,
   "metadata": {},
   "outputs": [],
   "source": []
  },
  {
   "cell_type": "code",
   "execution_count": 9,
   "metadata": {},
   "outputs": [
    {
     "data": {
      "text/plain": [
       "([[-0.8],\n",
       "  [-0.9],\n",
       "  [-0.9, 100],\n",
       "  [-0.8, -0.9],\n",
       "  [10, -0.8],\n",
       "  [100, 10],\n",
       "  [100, 100, 10]],\n",
       " 7)"
      ]
     },
     "execution_count": 9,
     "metadata": {},
     "output_type": "execute_result"
    }
   ],
   "source": [
    "s.numSubarrayProductLessThanK([100, 100, 10, -0.8, -0.9, 100], 1)"
   ]
  },
  {
   "cell_type": "code",
   "execution_count": 10,
   "metadata": {},
   "outputs": [
    {
     "data": {
      "text/plain": [
       "([[0.001],\n",
       "  [0.001, 900],\n",
       "  [1000, 0.001],\n",
       "  [0.45],\n",
       "  [0.5],\n",
       "  [0.5, 100],\n",
       "  [0.45, 0.5],\n",
       "  [0.45, 0.5, 100],\n",
       "  [0.001, 900],\n",
       "  [0.001, 900, 0.45],\n",
       "  [0.001, 900, 0.45, 0.5]],\n",
       " 11)"
      ]
     },
     "execution_count": 10,
     "metadata": {},
     "output_type": "execute_result"
    }
   ],
   "source": [
    "s.numSubarrayProductLessThanK([1000, 0.001, 900, 0.45, 0.5, 100], 100)"
   ]
  },
  {
   "cell_type": "code",
   "execution_count": 11,
   "metadata": {},
   "outputs": [
    {
     "data": {
      "text/plain": [
       "([[1],\n",
       "  [0.0001],\n",
       "  [1, 0.0001],\n",
       "  [1000, 1, 0.0001],\n",
       "  [0.001],\n",
       "  [1],\n",
       "  [0.001, 1],\n",
       "  [0.001, 1],\n",
       "  [0.001, 1, 10],\n",
       "  [0.0001, 0.001],\n",
       "  [0.0001, 0.001, 1],\n",
       "  [0.0001, 0.001, 1, 10],\n",
       "  [0.0001, 0.001, 1, 10, 100],\n",
       "  [1, 0.0001],\n",
       "  [1, 0.0001, 0.001],\n",
       "  [1, 0.0001, 0.001, 1],\n",
       "  [1, 0.0001, 0.001, 1, 10],\n",
       "  [1000, 1, 0.0001],\n",
       "  [1000, 1, 0.0001, 0.001],\n",
       "  [1000, 1, 0.0001, 0.001, 1],\n",
       "  [1000, 1, 0.0001, 0.001, 1, 10]],\n",
       " 21)"
      ]
     },
     "execution_count": 11,
     "metadata": {},
     "output_type": "execute_result"
    }
   ],
   "source": [
    "s.numSubarrayProductLessThanK([1000, 1, 0.0001, 0.001, 1, 10, 100], 2)"
   ]
  },
  {
   "cell_type": "code",
   "execution_count": 12,
   "metadata": {},
   "outputs": [
    {
     "data": {
      "text/plain": [
       "([[2], [3], [4], [2, 3], [5], [6]], 6)"
      ]
     },
     "execution_count": 12,
     "metadata": {},
     "output_type": "execute_result"
    }
   ],
   "source": [
    "s.numSubarrayProductLessThanK([2,3,4,5,18,17,6], 10)"
   ]
  },
  {
   "cell_type": "code",
   "execution_count": 13,
   "metadata": {},
   "outputs": [
    {
     "data": {
      "text/plain": [
       "([[-4],\n",
       "  [-2],\n",
       "  [-2],\n",
       "  [-4, -2, -2],\n",
       "  [-2],\n",
       "  [0],\n",
       "  [-2, 0],\n",
       "  [1],\n",
       "  [0, 1],\n",
       "  [0, 1, 2],\n",
       "  [-2, 0],\n",
       "  [-2, 0, 1],\n",
       "  [-2, -2, 0],\n",
       "  [-2, -2, 0, 1],\n",
       "  [-2, -2, 0, 1, 2],\n",
       "  [-2, -2],\n",
       "  [-2, -2, -2],\n",
       "  [-2, -2, -2, 0],\n",
       "  [-2, -2, -2, 0, 1],\n",
       "  [-4, -2, -2, -2],\n",
       "  [-4, -2, -2, -2, 0],\n",
       "  [-4, -2, -2, -2, 0, 1],\n",
       "  [0, 1, 2],\n",
       "  [0, 1, 2, 2],\n",
       "  [0, 1, 2, 2, 2],\n",
       "  [0, 1, 2, 2, 2, 3],\n",
       "  [0, 1, 2, 2, 2, 3, 3],\n",
       "  [0, 1, 2, 2, 2, 3, 3, 4],\n",
       "  [0, 1, 2, 2, 2, 3, 3, 4, 4],\n",
       "  [0, 1, 2, 2, 2, 3, 3, 4, 4, 6],\n",
       "  [-2, 0, 1, 2],\n",
       "  [-2, 0, 1, 2, 2],\n",
       "  [-2, 0, 1, 2, 2, 2],\n",
       "  [-2, 0, 1, 2, 2, 2, 3],\n",
       "  [-2, 0, 1, 2, 2, 2, 3, 3],\n",
       "  [-2, 0, 1, 2, 2, 2, 3, 3, 4],\n",
       "  [-2, 0, 1, 2, 2, 2, 3, 3, 4, 4],\n",
       "  [-2, 0, 1, 2, 2, 2, 3, 3, 4, 4, 6],\n",
       "  [-2, -2, 0, 1, 2],\n",
       "  [-2, -2, 0, 1, 2, 2],\n",
       "  [-2, -2, 0, 1, 2, 2, 2],\n",
       "  [-2, -2, 0, 1, 2, 2, 2, 3],\n",
       "  [-2, -2, 0, 1, 2, 2, 2, 3, 3],\n",
       "  [-2, -2, 0, 1, 2, 2, 2, 3, 3, 4],\n",
       "  [-2, -2, 0, 1, 2, 2, 2, 3, 3, 4, 4],\n",
       "  [-2, -2, 0, 1, 2, 2, 2, 3, 3, 4, 4, 6],\n",
       "  [-2, -2, -2, 0, 1, 2],\n",
       "  [-2, -2, -2, 0, 1, 2, 2],\n",
       "  [-2, -2, -2, 0, 1, 2, 2, 2],\n",
       "  [-2, -2, -2, 0, 1, 2, 2, 2, 3],\n",
       "  [-2, -2, -2, 0, 1, 2, 2, 2, 3, 3],\n",
       "  [-2, -2, -2, 0, 1, 2, 2, 2, 3, 3, 4],\n",
       "  [-2, -2, -2, 0, 1, 2, 2, 2, 3, 3, 4, 4],\n",
       "  [-2, -2, -2, 0, 1, 2, 2, 2, 3, 3, 4, 4, 6],\n",
       "  [-4, -2, -2, -2, 0, 1, 2],\n",
       "  [-4, -2, -2, -2, 0, 1, 2, 2],\n",
       "  [-4, -2, -2, -2, 0, 1, 2, 2, 2],\n",
       "  [-4, -2, -2, -2, 0, 1, 2, 2, 2, 3],\n",
       "  [-4, -2, -2, -2, 0, 1, 2, 2, 2, 3, 3],\n",
       "  [-4, -2, -2, -2, 0, 1, 2, 2, 2, 3, 3, 4],\n",
       "  [-4, -2, -2, -2, 0, 1, 2, 2, 2, 3, 3, 4, 4],\n",
       "  [-4, -2, -2, -2, 0, 1, 2, 2, 2, 3, 3, 4, 4, 6]],\n",
       " 62)"
      ]
     },
     "execution_count": 13,
     "metadata": {},
     "output_type": "execute_result"
    }
   ],
   "source": [
    "s.numSubarrayProductLessThanK([-4,-2,-2,-2,0,1,2,2,2,3,3,4,4,6,6], 2)"
   ]
  },
  {
   "cell_type": "code",
   "execution_count": null,
   "metadata": {},
   "outputs": [],
   "source": []
  }
 ],
 "metadata": {
  "kernelspec": {
   "display_name": "Python 3",
   "language": "python",
   "name": "python3"
  },
  "language_info": {
   "codemirror_mode": {
    "name": "ipython",
    "version": 3
   },
   "file_extension": ".py",
   "mimetype": "text/x-python",
   "name": "python",
   "nbconvert_exporter": "python",
   "pygments_lexer": "ipython3",
   "version": "3.6.8"
  }
 },
 "nbformat": 4,
 "nbformat_minor": 2
}
