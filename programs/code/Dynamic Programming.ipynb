{
 "cells": [
  {
   "cell_type": "markdown",
   "metadata": {},
   "source": [
    "## Longest Palindromic Substring\n",
    "Given a string s, find the longest palindromic substring in s. You may assume that the maximum length of s is 1000.\n",
    "\n",
    "Example 1:\n",
    "\n",
    "Input: \"babad\"<br>\n",
    "Output: \"bab\"<br>\n",
    "Note: \"aba\" is also a valid answer.<br>\n",
    "\n",
    "Example 2:\n",
    "\n",
    "Input: \"cbbd\"<br>\n",
    "Output: \"bb\"\n"
   ]
  },
  {
   "cell_type": "code",
   "execution_count": 1,
   "metadata": {},
   "outputs": [
    {
     "data": {
      "text/plain": [
       "'ddtattarrattatdd'"
      ]
     },
     "execution_count": 1,
     "metadata": {},
     "output_type": "execute_result"
    }
   ],
   "source": [
    "import numpy as np\n",
    "\n",
    "class Solution:\n",
    "    def isPalindrome(self, substr):\n",
    "        n = len(substr)//2\n",
    "        sub1 = substr[:n]\n",
    "        sub2 = substr[n:] if len(substr)%2 == 0 else substr[n+1:]\n",
    "        sub2 = sub2[::-1]\n",
    "        return True if sub1 == sub2 else False\n",
    "        \n",
    "    def longestPalindrome(self, s: str) -> str:\n",
    "        n = len(s)\n",
    "        if self.isPalindrome(s):\n",
    "            return s\n",
    "        i = 1\n",
    "        while True:\n",
    "            if  i >= n:\n",
    "                return ''\n",
    "            j = 0\n",
    "            while True:\n",
    "                n_i = n - i\n",
    "                end_j = j + n_i\n",
    "                if end_j > n:\n",
    "                    break\n",
    "                if self.isPalindrome(s[j:end_j]):\n",
    "                    return s[j:end_j]\n",
    "                j += 1\n",
    "            i += 1\n",
    "\n",
    "        \n",
    "c = Solution()\n",
    "c.longestPalindrome(\"babaddtattarrattatddetartrateedredividerb\")"
   ]
  },
  {
   "cell_type": "code",
   "execution_count": 2,
   "metadata": {},
   "outputs": [
    {
     "data": {
      "text/plain": [
       "'a'"
      ]
     },
     "execution_count": 2,
     "metadata": {},
     "output_type": "execute_result"
    }
   ],
   "source": [
    "#c.isPalindrome(\"a\")\n",
    "c.longestPalindrome(\"ac\")"
   ]
  },
  {
   "cell_type": "code",
   "execution_count": 3,
   "metadata": {},
   "outputs": [
    {
     "data": {
      "text/plain": [
       "'bb'"
      ]
     },
     "execution_count": 3,
     "metadata": {},
     "output_type": "execute_result"
    }
   ],
   "source": [
    "c.longestPalindrome(\"cbbd\")"
   ]
  },
  {
   "cell_type": "code",
   "execution_count": 4,
   "metadata": {},
   "outputs": [
    {
     "data": {
      "text/plain": [
       "'xyzazyx'"
      ]
     },
     "execution_count": 4,
     "metadata": {},
     "output_type": "execute_result"
    }
   ],
   "source": [
    "c.longestPalindrome(\"xyzazyx\")"
   ]
  },
  {
   "cell_type": "code",
   "execution_count": 5,
   "metadata": {},
   "outputs": [
    {
     "data": {
      "text/plain": [
       "'xyzzyx'"
      ]
     },
     "execution_count": 5,
     "metadata": {},
     "output_type": "execute_result"
    }
   ],
   "source": [
    "c.longestPalindrome(\"xyzzyx\")"
   ]
  },
  {
   "cell_type": "code",
   "execution_count": 6,
   "metadata": {},
   "outputs": [
    {
     "data": {
      "text/plain": [
       "'x'"
      ]
     },
     "execution_count": 6,
     "metadata": {},
     "output_type": "execute_result"
    }
   ],
   "source": [
    "c.longestPalindrome(\"xyz23zyx\")"
   ]
  },
  {
   "cell_type": "code",
   "execution_count": 7,
   "metadata": {},
   "outputs": [
    {
     "data": {
      "text/plain": [
       "'bab'"
      ]
     },
     "execution_count": 7,
     "metadata": {},
     "output_type": "execute_result"
    }
   ],
   "source": [
    "c.longestPalindrome(\"babad\")"
   ]
  },
  {
   "cell_type": "markdown",
   "metadata": {},
   "source": [
    "## Regular Expression Matching\n",
    "Given an input string (s) and a pattern (p), implement regular expression matching with support for '.' and '*'.\n",
    "\n",
    "'.' Matches any single character.<br>\n",
    "'*' Matches zero or more of the preceding element.<br>\n",
    "The matching should cover the entire input string (not partial).\n",
    "\n",
    "Note:\n",
    "\n",
    "s could be empty and contains only lowercase letters a-z.<br>\n",
    "p could be empty and contains only lowercase letters a-z, and characters like . or *.\n",
    "\n",
    "Example 1:<br>\n",
    "Input:<br>\n",
    "s = \"aa\"<br>\n",
    "p = \"$a$\"<br>\n",
    "Output: false<br>\n",
    "Explanation: \"a\" does not match the entire string \"aa\".<br>\n",
    "\n",
    "Example 2:<br>\n",
    "Input:<br>\n",
    "s = \"aa\"<br>\n",
    "p = \"$a*$\"<br>\n",
    "Output: true<br>\n",
    "Explanation: '*' means zero or more of the preceding element, 'a'. Therefore, by repeating 'a' once, it becomes \"aa\".\n",
    "\n",
    "Example 3:<br>\n",
    "Input:<br>\n",
    "s = \"ab\"<br>\n",
    "p = \"$.*$\"<br>\n",
    "Output: true<br>\n",
    "Explanation: \".*\" means \"zero or more (*) of any character (.)\".<br>\n",
    "\n",
    "Example 4:<br>\n",
    "Input:<br>\n",
    "s = \"aab\"<br>\n",
    "p = \"$c*a*b$\"<br>\n",
    "Output: true<br>\n",
    "Explanation: c can be repeated 0 times, a can be repeated 1 time. Therefore, it matches \"aab\".\n",
    "\n",
    "Example 5:<br>\n",
    "Input:<br>\n",
    "s = \"mississippi\"<br>\n",
    "p = \"$mis*is*p*.$\"<br>\n",
    "Output: false"
   ]
  },
  {
   "cell_type": "code",
   "execution_count": 198,
   "metadata": {},
   "outputs": [
    {
     "name": "stdout",
     "output_type": "stream",
     "text": [
      "['a']\n",
      "[[None None None]\n",
      " [None None None]]\n",
      "a\n",
      "Case1: None, case2:inf\n",
      "[[inf None None]\n",
      " [inf 0 inf]]\n",
      "[[inf None None]\n",
      " [inf 0 inf]]\n"
     ]
    },
    {
     "data": {
      "text/plain": [
       "False"
      ]
     },
     "execution_count": 198,
     "metadata": {},
     "output_type": "execute_result"
    }
   ],
   "source": [
    "import numpy as np\n",
    "\n",
    "class Solution:\n",
    "    '''\n",
    "    Penalty:\n",
    "        . = 0\n",
    "        * = 1\n",
    "        #.* = 0\n",
    "        .* = -2\n",
    "        char match = 0\n",
    "        char no match = + infinity\n",
    "        empty string = + infinity\n",
    "    '''\n",
    "    \n",
    "    def penalize(self, pc: str, sc: str, charset):\n",
    "        if pc == sc and charset == 0:\n",
    "            charset = 1\n",
    "            return 0, charset\n",
    "        elif pc == sc and charset == 1:\n",
    "            return float('inf'), charset\n",
    "        elif pc == '.' and charset == 0:\n",
    "            charset = 1\n",
    "            return 0, charset\n",
    "        elif pc == '.' and charset == 1:\n",
    "            return float('inf'), charset\n",
    "        elif pc[0] == '*':\n",
    "            if pc[1] == '.':\n",
    "                return -2, charset\n",
    "            elif pc[1] != sc:\n",
    "                return float('inf'), charset\n",
    "            else:\n",
    "                return 1, charset\n",
    "        else:\n",
    "            return float('inf'), charset\n",
    "    \n",
    "    def isMatch(self, s: str, p: str) -> bool:\n",
    "        prev = p[::-1]\n",
    "        plist = []\n",
    "        cont = False\n",
    "        for i in range(len(prev)):\n",
    "            if cont == True:\n",
    "                cont = False\n",
    "                continue\n",
    "            if prev[i] == '*':\n",
    "                plist.append(prev[i]+prev[i+1])\n",
    "                cont = True\n",
    "            else:\n",
    "                plist.append(prev[i])\n",
    "        plist = list(reversed(plist))\n",
    "        print(plist)\n",
    "        slist = list(s)\n",
    "        A = np.full((len(plist)+1, len(slist)+1), None)\n",
    "        print(A)\n",
    "        A[:,0] = float('inf')\n",
    "        for i in range(1, len(plist)+1):\n",
    "            charset = 0\n",
    "            mustchar = 0\n",
    "            ischar = 1 if plist[i-1][0] != '*' else 0\n",
    "            print(plist[i-1][0])\n",
    "            for j in range(1, len(slist)+1):\n",
    "                if j == 1:\n",
    "                    A[i][j], charset = self.penalize(plist[i-1], slist[j-1], charset)\n",
    "                    if i > 1:\n",
    "                        if A[i-1][j] <= A[i][j]:\n",
    "                            charset = 0\n",
    "                            A[i][j] = A[i-1][j]\n",
    "                        else:\n",
    "                            mustchar = 1\n",
    "                    else:\n",
    "                        mustchar = 1\n",
    "                else:\n",
    "                    case1 = A[i-1][j]\n",
    "                    case2, charset = self.penalize(plist[i-1], slist[j-1], charset)\n",
    "                    case2 += A[i][j-1] \n",
    "                    print(\"Case1: {}, case2:{}\".format(case1, case2))\n",
    "                    if case1 == None:\n",
    "                        mustchar = 1\n",
    "                        A[i][j] = case2\n",
    "                    elif case1 <= case2:\n",
    "                        charset = 0\n",
    "                        A[i][j] = case1\n",
    "                        if ischar == 1 and case1 == case2 :\n",
    "                            mustchar = 1\n",
    "                    else:\n",
    "                        mustchar = 1\n",
    "                        A[i][j] = case2\n",
    "            print(A)\n",
    "            if mustchar == 0 and ischar == 1:\n",
    "                return False\n",
    "        print(A)\n",
    "        if (A[-1][-1] == None or A[-1][-1] == float('inf')) and (len(A[-1]) > 1):\n",
    "            return False\n",
    "        else:\n",
    "            return True\n",
    "                \n",
    "        \n",
    "c = Solution()\n",
    "c.isMatch(\"aa\", \"a\")"
   ]
  },
  {
   "cell_type": "code",
   "execution_count": 218,
   "metadata": {},
   "outputs": [
    {
     "name": "stdout",
     "output_type": "stream",
     "text": [
      "['a']\n",
      "['2a']\n"
     ]
    }
   ],
   "source": [
    "import numpy as np\n",
    "\n",
    "class Solution:\n",
    "    '''\n",
    "    Penalty:\n",
    "        . = 0\n",
    "        * = 1\n",
    "        #.* = 0\n",
    "        .* = -2\n",
    "        char match = 0\n",
    "        char no match = + infinity\n",
    "        empty string = + infinity\n",
    "    '''\n",
    "    \n",
    "    def penalize(self, pc: str, sc: str, charset):\n",
    "        if pc == sc and charset == 0:\n",
    "            charset = 1\n",
    "            return 0, charset\n",
    "        elif pc == sc and charset == 1:\n",
    "            return float('inf'), charset\n",
    "        elif pc == '.' and charset == 0:\n",
    "            charset = 1\n",
    "            return 0, charset\n",
    "        elif pc == '.' and charset == 1:\n",
    "            return float('inf'), charset\n",
    "        elif pc[0] == '*':\n",
    "            if pc[1] == '.':\n",
    "                return -2, charset\n",
    "            elif pc[1] != sc:\n",
    "                return float('inf'), charset\n",
    "            else:\n",
    "                return 1, charset\n",
    "        else:\n",
    "            return float('inf'), charset\n",
    "    \n",
    "    def isMatch(self, s: str, p: str) -> bool:\n",
    "        prev = p[::-1]\n",
    "        plist = []\n",
    "        slist = []\n",
    "        cont = False\n",
    "        for i in range(len(prev)):\n",
    "            if cont == True:\n",
    "                cont = False\n",
    "                continue\n",
    "            if prev[i] == '*':\n",
    "                plist.append(prev[i]+prev[i+1])\n",
    "                cont = True\n",
    "            else:\n",
    "                plist.append(prev[i])\n",
    "        plist = list(reversed(plist))\n",
    "        char = None\n",
    "        charcount = 0\n",
    "        if s == '':\n",
    "            slist = None\n",
    "        else:\n",
    "            for i in range(len(s)):\n",
    "                if char == s[i]:\n",
    "                    charcount += 1\n",
    "                else:\n",
    "                    if charcount >= 1:\n",
    "                        slist.append(str(charcount)+char)\n",
    "                    char = s[i]\n",
    "                    charcount = 1\n",
    "            slist.append(str(charcount)+char)\n",
    "            print(plist)\n",
    "            print(slist)\n",
    "        used = [0]*len(slist)\n",
    "        satisfied = [0]*len(plist)\n",
    "        \n",
    "        i, j = 0, 0\n",
    "        while True:\n",
    "            if i >= len(used) or j >= len(satisfied):\n",
    "                break\n",
    "            if int(slist[i][0]) > 1:\n",
    "                i += 1 \n",
    "                continue\n",
    "            if plist[j][0] == '*':\n",
    "                j += 1\n",
    "                continue\n",
    "            if int(slist[i][0]) == 1:\n",
    "                if slist[i][1] == plist[j][0]:\n",
    "                    used[i] = 1\n",
    "                    satisfied[j] = 1\n",
    "            \n",
    "            \n",
    "c = Solution()\n",
    "c.isMatch(\"aa\", \"a\")"
   ]
  },
  {
   "cell_type": "code",
   "execution_count": 219,
   "metadata": {},
   "outputs": [
    {
     "name": "stdout",
     "output_type": "stream",
     "text": [
      "['*.', '*a', 'a']\n",
      "['4b', '1a']\n"
     ]
    }
   ],
   "source": [
    "c.isMatch(\"bbbba\",\".*a*a\")"
   ]
  },
  {
   "cell_type": "code",
   "execution_count": 220,
   "metadata": {},
   "outputs": [
    {
     "name": "stdout",
     "output_type": "stream",
     "text": [
      "['*.', 'b']\n",
      "['3b', '1a']\n"
     ]
    }
   ],
   "source": [
    "c.isMatch(\"bbba\",\".*b\")"
   ]
  },
  {
   "cell_type": "code",
   "execution_count": 230,
   "metadata": {},
   "outputs": [],
   "source": [
    "c.isMatch(\"\",\".*\")"
   ]
  },
  {
   "cell_type": "code",
   "execution_count": 222,
   "metadata": {},
   "outputs": [
    {
     "name": "stdout",
     "output_type": "stream",
     "text": [
      "['a', '.', 'a']\n",
      "['3a']\n"
     ]
    }
   ],
   "source": [
    "c.isMatch(\"aaa\",\"a.a\")"
   ]
  },
  {
   "cell_type": "code",
   "execution_count": 223,
   "metadata": {},
   "outputs": [
    {
     "name": "stdout",
     "output_type": "stream",
     "text": [
      "['m', 'i', '*s', 'i', '*s', 'i', '*p', '.']\n",
      "['1m', '1i', '2s', '1i', '2s', '1i', '2p', '1i']\n"
     ]
    }
   ],
   "source": [
    "c.isMatch(\"mississippi\",\"mis*is*ip*.\")"
   ]
  },
  {
   "cell_type": "code",
   "execution_count": 224,
   "metadata": {},
   "outputs": [
    {
     "name": "stdout",
     "output_type": "stream",
     "text": [
      "['*.', 'c']\n",
      "['1a', '1b']\n"
     ]
    }
   ],
   "source": [
    "c.isMatch(\"ab\",\".*c\")"
   ]
  },
  {
   "cell_type": "code",
   "execution_count": 225,
   "metadata": {},
   "outputs": [
    {
     "name": "stdout",
     "output_type": "stream",
     "text": [
      "['a', 'a']\n",
      "['2a']\n"
     ]
    }
   ],
   "source": [
    "c.isMatch(\"aa\",\"aa\")"
   ]
  },
  {
   "cell_type": "code",
   "execution_count": 226,
   "metadata": {},
   "outputs": [
    {
     "name": "stdout",
     "output_type": "stream",
     "text": [
      "['*a']\n",
      "['2a']\n"
     ]
    }
   ],
   "source": [
    "c.isMatch(\"aa\", \"a*\")"
   ]
  },
  {
   "cell_type": "code",
   "execution_count": 227,
   "metadata": {},
   "outputs": [
    {
     "name": "stdout",
     "output_type": "stream",
     "text": [
      "['*.']\n",
      "['1a', '1b']\n"
     ]
    }
   ],
   "source": [
    "c.isMatch(\"ab\", \".*\")"
   ]
  },
  {
   "cell_type": "code",
   "execution_count": 228,
   "metadata": {},
   "outputs": [
    {
     "name": "stdout",
     "output_type": "stream",
     "text": [
      "['*c', '*a', 'b']\n",
      "['2a', '1b']\n"
     ]
    }
   ],
   "source": [
    "c.isMatch(\"aab\", \"c*a*b\")"
   ]
  },
  {
   "cell_type": "code",
   "execution_count": 229,
   "metadata": {},
   "outputs": [
    {
     "name": "stdout",
     "output_type": "stream",
     "text": [
      "['m', 'i', '*s', 'i', '*s', '*p', '.']\n",
      "['1m', '1i', '2s', '1i', '2s', '1i', '2p', '1i']\n"
     ]
    }
   ],
   "source": [
    "c.isMatch(\"mississippi\", \"mis*is*p*.\")"
   ]
  },
  {
   "cell_type": "code",
   "execution_count": null,
   "metadata": {},
   "outputs": [],
   "source": []
  },
  {
   "cell_type": "code",
   "execution_count": null,
   "metadata": {},
   "outputs": [],
   "source": []
  },
  {
   "cell_type": "code",
   "execution_count": null,
   "metadata": {},
   "outputs": [],
   "source": []
  },
  {
   "cell_type": "code",
   "execution_count": null,
   "metadata": {},
   "outputs": [],
   "source": []
  }
 ],
 "metadata": {
  "kernelspec": {
   "display_name": "Python 3",
   "language": "python",
   "name": "python3"
  },
  "language_info": {
   "codemirror_mode": {
    "name": "ipython",
    "version": 3
   },
   "file_extension": ".py",
   "mimetype": "text/x-python",
   "name": "python",
   "nbconvert_exporter": "python",
   "pygments_lexer": "ipython3",
   "version": "3.6.8"
  }
 },
 "nbformat": 4,
 "nbformat_minor": 2
}
