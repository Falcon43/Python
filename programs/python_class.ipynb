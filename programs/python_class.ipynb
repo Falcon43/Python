{
 "cells": [
  {
   "cell_type": "markdown",
   "metadata": {},
   "source": [
    "`repr` and `str` have different semantics: repr should be Python source that would (re-)create the same object -- this is its representation in code ; str should be a pretty userland stringification of the object. "
   ]
  },
  {
   "cell_type": "code",
   "execution_count": 13,
   "metadata": {},
   "outputs": [
    {
     "name": "stdout",
     "output_type": "stream",
     "text": [
      "Foobar object is created.\n",
      "Type what do you want to see here.\n",
      "Printing with format can use __repr__ or __str__: Type what do you want to see here.\n",
      "Private function.\n",
      "3.0\n"
     ]
    }
   ],
   "source": [
    "class Foobar():\n",
    "    \"\"\"This will create Foobar type object.\"\"\"\n",
    "    import math\n",
    "    \n",
    "    def __init__(self):\n",
    "        print \"Foobar object is created.\"\n",
    "\n",
    "    def __repr__(self):\n",
    "        return \"Type what do you want to see here.\"\n",
    "    \n",
    "    def _privatefn(self): \n",
    "        # This convention is used for declaring private variables, functions, methods and classes in a module. \n",
    "        #Anything with this convention are ignored in from module import *\n",
    "        #However, of course, Python does not supports truly private, so we can not force somethings private ones \n",
    "        #and also can call it directly from other modules. So sometimes we say it “weak internal use indicator”.\n",
    "        print \"Private function.\"\n",
    "    \n",
    "    def import_check(self):\n",
    "        print self.math.ceil(2.5)\n",
    "\n",
    "a = Foobar()\n",
    "\n",
    "print(a)\n",
    "print(\"Printing with format can use __repr__ or __str__: {}\".format(a))\n",
    "a._privatefn()\n",
    "a.import_check()\n"
   ]
  },
  {
   "cell_type": "code",
   "execution_count": null,
   "metadata": {},
   "outputs": [],
   "source": []
  }
 ],
 "metadata": {
  "kernelspec": {
   "display_name": "Python 2",
   "language": "python",
   "name": "python2"
  },
  "language_info": {
   "codemirror_mode": {
    "name": "ipython",
    "version": 2
   },
   "file_extension": ".py",
   "mimetype": "text/x-python",
   "name": "python",
   "nbconvert_exporter": "python",
   "pygments_lexer": "ipython2",
   "version": "2.7.14"
  }
 },
 "nbformat": 4,
 "nbformat_minor": 2
}
