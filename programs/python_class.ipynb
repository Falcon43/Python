{
 "cells": [
  {
   "cell_type": "markdown",
   "metadata": {},
   "source": [
    "`repr` and `str` have different semantics: repr should be Python source that would (re-)create the same object -- this is its representation in code ; str should be a pretty userland stringification of the object. "
   ]
  },
  {
   "cell_type": "code",
   "execution_count": 6,
   "metadata": {},
   "outputs": [
    {
     "name": "stdout",
     "output_type": "stream",
     "text": [
      "Foobar object is created.\n",
      "Type what do you want to see here.\n",
      "Printing with format: Type what do you want to see here.\n"
     ]
    }
   ],
   "source": [
    "class Foobar():\n",
    "    \"\"\"This will create Foobar type object.\"\"\"\n",
    "\n",
    "    def __init__(self):\n",
    "        print \"Foobar object is created.\"\n",
    "\n",
    "    def __repr__(self):\n",
    "        return \"Type what do you want to see here.\"\n",
    "\n",
    "a = Foobar()\n",
    "\n",
    "print(a)\n",
    "print(\"Printing with format can use __repr__ or __str__: {}\".format(a))\n",
    "\n"
   ]
  },
  {
   "cell_type": "code",
   "execution_count": null,
   "metadata": {},
   "outputs": [],
   "source": []
  }
 ],
 "metadata": {
  "kernelspec": {
   "display_name": "Python 2",
   "language": "python",
   "name": "python2"
  },
  "language_info": {
   "codemirror_mode": {
    "name": "ipython",
    "version": 2
   },
   "file_extension": ".py",
   "mimetype": "text/x-python",
   "name": "python",
   "nbconvert_exporter": "python",
   "pygments_lexer": "ipython2",
   "version": "2.7.14"
  }
 },
 "nbformat": 4,
 "nbformat_minor": 2
}
