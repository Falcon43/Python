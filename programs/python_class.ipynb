{
 "cells": [
  {
   "cell_type": "markdown",
   "metadata": {},
   "source": [
    "`repr` and `str` have different semantics: repr should be Python source that would (re-)create the same object -- this is its representation in code ; str should be a pretty userland stringification of the object. "
   ]
  },
  {
   "cell_type": "code",
   "execution_count": 4,
   "metadata": {},
   "outputs": [
    {
     "name": "stdout",
     "output_type": "stream",
     "text": [
      "Foobar object is created.\n",
      "Type what do you want to see here.\n",
      "Printing with format can use __repr__ or __str__: Type what do you want to see here.\n",
      "Private function.\n",
      "3.0\n",
      "3\n",
      "4\n",
      "Length using use __len__ : 3\n"
     ]
    }
   ],
   "source": [
    "class Foobar():\n",
    "    \"\"\"This will create Foobar type object.\"\"\"\n",
    "    import math\n",
    "    \n",
    "    def __init__(self):\n",
    "        print \"Foobar object is created.\"\n",
    "        self.x = [1, 2, 3]\n",
    "\n",
    "    def __repr__(self):\n",
    "        return \"Type what do you want to see here.\"\n",
    "    \n",
    "    def _privatefn(self): \n",
    "        # This convention is used for declaring private variables, functions, methods and classes in a module. \n",
    "        #Anything with this convention are ignored in from module import *\n",
    "        #However, of course, Python does not supports truly private, so we can not force somethings private ones \n",
    "        #and also can call it directly from other modules. So sometimes we say it “weak internal use indicator”.\n",
    "        print \"Private function.\"\n",
    "    \n",
    "    def __getitem__(self, index):\n",
    "        n = len(self.x)\n",
    "        if n <= index:\n",
    "            return None\n",
    "        else:\n",
    "            return self.x[index]\n",
    "    \n",
    "    def __setitem__(self, index, value):\n",
    "        self.x[index] = value\n",
    "\n",
    "    def __len__(self):\n",
    "        return len(self.x)\n",
    "    \n",
    "    def import_check(self):\n",
    "        print self.math.ceil(2.5)\n",
    "        \n",
    "    \n",
    "    \n",
    "\n",
    "a = Foobar()\n",
    "\n",
    "print(a)\n",
    "print(\"Printing with format can use __repr__ or __str__: {}\".format(a))\n",
    "a._privatefn()\n",
    "a.import_check()\n",
    "print(a[2])\n",
    "a[2] = 4\n",
    "print(a[2])\n",
    "print(\"Length using use __len__ : {}\".format(len(a)))\n",
    "\n"
   ]
  },
  {
   "cell_type": "markdown",
   "metadata": {},
   "source": [
    "***\n",
    "Default argument values are evaluated at function define-time, but self is an argument only available at function call time. Thus arguments in the argument list cannot refer each other.\n",
    "\n",
    "It's a common pattern to default an argument to None and add a test for that in code:"
   ]
  },
  {
   "cell_type": "code",
   "execution_count": 5,
   "metadata": {},
   "outputs": [
    {
     "name": "stdout",
     "output_type": "stream",
     "text": [
      "9\n"
     ]
    }
   ],
   "source": [
    "class Foobar():\n",
    "    def __init__(self):\n",
    "        self.a = 9\n",
    "\n",
    "    def p(self, b=None):\n",
    "        if b is None:\n",
    "            b = self.a\n",
    "        print b\n",
    "f = Foobar()\n",
    "f.p()"
   ]
  },
  {
   "cell_type": "code",
   "execution_count": 1,
   "metadata": {},
   "outputs": [
    {
     "name": "stdout",
     "output_type": "stream",
     "text": [
      "x=1\n",
      "y=2\n",
      "z=3\n"
     ]
    }
   ],
   "source": [
    "def foo(x,y,z):\n",
    "    print(\"x=\" + str(x))\n",
    "    print(\"y=\" + str(y))\n",
    "    print(\"z=\" + str(z))\n",
    "    \n",
    "mylist = [1,2,3]\n",
    "foo(*mylist)"
   ]
  },
  {
   "cell_type": "code",
   "execution_count": 6,
   "metadata": {},
   "outputs": [
    {
     "name": "stdout",
     "output_type": "stream",
     "text": [
      "1\n",
      "2\n",
      "3\n",
      "1 2 3\n"
     ]
    }
   ],
   "source": [
    "def foo(*args):\n",
    "    for a in args:\n",
    "        print(a)\n",
    "    print(*args)\n",
    "\n",
    "    \n",
    "foo(1,2,3)"
   ]
  },
  {
   "cell_type": "code",
   "execution_count": 7,
   "metadata": {},
   "outputs": [
    {
     "name": "stdout",
     "output_type": "stream",
     "text": [
      "1\n",
      "2\n",
      "3\n",
      "4\n",
      "5\n",
      "1 2 3 4 5\n"
     ]
    }
   ],
   "source": [
    "foo(1,2,3,4,5)"
   ]
  },
  {
   "cell_type": "code",
   "execution_count": 18,
   "metadata": {},
   "outputs": [
    {
     "name": "stdout",
     "output_type": "stream",
     "text": [
      "function name func\n",
      "    a = 1\n",
      "    b = 2\n",
      "    c = 3\n"
     ]
    },
    {
     "data": {
      "text/plain": [
       "[('a', 1), ('b', 2), ('c', 3)]"
      ]
     },
     "execution_count": 18,
     "metadata": {},
     "output_type": "execute_result"
    }
   ],
   "source": [
    "import inspect\n",
    "\n",
    "def func(a, b, c):\n",
    "    frame = inspect.currentframe()\n",
    "    args, _, _, values = inspect.getargvalues(frame)\n",
    "    print(\"function name {}\".format(inspect.getframeinfo(frame)[2]))\n",
    "    for i in args:\n",
    "        print(\"    {} = {}\".format(i, values[i]))\n",
    "    return [(i, values[i]) for i in args]\n",
    "\n",
    "func(1, 2, 3)\n"
   ]
  },
  {
   "cell_type": "code",
   "execution_count": null,
   "metadata": {},
   "outputs": [],
   "source": []
  }
 ],
 "metadata": {
  "kernelspec": {
   "display_name": "Python 3",
   "language": "python",
   "name": "python3"
  },
  "language_info": {
   "codemirror_mode": {
    "name": "ipython",
    "version": 3
   },
   "file_extension": ".py",
   "mimetype": "text/x-python",
   "name": "python",
   "nbconvert_exporter": "python",
   "pygments_lexer": "ipython3",
   "version": "3.6.8"
  }
 },
 "nbformat": 4,
 "nbformat_minor": 2
}
