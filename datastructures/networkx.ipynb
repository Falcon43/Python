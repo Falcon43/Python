{
 "cells": [
  {
   "cell_type": "markdown",
   "metadata": {},
   "source": [
    "# Queue"
   ]
  },
  {
   "cell_type": "code",
   "execution_count": 2,
   "metadata": {},
   "outputs": [
    {
     "name": "stdout",
     "output_type": "stream",
     "text": [
      "Queue empty: False\n",
      "item-0\n",
      "item-1\n",
      "item-2\n"
     ]
    }
   ],
   "source": [
    "from multiprocessing import Queue\n",
    "\n",
    "q = Queue()\n",
    "#put items at the end of the queue\n",
    "for x in range(4):\n",
    "    q.put(\"item-\" + str(x))\n",
    "print(\"Queue empty: {}\".format(q.empty()))\n",
    "\n",
    "\n",
    "#remove items from the head of the queue\n",
    "while not q.empty():\n",
    "    print q.get()"
   ]
  },
  {
   "cell_type": "code",
   "execution_count": 172,
   "metadata": {},
   "outputs": [
    {
     "name": "stdout",
     "output_type": "stream",
     "text": [
      "Queue empty: False\n",
      "0\n",
      "1\n",
      "2\n",
      "3\n",
      "Queue empty: True\n"
     ]
    }
   ],
   "source": [
    "qu = Queue()\n",
    "for x in range(4):\n",
    "    qu.put(x)\n",
    "print(\"Queue empty: {}\".format(qu.empty()))\n",
    "while not qu.empty():\n",
    "    #print qu.get()\n",
    "    z = qu.get()\n",
    "    print(z)\n",
    "print(\"Queue empty: {}\".format(qu.empty()))"
   ]
  },
  {
   "cell_type": "markdown",
   "metadata": {},
   "source": [
    "##### Example of how to wait for enqueued tasks to be completed:"
   ]
  },
  {
   "cell_type": "code",
   "execution_count": 211,
   "metadata": {},
   "outputs": [
    {
     "name": "stdout",
     "output_type": "stream",
     "text": [
      "Queue empty: False\n",
      "0\n",
      "1\n",
      "2\n",
      "3\n"
     ]
    }
   ],
   "source": [
    "from threading import Thread\n",
    "\n",
    "def worker():\n",
    "    #while True:\n",
    "    item = q.get()\n",
    "    print(item)\n",
    "    #q.task_done()\n",
    "\n",
    "q = Queue()\n",
    "\n",
    "for item in range(4):\n",
    "    q.put(item) \n",
    "print(\"Queue empty: {}\".format(q.empty()))    \n",
    "#print(\"Queue size: {}\".format(q.qsize()))    \n",
    "\n",
    " \n",
    "for i in range(4):\n",
    "    t = Thread(target=worker)\n",
    "    t.daemon = True\n",
    "    t.start()\n",
    "\n",
    "#q.join()       # block until all tasks are done"
   ]
  },
  {
   "cell_type": "markdown",
   "metadata": {},
   "source": [
    "As per the documentation, neither empty(), full(), nor qsize() are reliable.\n",
    "\n",
    "Alternatives includes:\n",
    "\n",
    "Reading the exact amount of items going through the Queue:\n",
    "\n",
    "This is useful if you know beforehand how many items must be processed in total or how many will be processed by each thread.\n",
    "\n"
   ]
  },
  {
   "cell_type": "code",
   "execution_count": 212,
   "metadata": {},
   "outputs": [
    {
     "name": "stdout",
     "output_type": "stream",
     "text": [
      "0\n",
      "1\n",
      "2\n",
      "3\n"
     ]
    }
   ],
   "source": [
    "q = Queue()\n",
    "\n",
    "for item in range(4):\n",
    "    q.put(item) \n",
    "\n",
    "for item in range(4):\n",
    "    print q.get(item) \n"
   ]
  },
  {
   "cell_type": "code",
   "execution_count": 215,
   "metadata": {},
   "outputs": [
    {
     "ename": "Empty",
     "evalue": "",
     "output_type": "error",
     "traceback": [
      "\u001b[0;31m---------------------------------------------------------------------------\u001b[0m",
      "\u001b[0;31mEmpty\u001b[0m                                     Traceback (most recent call last)",
      "\u001b[0;32m<ipython-input-215-7e3b94be125b>\u001b[0m in \u001b[0;36m<module>\u001b[0;34m()\u001b[0m\n\u001b[1;32m      8\u001b[0m \u001b[0;34m\u001b[0m\u001b[0m\n\u001b[1;32m      9\u001b[0m \u001b[0;32mfor\u001b[0m \u001b[0mitem\u001b[0m \u001b[0;32min\u001b[0m \u001b[0mrange\u001b[0m\u001b[0;34m(\u001b[0m\u001b[0;36m1\u001b[0m\u001b[0;34m)\u001b[0m\u001b[0;34m:\u001b[0m\u001b[0;34m\u001b[0m\u001b[0m\n\u001b[0;32m---> 10\u001b[0;31m     \u001b[0;32mprint\u001b[0m \u001b[0mq\u001b[0m\u001b[0;34m.\u001b[0m\u001b[0mget\u001b[0m\u001b[0;34m(\u001b[0m\u001b[0mitem\u001b[0m\u001b[0;34m)\u001b[0m\u001b[0;34m\u001b[0m\u001b[0m\n\u001b[0m",
      "\u001b[0;32m/Users/aishwaya/anaconda2/lib/python2.7/multiprocessing/queues.pyc\u001b[0m in \u001b[0;36mget\u001b[0;34m(self, block, timeout)\u001b[0m\n\u001b[1;32m    132\u001b[0m                         \u001b[0;32mraise\u001b[0m \u001b[0mEmpty\u001b[0m\u001b[0;34m\u001b[0m\u001b[0m\n\u001b[1;32m    133\u001b[0m                 \u001b[0;32melif\u001b[0m \u001b[0;32mnot\u001b[0m \u001b[0mself\u001b[0m\u001b[0;34m.\u001b[0m\u001b[0m_poll\u001b[0m\u001b[0;34m(\u001b[0m\u001b[0;34m)\u001b[0m\u001b[0;34m:\u001b[0m\u001b[0;34m\u001b[0m\u001b[0m\n\u001b[0;32m--> 134\u001b[0;31m                     \u001b[0;32mraise\u001b[0m \u001b[0mEmpty\u001b[0m\u001b[0;34m\u001b[0m\u001b[0m\n\u001b[0m\u001b[1;32m    135\u001b[0m                 \u001b[0mres\u001b[0m \u001b[0;34m=\u001b[0m \u001b[0mself\u001b[0m\u001b[0;34m.\u001b[0m\u001b[0m_recv\u001b[0m\u001b[0;34m(\u001b[0m\u001b[0;34m)\u001b[0m\u001b[0;34m\u001b[0m\u001b[0m\n\u001b[1;32m    136\u001b[0m                 \u001b[0mself\u001b[0m\u001b[0;34m.\u001b[0m\u001b[0m_sem\u001b[0m\u001b[0;34m.\u001b[0m\u001b[0mrelease\u001b[0m\u001b[0;34m(\u001b[0m\u001b[0;34m)\u001b[0m\u001b[0;34m\u001b[0m\u001b[0m\n",
      "\u001b[0;31mEmpty\u001b[0m: "
     ]
    }
   ],
   "source": [
    "q = Queue()\n",
    "\n",
    "\n",
    "for item in range(4):\n",
    "    q.put(item) \n",
    "    \n",
    "q = Queue()   #q.clear()  # Clear Queue\n",
    " \n",
    "for item in range(1):\n",
    "    print q.get(item) "
   ]
  },
  {
   "cell_type": "markdown",
   "metadata": {},
   "source": [
    "# Graph"
   ]
  },
  {
   "cell_type": "code",
   "execution_count": 4,
   "metadata": {},
   "outputs": [
    {
     "data": {
      "image/png": "[encoded data removed]",
      "text/plain": [
       "<matplotlib.figure.Figure at 0x151dc2bd90>"
      ]
     },
     "metadata": {},
     "output_type": "display_data"
    }
   ],
   "source": [
    "import networkx as nx\n",
    "G = nx.Graph()\n",
    "G.add_edges_from([(4, 2), (2, 3)])\n",
    "G.add_node(1)\n",
    "G.add_edge(1, 2)\n",
    "G.add_node(\"spam\")        # adds node \"spam\"\n",
    "G.add_nodes_from(\"spam\")  # adds 4 nodes: 's', 'p', 'a', 'm'\n",
    "G.add_edge(3, 'm')\n",
    "nx.draw(G, with_labels = True)"
   ]
  },
  {
   "cell_type": "code",
   "execution_count": 99,
   "metadata": {},
   "outputs": [
    {
     "data": {
      "text/plain": [
       "9"
      ]
     },
     "execution_count": 99,
     "metadata": {},
     "output_type": "execute_result"
    }
   ],
   "source": [
    "G.number_of_nodes()"
   ]
  },
  {
   "cell_type": "code",
   "execution_count": 100,
   "metadata": {},
   "outputs": [
    {
     "data": {
      "text/plain": [
       "4"
      ]
     },
     "execution_count": 100,
     "metadata": {},
     "output_type": "execute_result"
    }
   ],
   "source": [
    "G.number_of_edges()"
   ]
  },
  {
   "cell_type": "code",
   "execution_count": 101,
   "metadata": {},
   "outputs": [
    {
     "data": {
      "text/plain": [
       "['a', 1, 2, 3, 4, 'spam', 'm', 'p', 's']"
      ]
     },
     "execution_count": 101,
     "metadata": {},
     "output_type": "execute_result"
    }
   ],
   "source": [
    "list(G.nodes)"
   ]
  },
  {
   "cell_type": "code",
   "execution_count": 102,
   "metadata": {},
   "outputs": [
    {
     "data": {
      "text/plain": [
       "[(1, 2), (2, 3), (2, 4), (3, 'm')]"
      ]
     },
     "execution_count": 102,
     "metadata": {},
     "output_type": "execute_result"
    }
   ],
   "source": [
    "list(G.edges)"
   ]
  },
  {
   "cell_type": "code",
   "execution_count": 103,
   "metadata": {},
   "outputs": [
    {
     "name": "stdout",
     "output_type": "stream",
     "text": [
      "[2]\n",
      "[1, 3, 4]\n",
      "[1, 3, 4]\n",
      "{1: {}, 3: {}, 4: {}}\n",
      "{}\n"
     ]
    }
   ],
   "source": [
    "print(list(G.adj[1]))\n",
    "print(list(G.adj[2]))\n",
    "print(list(G.neighbors(2)))\n",
    "print(G[2])  # same as G.adj[1]\n",
    "print(G[2][1])"
   ]
  },
  {
   "cell_type": "code",
   "execution_count": 104,
   "metadata": {},
   "outputs": [
    {
     "name": "stdout",
     "output_type": "stream",
     "text": [
      "1\n",
      "3\n"
     ]
    }
   ],
   "source": [
    "print(G.degree[1])\n",
    "print(G.degree[2])"
   ]
  },
  {
   "cell_type": "code",
   "execution_count": 105,
   "metadata": {},
   "outputs": [
    {
     "data": {
      "text/plain": [
       "EdgeDataView([(4, 2), (1, 2), ('m', 3)])"
      ]
     },
     "execution_count": 105,
     "metadata": {},
     "output_type": "execute_result"
    }
   ],
   "source": [
    "G.edges([4, 1, 'm'])"
   ]
  },
  {
   "cell_type": "code",
   "execution_count": 106,
   "metadata": {},
   "outputs": [
    {
     "data": {
      "text/plain": [
       "DegreeView({2: 3, 3: 2, 'm': 1})"
      ]
     },
     "execution_count": 106,
     "metadata": {},
     "output_type": "execute_result"
    }
   ],
   "source": [
    "G.degree([2, 3, 'm'])"
   ]
  },
  {
   "cell_type": "code",
   "execution_count": 107,
   "metadata": {},
   "outputs": [
    {
     "data": {
      "image/png": "[encoded data removed]",
      "text/plain": [
       "<matplotlib.figure.Figure at 0x151e09b6d0>"
      ]
     },
     "metadata": {},
     "output_type": "display_data"
    }
   ],
   "source": [
    "G.remove_node('p')\n",
    "nx.draw(G, with_labels = True)"
   ]
  },
  {
   "cell_type": "code",
   "execution_count": 108,
   "metadata": {},
   "outputs": [
    {
     "data": {
      "image/png": "[encoded data removed]",
      "text/plain": [
       "<matplotlib.figure.Figure at 0x151e2be110>"
      ]
     },
     "metadata": {},
     "output_type": "display_data"
    }
   ],
   "source": [
    "G.remove_nodes_from(\"spam\")\n",
    "nx.draw(G, with_labels = True)"
   ]
  },
  {
   "cell_type": "code",
   "execution_count": 109,
   "metadata": {},
   "outputs": [
    {
     "data": {
      "text/plain": [
       "[1, 2, 3, 4, 'spam']"
      ]
     },
     "execution_count": 109,
     "metadata": {},
     "output_type": "execute_result"
    }
   ],
   "source": [
    "list(G.nodes)"
   ]
  },
  {
   "cell_type": "code",
   "execution_count": 110,
   "metadata": {},
   "outputs": [
    {
     "data": {
      "image/png": "[encoded data removed]",
      "text/plain": [
       "<matplotlib.figure.Figure at 0x151e2b9a90>"
      ]
     },
     "metadata": {},
     "output_type": "display_data"
    }
   ],
   "source": [
    "G.remove_edge(1, 2)\n",
    "nx.draw(G, with_labels = True)"
   ]
  },
  {
   "cell_type": "code",
   "execution_count": 111,
   "metadata": {},
   "outputs": [
    {
     "name": "stdout",
     "output_type": "stream",
     "text": [
      "[(1, 2), (2, 1), (2, 3), (2, 4), (3, 2), (4, 2)]\n"
     ]
    },
    {
     "data": {
      "image/png": "[encoded data removed]",
      "text/plain": [
       "<matplotlib.figure.Figure at 0x151e5fe510>"
      ]
     },
     "metadata": {},
     "output_type": "display_data"
    }
   ],
   "source": [
    "G.add_edge(1, 2)\n",
    "H = nx.DiGraph(G)   # create a DiGraph using the connections from G\n",
    "nx.draw(H, with_labels = True)\n",
    "print(list(H.edges()))"
   ]
  },
  {
   "cell_type": "code",
   "execution_count": 112,
   "metadata": {},
   "outputs": [
    {
     "data": {
      "image/png": "[encoded data removed]",
      "text/plain": [
       "<matplotlib.figure.Figure at 0x1177a1750>"
      ]
     },
     "metadata": {},
     "output_type": "display_data"
    }
   ],
   "source": [
    "edgelist = [(0, 1), (1, 2), (2, 3)]\n",
    "H = nx.Graph(edgelist)\n",
    "nx.draw(H, with_labels = True)"
   ]
  },
  {
   "cell_type": "code",
   "execution_count": 113,
   "metadata": {},
   "outputs": [
    {
     "data": {
      "image/png": "[encoded data removed]",
      "text/plain": [
       "<matplotlib.figure.Figure at 0x1179c5950>"
      ]
     },
     "metadata": {},
     "output_type": "display_data"
    }
   ],
   "source": [
    "G.add_edge(1, 3)\n",
    "G[1][3]['color'] = \"blue\"\n",
    "nx.draw(G, with_labels = True)"
   ]
  },
  {
   "cell_type": "code",
   "execution_count": 114,
   "metadata": {},
   "outputs": [
    {
     "name": "stdout",
     "output_type": "stream",
     "text": [
      "blue\n",
      "red\n"
     ]
    }
   ],
   "source": [
    "print(G.edges[1, 3]['color'])\n",
    "G.edges[1, 3]['color'] = \"red\"\n",
    "print(G.edges[1, 3]['color'])"
   ]
  },
  {
   "cell_type": "code",
   "execution_count": 115,
   "metadata": {},
   "outputs": [
    {
     "name": "stdout",
     "output_type": "stream",
     "text": [
      "[(1, AtlasView({2: {'weight': 0.125}, 3: {'weight': 0.75}})), (2, AtlasView({1: {'weight': 0.125}, 4: {'weight': 1.2}})), (3, AtlasView({1: {'weight': 0.75}, 4: {'weight': 0.375}})), (4, AtlasView({2: {'weight': 1.2}, 3: {'weight': 0.375}}))]\n"
     ]
    },
    {
     "data": {
      "image/png": "[encoded data removed]",
      "text/plain": [
       "<matplotlib.figure.Figure at 0x151df89fd0>"
      ]
     },
     "metadata": {},
     "output_type": "display_data"
    }
   ],
   "source": [
    "FG = nx.Graph()\n",
    "FG.add_weighted_edges_from([(1, 2, 0.125), (1, 3, 0.75), (2, 4, 1.2), (3, 4, 0.375)])\n",
    "nx.draw(FG, with_labels = True)\n",
    "print(FG.adj.items())"
   ]
  },
  {
   "cell_type": "code",
   "execution_count": 116,
   "metadata": {},
   "outputs": [
    {
     "data": {
      "text/plain": [
       "[1, 2, 4]"
      ]
     },
     "execution_count": 116,
     "metadata": {},
     "output_type": "execute_result"
    }
   ],
   "source": [
    "nx.shortest_path(FG, 1, 4)"
   ]
  },
  {
   "cell_type": "code",
   "execution_count": 117,
   "metadata": {},
   "outputs": [
    {
     "name": "stdout",
     "output_type": "stream",
     "text": [
      "(1, 2, 0.125)\n",
      "(2, 1, 0.125)\n",
      "(3, 4, 0.375)\n",
      "(4, 3, 0.375)\n"
     ]
    }
   ],
   "source": [
    "for n, nbrs in FG.adj.items():\n",
    "...    for nbr, eattr in nbrs.items():\n",
    "...        wt = eattr['weight']\n",
    "...        if wt < 0.5: print('(%d, %d, %.3f)' % (n, nbr, wt))"
   ]
  },
  {
   "cell_type": "code",
   "execution_count": 118,
   "metadata": {},
   "outputs": [
    {
     "name": "stdout",
     "output_type": "stream",
     "text": [
      "[(1, 2, 0.125), (1, 3, 0.75), (2, 4, 1.2), (3, 4, 0.375)]\n",
      "(1, 2, 0.125)\n",
      "(3, 4, 0.375)\n"
     ]
    }
   ],
   "source": [
    "print(FG.edges.data('weight'))\n",
    "for (u, v, wt) in FG.edges.data('weight'):\n",
    "    if wt < 0.5: print('(%d, %d, %.3f)' % (u, v, wt))"
   ]
  },
  {
   "cell_type": "markdown",
   "metadata": {},
   "source": [
    "### Graph attributes"
   ]
  },
  {
   "cell_type": "code",
   "execution_count": 119,
   "metadata": {},
   "outputs": [
    {
     "data": {
      "text/plain": [
       "{'day': 'Friday'}"
      ]
     },
     "execution_count": 119,
     "metadata": {},
     "output_type": "execute_result"
    },
    {
     "data": {
      "image/png": "[encoded data removed]",
      "text/plain": [
       "<matplotlib.figure.Figure at 0x151df944d0>"
      ]
     },
     "metadata": {},
     "output_type": "display_data"
    }
   ],
   "source": [
    "G = nx.Graph(day=\"Friday\")\n",
    "nx.draw(G, with_labels = True)\n",
    "G.graph"
   ]
  },
  {
   "cell_type": "code",
   "execution_count": 120,
   "metadata": {},
   "outputs": [
    {
     "data": {
      "text/plain": [
       "{'day': 'Monday'}"
      ]
     },
     "execution_count": 120,
     "metadata": {},
     "output_type": "execute_result"
    }
   ],
   "source": [
    "G.graph['day'] = \"Monday\"\n",
    "G.graph"
   ]
  },
  {
   "cell_type": "markdown",
   "metadata": {},
   "source": [
    "### Node attributes"
   ]
  },
  {
   "cell_type": "code",
   "execution_count": 121,
   "metadata": {},
   "outputs": [
    {
     "data": {
      "text/plain": [
       "{'time': '5pm'}"
      ]
     },
     "execution_count": 121,
     "metadata": {},
     "output_type": "execute_result"
    },
    {
     "data": {
      "image/png": "[encoded data removed]",
      "text/plain": [
       "<matplotlib.figure.Figure at 0x151eabbe10>"
      ]
     },
     "metadata": {},
     "output_type": "display_data"
    }
   ],
   "source": [
    "G.add_node(1, time='5pm')\n",
    "G.add_nodes_from([3], time='2pm')\n",
    "nx.draw(G, with_labels = True)\n",
    "G.nodes[1]"
   ]
  },
  {
   "cell_type": "code",
   "execution_count": 122,
   "metadata": {},
   "outputs": [
    {
     "data": {
      "text/plain": [
       "NodeDataView({1: {'room': 714, 'time': '5pm'}, 3: {'time': '2pm'}})"
      ]
     },
     "execution_count": 122,
     "metadata": {},
     "output_type": "execute_result"
    }
   ],
   "source": [
    "G.nodes[1]['room'] = 714\n",
    "G.nodes.data()"
   ]
  },
  {
   "cell_type": "code",
   "execution_count": 23,
   "metadata": {},
   "outputs": [
    {
     "data": {
      "text/plain": [
       "NodeDataView({0: {'layer': inf}, 1: {'layer': inf}, 2: {'layer': inf}, 3: {'layer': inf}, 4: {'layer': inf}, 5: {'layer': inf}})"
      ]
     },
     "execution_count": 23,
     "metadata": {},
     "output_type": "execute_result"
    }
   ],
   "source": [
    "G = nx.Graph()\n",
    "edges = [(0, 1), (0, 2), (2, 3), (1, 3), (3, 4), (3, 5), (4, 5), (2, 5)]\n",
    "G.add_edges_from(edges)\n",
    "for node in list(G.nodes):\n",
    "    G.nodes[node]['layer'] = float('inf')\n",
    "G.nodes.data()"
   ]
  },
  {
   "cell_type": "markdown",
   "metadata": {},
   "source": [
    "### Edge Attributes"
   ]
  },
  {
   "cell_type": "code",
   "execution_count": 24,
   "metadata": {},
   "outputs": [
    {
     "name": "stdout",
     "output_type": "stream",
     "text": [
      "{'color': 'blue', 'weight': 5.5}\n",
      "{'color': 'red'}\n",
      "[(0, {'layer': inf}), (1, {'layer': inf}), (2, {'layer': inf}), (3, {'layer': inf}), (4, {'layer': inf}), (5, {'layer': inf})]\n",
      "[(0, 1, {}), (0, 2, {}), (1, 2, {'color': 'blue', 'weight': 5.5}), (1, 3, {}), (2, 3, {'weight': 8}), (2, 5, {}), (3, 4, {'color': 'red', 'weight': 4.2}), (3, 5, {}), (4, 5, {'color': 'red'})]\n"
     ]
    },
    {
     "data": {
      "image/png": "[encoded data removed]",
      "text/plain": [
       "<matplotlib.figure.Figure at 0x151e124310>"
      ]
     },
     "metadata": {},
     "output_type": "display_data"
    }
   ],
   "source": [
    "G.add_edge(1, 2, weight=4.7 )\n",
    "G.add_edges_from([(3, 4), (4, 5)], color='red')\n",
    "G.add_edges_from([(1, 2, {'color': 'blue'}), (2, 3, {'weight': 8})])\n",
    "G[1][2]['weight'] = 5.5\n",
    "print(G[1][2])\n",
    "print(G[4][5])\n",
    "G.edges[3, 4]['weight'] = 4.2\n",
    "nx.draw(G, with_labels = True)\n",
    "print( G.nodes.data() )\n",
    "print( G.edges.data() )"
   ]
  },
  {
   "cell_type": "code",
   "execution_count": 29,
   "metadata": {},
   "outputs": [
    {
     "name": "stdout",
     "output_type": "stream",
     "text": [
      "[(0, 1, {}), (0, 2, {}), (1, 2, {'color': 'blue', 'weight': 5.5}), (1, 3, {}), (2, 3, {'weight': 8}), (2, 5, {}), (3, 4, {'color': 'red', 'weight': 777}), (3, 5, {}), (4, 5, {'color': 'red'})]\n",
      "[(0, {'layer': inf}), (1, {'layer': inf}), (2, {'layer': inf}), (3, {'layer': inf}), (4, {'layer': inf}), (5, {'layer': inf})]\n",
      "[(0, 1, {}), (0, 2, {}), (1, 2, {'color': 'blue', 'weight': 5.5}), (1, 3, {}), (2, 3, {'weight': 8}), (2, 5, {}), (3, 4, {'color': 'red', 'weight': 999}), (3, 5, {}), (4, 5, {'color': 'red'})]\n"
     ]
    }
   ],
   "source": [
    "G.edges[3, 4]['weight'] = 777\n",
    "print( G.edges.data() )\n",
    "G.edges[4, 3]['weight'] = 999\n",
    "print( G.nodes.data() )\n",
    "print( G.edges.data() )"
   ]
  },
  {
   "cell_type": "code",
   "execution_count": 32,
   "metadata": {},
   "outputs": [
    {
     "name": "stdout",
     "output_type": "stream",
     "text": [
      "[(1, 2, {'weight': 5}), (2, 8, {'weight': 1}), (3, 4, {'weight': 1}), (4, 5, {'weight': 2}), (5, 6, {'weight': 4}), (6, 7, {'weight': 1})]\n"
     ]
    },
    {
     "data": {
      "image/png": "[encoded data removed]",
      "text/plain": [
       "<matplotlib.figure.Figure at 0x151dcbbd50>"
      ]
     },
     "metadata": {},
     "output_type": "display_data"
    }
   ],
   "source": [
    "challenge_graph = nx.Graph()\n",
    "edges = [ (3, 4, 1), (4, 5, 2), (5, 6, 4), (6, 7, 1)]\n",
    "challenge_graph.add_weighted_edges_from(edges)\n",
    "edges2 = [(1, 2, 5), (2, 8, 1)]\n",
    "challenge_graph.add_weighted_edges_from(edges2)\n",
    "nx.draw(challenge_graph, with_labels = True)\n",
    "print(challenge_graph.edges.data())"
   ]
  },
  {
   "cell_type": "markdown",
   "metadata": {},
   "source": [
    "# Directed graphs"
   ]
  },
  {
   "cell_type": "code",
   "execution_count": 124,
   "metadata": {},
   "outputs": [
    {
     "data": {
      "image/png": "[encoded data removed]",
      "text/plain": [
       "<matplotlib.figure.Figure at 0x151de23ed0>"
      ]
     },
     "metadata": {},
     "output_type": "display_data"
    }
   ],
   "source": [
    "DG = nx.DiGraph()\n",
    "DG.add_weighted_edges_from([(1, 2, 0.5), (3, 1, 0.75)])\n",
    "nx.draw(DG, with_labels = True)"
   ]
  },
  {
   "cell_type": "code",
   "execution_count": 125,
   "metadata": {},
   "outputs": [
    {
     "data": {
      "text/plain": [
       "0.5"
      ]
     },
     "execution_count": 125,
     "metadata": {},
     "output_type": "execute_result"
    }
   ],
   "source": [
    "DG.out_degree(1, weight='weight')"
   ]
  },
  {
   "cell_type": "code",
   "execution_count": 70,
   "metadata": {},
   "outputs": [
    {
     "data": {
      "text/plain": [
       "1.25"
      ]
     },
     "execution_count": 70,
     "metadata": {},
     "output_type": "execute_result"
    }
   ],
   "source": [
    "DG.degree(1, weight='weight')"
   ]
  },
  {
   "cell_type": "code",
   "execution_count": 71,
   "metadata": {},
   "outputs": [
    {
     "data": {
      "text/plain": [
       "[2]"
      ]
     },
     "execution_count": 71,
     "metadata": {},
     "output_type": "execute_result"
    }
   ],
   "source": [
    "list(DG.successors(1))"
   ]
  },
  {
   "cell_type": "code",
   "execution_count": 72,
   "metadata": {},
   "outputs": [
    {
     "data": {
      "text/plain": [
       "[2]"
      ]
     },
     "execution_count": 72,
     "metadata": {},
     "output_type": "execute_result"
    }
   ],
   "source": [
    "list(DG.neighbors(1))"
   ]
  },
  {
   "cell_type": "code",
   "execution_count": 74,
   "metadata": {},
   "outputs": [
    {
     "data": {
      "image/png": "[encoded data removed]",
      "text/plain": [
       "<matplotlib.figure.Figure at 0x151e798e50>"
      ]
     },
     "metadata": {},
     "output_type": "display_data"
    }
   ],
   "source": [
    "H = nx.Graph(DG)  # convert G to undirected graph\n",
    "nx.draw(H, with_labels = True)"
   ]
  },
  {
   "cell_type": "markdown",
   "metadata": {},
   "source": [
    "##### Reverse a Directed Graph"
   ]
  },
  {
   "cell_type": "code",
   "execution_count": 222,
   "metadata": {},
   "outputs": [
    {
     "data": {
      "image/png": "[encoded data removed]",
      "text/plain": [
       "<matplotlib.figure.Figure at 0x151deda9d0>"
      ]
     },
     "metadata": {},
     "output_type": "display_data"
    }
   ],
   "source": [
    "DG = nx.DiGraph()\n",
    "DG.add_edges_from([(1, 2), (3, 1), (3, 4), (4, 2)])\n",
    "nx.draw(DG, with_labels = True)"
   ]
  },
  {
   "cell_type": "code",
   "execution_count": 228,
   "metadata": {},
   "outputs": [
    {
     "name": "stdout",
     "output_type": "stream",
     "text": [
      "Successor of 4: 2\n",
      "Successor of 3: 1\n",
      "Successor of 3: 4\n"
     ]
    }
   ],
   "source": [
    "for s in DG.successors(4):\n",
    "    print(\"Successor of 4: {}\".format(s))\n",
    "for s in DG.successors(3):\n",
    "    print(\"Successor of 3: {}\".format(s))\n",
    "for s in DG.successors(2):\n",
    "    print(\"Successor of 2: {}\".format(s))"
   ]
  },
  {
   "cell_type": "code",
   "execution_count": 229,
   "metadata": {},
   "outputs": [
    {
     "name": "stdout",
     "output_type": "stream",
     "text": [
      "Predecessors of 4: 3\n",
      "Predecessors of 2: 1\n",
      "Predecessors of 2: 4\n"
     ]
    }
   ],
   "source": [
    "for p in DG.predecessors(4):\n",
    "    print(\"Predecessors of 4: {}\".format(p))\n",
    "for p in DG.predecessors(3):\n",
    "    print(\"Predecessors of 3: {}\".format(p))\n",
    "for p in DG.predecessors(2):\n",
    "    print(\"Predecessors of 2: {}\".format(p))"
   ]
  },
  {
   "cell_type": "code",
   "execution_count": 247,
   "metadata": {},
   "outputs": [
    {
     "name": "stdout",
     "output_type": "stream",
     "text": [
      "OutEdgeView: [(1, 2), (3, 1), (3, 4), (4, 2)]\n",
      "OutEdgeView: [(1, 2), (3, 1), (3, 4), (4, 2)]\n",
      "InEdgeView: [(3, 1), (1, 2), (4, 2), (3, 4)]\n",
      "number_of_nodes: 4\n",
      "order: 4\n",
      "DegreeView: [(1, 2), (2, 2), (3, 2), (4, 2)]\n",
      "DegreeView: [(1, 2), (2, 2), (3, 2), (4, 2)]\n",
      "InDegreeView: [(1, 1), (2, 2), (3, 0), (4, 1)]\n",
      "OutDegreeView: [(1, 1), (2, 0), (3, 2), (4, 1)]\n",
      "Size: 4\n",
      "number_of_edges: 4\n"
     ]
    }
   ],
   "source": [
    "print(\"OutEdgeView: {}\".format(DG.edges))\n",
    "print(\"OutEdgeView: {}\".format(DG.edges()))\n",
    "print(\"InEdgeView: {}\".format(DG.in_edges))\n",
    "print(\"number_of_nodes: {}\".format(DG.number_of_nodes()))\n",
    "print(\"order: {}\".format(DG.order()))\n",
    "print(\"DegreeView: {}\".format(DG.degree()))\n",
    "print(\"DegreeView: {}\".format(DG.degree))\n",
    "print(\"InDegreeView: {}\".format(DG.in_degree))\n",
    "print(\"OutDegreeView: {}\".format(DG.out_degree))\n",
    "print(\"Size: {}\".format(DG.size())) # Returns the number of edges or total of all edge weights.\n",
    "print(\"number_of_edges: {}\".format(DG.number_of_edges())) # Returns the number of edges between two nodes."
   ]
  },
  {
   "cell_type": "code",
   "execution_count": 250,
   "metadata": {},
   "outputs": [
    {
     "data": {
      "image/png": "[encoded data removed]",
      "text/plain": [
       "<matplotlib.figure.Figure at 0x151eac0d90>"
      ]
     },
     "metadata": {},
     "output_type": "display_data"
    }
   ],
   "source": [
    "copyDG = DG.copy(as_view=False)\n",
    "copyDG.add_edge(2, 5)    \n",
    "nx.draw(copyDG, with_labels = True)"
   ]
  },
  {
   "cell_type": "code",
   "execution_count": 251,
   "metadata": {},
   "outputs": [
    {
     "data": {
      "image/png": "[encoded data removed]",
      "text/plain": [
       "<matplotlib.figure.Figure at 0x151dcc6410>"
      ]
     },
     "metadata": {},
     "output_type": "display_data"
    }
   ],
   "source": [
    "nx.draw(DG, with_labels = True)"
   ]
  },
  {
   "cell_type": "markdown",
   "metadata": {},
   "source": [
    "##### networkx.DiGraph.reverse"
   ]
  },
  {
   "cell_type": "code",
   "execution_count": 272,
   "metadata": {},
   "outputs": [
    {
     "data": {
      "image/png": "[encoded data removed]",
      "text/plain": [
       "<matplotlib.figure.Figure at 0x117987490>"
      ]
     },
     "metadata": {},
     "output_type": "display_data"
    }
   ],
   "source": [
    "reverseDG = DG.reverse() # default copy=True\n",
    "reverseDG.add_edge(2, 5)    \n",
    "\n",
    "nx.draw(reverseDG, with_labels = True)"
   ]
  },
  {
   "cell_type": "code",
   "execution_count": 277,
   "metadata": {},
   "outputs": [
    {
     "name": "stdout",
     "output_type": "stream",
     "text": [
      "1\n",
      "2\n",
      "3\n",
      "4\n",
      "5\n"
     ]
    },
    {
     "ename": "AttributeError",
     "evalue": "'DiGraph' object has no attribute 'update'",
     "output_type": "error",
     "traceback": [
      "\u001b[0;31m---------------------------------------------------------------------------\u001b[0m",
      "\u001b[0;31mAttributeError\u001b[0m                            Traceback (most recent call last)",
      "\u001b[0;32m<ipython-input-277-93bd39d0ef08>\u001b[0m in \u001b[0;36m<module>\u001b[0;34m()\u001b[0m\n\u001b[1;32m      3\u001b[0m     \u001b[0;32mif\u001b[0m \u001b[0mi\u001b[0m \u001b[0;34m==\u001b[0m \u001b[0;36m5\u001b[0m\u001b[0;34m:\u001b[0m\u001b[0;34m\u001b[0m\u001b[0m\n\u001b[1;32m      4\u001b[0m         \u001b[0madj\u001b[0m \u001b[0;34m=\u001b[0m \u001b[0;34m{\u001b[0m\u001b[0;36m5\u001b[0m\u001b[0;34m:\u001b[0m \u001b[0;34m{\u001b[0m\u001b[0;36m2\u001b[0m\u001b[0;34m}\u001b[0m\u001b[0;34m}\u001b[0m\u001b[0;34m\u001b[0m\u001b[0m\n\u001b[0;32m----> 5\u001b[0;31m         \u001b[0mreverseDG\u001b[0m\u001b[0;34m.\u001b[0m\u001b[0mupdate\u001b[0m\u001b[0;34m(\u001b[0m\u001b[0medges\u001b[0m\u001b[0;34m=\u001b[0m\u001b[0mNone\u001b[0m\u001b[0;34m,\u001b[0m \u001b[0mnodes\u001b[0m\u001b[0;34m=\u001b[0m\u001b[0madj\u001b[0m\u001b[0;34m)\u001b[0m\u001b[0;34m\u001b[0m\u001b[0m\n\u001b[0m\u001b[1;32m      6\u001b[0m \u001b[0mnx\u001b[0m\u001b[0;34m.\u001b[0m\u001b[0mdraw\u001b[0m\u001b[0;34m(\u001b[0m\u001b[0mreverseDG\u001b[0m\u001b[0;34m,\u001b[0m \u001b[0mwith_labels\u001b[0m \u001b[0;34m=\u001b[0m \u001b[0mTrue\u001b[0m\u001b[0;34m)\u001b[0m\u001b[0;34m\u001b[0m\u001b[0m\n",
      "\u001b[0;31mAttributeError\u001b[0m: 'DiGraph' object has no attribute 'update'"
     ]
    }
   ],
   "source": [
    "for i in reverseDG:\n",
    "    print(i)\n",
    "    if i == 5:\n",
    "        adj = {5: {2}}\n",
    "        reverseDG.update(edges=None, nodes=adj)\n",
    "nx.draw(reverseDG, with_labels = True)"
   ]
  },
  {
   "cell_type": "code",
   "execution_count": 265,
   "metadata": {},
   "outputs": [
    {
     "data": {
      "image/png": "[encoded data removed]",
      "text/plain": [
       "<matplotlib.figure.Figure at 0x151e28f690>"
      ]
     },
     "metadata": {},
     "output_type": "display_data"
    }
   ],
   "source": [
    "nx.draw(DG, with_labels = True)"
   ]
  },
  {
   "cell_type": "markdown",
   "metadata": {},
   "source": [
    "##### If False, the reverse graph is created using a view of the original graph."
   ]
  },
  {
   "cell_type": "code",
   "execution_count": 266,
   "metadata": {},
   "outputs": [
    {
     "ename": "NetworkXError",
     "evalue": "SubGraph Views are readonly. Mutations not allowed",
     "output_type": "error",
     "traceback": [
      "\u001b[0;31m---------------------------------------------------------------------------\u001b[0m",
      "\u001b[0;31mNetworkXError\u001b[0m                             Traceback (most recent call last)",
      "\u001b[0;32m<ipython-input-266-4b51bb534608>\u001b[0m in \u001b[0;36m<module>\u001b[0;34m()\u001b[0m\n\u001b[1;32m      1\u001b[0m \u001b[0mreverseDG\u001b[0m \u001b[0;34m=\u001b[0m \u001b[0mDG\u001b[0m\u001b[0;34m.\u001b[0m\u001b[0mreverse\u001b[0m\u001b[0;34m(\u001b[0m\u001b[0mcopy\u001b[0m\u001b[0;34m=\u001b[0m\u001b[0mFalse\u001b[0m\u001b[0;34m)\u001b[0m \u001b[0;31m# default copy=True # If False, the reverse graph is created using a view of the original graph.\u001b[0m\u001b[0;34m\u001b[0m\u001b[0m\n\u001b[0;32m----> 2\u001b[0;31m \u001b[0mreverseDG\u001b[0m\u001b[0;34m.\u001b[0m\u001b[0madd_edge\u001b[0m\u001b[0;34m(\u001b[0m\u001b[0;36m2\u001b[0m\u001b[0;34m,\u001b[0m \u001b[0;36m5\u001b[0m\u001b[0;34m)\u001b[0m\u001b[0;34m\u001b[0m\u001b[0m\n\u001b[0m\u001b[1;32m      3\u001b[0m \u001b[0mnx\u001b[0m\u001b[0;34m.\u001b[0m\u001b[0mdraw\u001b[0m\u001b[0;34m(\u001b[0m\u001b[0mreverseDG\u001b[0m\u001b[0;34m,\u001b[0m \u001b[0mwith_labels\u001b[0m \u001b[0;34m=\u001b[0m \u001b[0mTrue\u001b[0m\u001b[0;34m)\u001b[0m\u001b[0;34m\u001b[0m\u001b[0m\n",
      "\u001b[0;32m/Users/aishwaya/anaconda2/lib/python2.7/site-packages/networkx/classes/coreviews.pyc\u001b[0m in \u001b[0;36mnot_allowed\u001b[0;34m(self, *args, **kwds)\u001b[0m\n\u001b[1;32m    265\u001b[0m     \u001b[0;32mdef\u001b[0m \u001b[0mnot_allowed\u001b[0m\u001b[0;34m(\u001b[0m\u001b[0mself\u001b[0m\u001b[0;34m,\u001b[0m \u001b[0;34m*\u001b[0m\u001b[0margs\u001b[0m\u001b[0;34m,\u001b[0m \u001b[0;34m**\u001b[0m\u001b[0mkwds\u001b[0m\u001b[0;34m)\u001b[0m\u001b[0;34m:\u001b[0m\u001b[0;34m\u001b[0m\u001b[0m\n\u001b[1;32m    266\u001b[0m         \u001b[0mmsg\u001b[0m \u001b[0;34m=\u001b[0m \u001b[0;34m\"SubGraph Views are readonly. Mutations not allowed\"\u001b[0m\u001b[0;34m\u001b[0m\u001b[0m\n\u001b[0;32m--> 267\u001b[0;31m         \u001b[0;32mraise\u001b[0m \u001b[0mnx\u001b[0m\u001b[0;34m.\u001b[0m\u001b[0mNetworkXError\u001b[0m\u001b[0;34m(\u001b[0m\u001b[0mmsg\u001b[0m\u001b[0;34m)\u001b[0m\u001b[0;34m\u001b[0m\u001b[0m\n\u001b[0m\u001b[1;32m    268\u001b[0m \u001b[0;34m\u001b[0m\u001b[0m\n\u001b[1;32m    269\u001b[0m     \u001b[0madd_node\u001b[0m \u001b[0;34m=\u001b[0m \u001b[0mnot_allowed\u001b[0m\u001b[0;34m\u001b[0m\u001b[0m\n",
      "\u001b[0;31mNetworkXError\u001b[0m: SubGraph Views are readonly. Mutations not allowed"
     ]
    }
   ],
   "source": [
    "reverseDG = DG.reverse(copy=False) # default copy=True # If False, the reverse graph is created using a view of the original graph.\n",
    "reverseDG.add_edge(2, 5)    \n",
    "nx.draw(reverseDG, with_labels = True)"
   ]
  },
  {
   "cell_type": "code",
   "execution_count": 268,
   "metadata": {},
   "outputs": [
    {
     "data": {
      "image/png": "[encoded data removed]",
      "text/plain": [
       "<matplotlib.figure.Figure at 0x1179731d0>"
      ]
     },
     "metadata": {},
     "output_type": "display_data"
    }
   ],
   "source": [
    "reverseviewDG = DG.reverse(copy=False) \n",
    "nx.draw(reverseviewDG, with_labels = True)"
   ]
  },
  {
   "cell_type": "code",
   "execution_count": 269,
   "metadata": {},
   "outputs": [
    {
     "name": "stdout",
     "output_type": "stream",
     "text": [
      "OutEdgeView: [(1, 3), (2, 1), (2, 4), (4, 3)]\n",
      "OutEdgeView: [(1, 3), (2, 1), (2, 4), (4, 3)]\n",
      "InEdgeView: [(2, 1), (1, 3), (4, 3), (2, 4)]\n",
      "number_of_nodes: 4\n",
      "order: 4\n",
      "DegreeView: [(1, 2), (2, 2), (3, 2), (4, 2)]\n",
      "DegreeView: [(1, 2), (2, 2), (3, 2), (4, 2)]\n",
      "InDegreeView: [(1, 1), (2, 0), (3, 2), (4, 1)]\n",
      "OutDegreeView: [(1, 1), (2, 2), (3, 0), (4, 1)]\n",
      "Size: 4\n",
      "number_of_edges: 4\n"
     ]
    }
   ],
   "source": [
    "print(\"OutEdgeView: {}\".format(reverseviewDG.edges))\n",
    "print(\"OutEdgeView: {}\".format(reverseviewDG.edges()))\n",
    "print(\"InEdgeView: {}\".format(reverseviewDG.in_edges))\n",
    "print(\"number_of_nodes: {}\".format(reverseviewDG.number_of_nodes()))\n",
    "print(\"order: {}\".format(reverseviewDG.order()))\n",
    "print(\"DegreeView: {}\".format(reverseviewDG.degree()))\n",
    "print(\"DegreeView: {}\".format(reverseviewDG.degree))\n",
    "print(\"InDegreeView: {}\".format(reverseviewDG.in_degree))\n",
    "print(\"OutDegreeView: {}\".format(reverseviewDG.out_degree))\n",
    "print(\"Size: {}\".format(reverseviewDG.size())) # Returns the number of edges or total of all edge weights.\n",
    "print(\"number_of_edges: {}\".format(reverseviewDG.number_of_edges())) # Returns the number of edges between two nodes."
   ]
  },
  {
   "cell_type": "markdown",
   "metadata": {},
   "source": [
    "#### Nodes and Edges attribute access"
   ]
  },
  {
   "cell_type": "code",
   "execution_count": 7,
   "metadata": {},
   "outputs": [
    {
     "data": {
      "image/png": "[encoded data removed]",
      "text/plain": [
       "<matplotlib.figure.Figure at 0x10f12fa10>"
      ]
     },
     "metadata": {},
     "output_type": "display_data"
    }
   ],
   "source": [
    "DG = nx.DiGraph()\n",
    "DG.add_node(1, pos = (0, 5))\n",
    "DG.add_node(2, pos = (7, 10))\n",
    "DG.add_node(3, pos = (7, 0))\n",
    "DG.add_node(4, pos = (14, 5))\n",
    "DG.add_edge(1, 2, weight = 1)\n",
    "DG.add_edge(2, 3, weight = 2)\n",
    "DG.add_edge(3, 4, weight = 3)\n",
    "DG.add_edge(1, 3, weight = 4)\n",
    "DG.add_edge(2, 4, weight = 6)\n",
    "pos = nx.get_node_attributes(DG, 'pos')\n",
    "weights =nx.get_edge_attributes(DG, 'weight')\n",
    "nx.draw_networkx_edge_labels(DG, pos, edge_labels = weights)\n",
    "nx.draw(DG, pos, with_labels = True)"
   ]
  },
  {
   "cell_type": "code",
   "execution_count": 21,
   "metadata": {},
   "outputs": [
    {
     "name": "stdout",
     "output_type": "stream",
     "text": [
      "Nodes: [1, 2, 3, 4]\n",
      "Edges: [(1, 2), (1, 3), (2, 3), (2, 4), (3, 4)]\n",
      "Nodes data: [(1, {'pos': (0, 5)}), (2, {'pos': (7, 10)}), (3, {'pos': (7, 0)}), (4, {'pos': (14, 5)})]\n",
      "Edges data: [(1, 2, {'weight': 1}), (1, 3, {'weight': 4}), (2, 3, {'weight': 2}), (2, 4, {'weight': 6}), (3, 4, {'weight': 3})]\n",
      "Nodes access attributes: {'pos': (7, 10)}\n",
      "Nodes access attribute value: (7, 10)\n",
      "Edges access attributes: {'weight': 6}\n",
      "Edges access attribute value: 6\n"
     ]
    }
   ],
   "source": [
    "print( \"Nodes: {}\".format(DG.nodes) )\n",
    "print( \"Edges: {}\".format(DG.edges) )\n",
    "print( \"Nodes data: {}\".format(DG.nodes.data()) )\n",
    "print( \"Edges data: {}\".format(DG.edges.data()) )\n",
    "print( \"Nodes access attributes: {}\".format(DG.nodes[2]) )\n",
    "print( \"Nodes access attribute value: {}\".format(DG.nodes[2]['pos']) )\n",
    "print( \"Edges access attributes: {}\".format(DG.edges[2, 4]) )\n",
    "print( \"Edges access attribute value: {}\".format(DG.edges[2, 4]['weight']) )"
   ]
  },
  {
   "cell_type": "markdown",
   "metadata": {},
   "source": [
    "# Multigraphs\n",
    "NetworkX provides classes for graphs which allow multiple edges between any pair of nodes. "
   ]
  },
  {
   "cell_type": "code",
   "execution_count": 75,
   "metadata": {},
   "outputs": [
    {
     "data": {
      "image/png": "[encoded data removed]",
      "text/plain": [
       "<matplotlib.figure.Figure at 0x151e924990>"
      ]
     },
     "metadata": {},
     "output_type": "display_data"
    }
   ],
   "source": [
    "MG = nx.MultiGraph()\n",
    "MG.add_weighted_edges_from([(1, 2, 0.5), (1, 2, 0.75), (2, 3, 0.5)])\n",
    "nx.draw(MG, with_labels = True)"
   ]
  },
  {
   "cell_type": "code",
   "execution_count": 76,
   "metadata": {},
   "outputs": [
    {
     "data": {
      "text/plain": [
       "{1: 1.25, 2: 1.75, 3: 0.5}"
      ]
     },
     "execution_count": 76,
     "metadata": {},
     "output_type": "execute_result"
    }
   ],
   "source": [
    "dict(MG.degree(weight='weight'))"
   ]
  },
  {
   "cell_type": "code",
   "execution_count": 82,
   "metadata": {},
   "outputs": [
    {
     "name": "stdout",
     "output_type": "stream",
     "text": [
      "n: 1  nbrs:{2: {0: {'weight': 0.5}, 1: {'weight': 0.75}}}\n",
      "n: 2  nbrs:{1: {0: {'weight': 0.5}, 1: {'weight': 0.75}}, 3: {0: {'weight': 0.5}}}\n",
      "n: 3  nbrs:{2: {0: {'weight': 0.5}}}\n"
     ]
    },
    {
     "data": {
      "text/plain": [
       "[1, 2, 3]"
      ]
     },
     "execution_count": 82,
     "metadata": {},
     "output_type": "execute_result"
    }
   ],
   "source": [
    "GG = nx.Graph()\n",
    "for n, nbrs in MG.adjacency():\n",
    "    print(\"n: {}  nbrs:{}\".format(n, nbrs))\n",
    "    for nbr, edict in nbrs.items():\n",
    "        minvalue = min([d['weight'] for d in edict.values()])\n",
    "        GG.add_edge(n, nbr, weight = minvalue)\n",
    "nx.shortest_path(GG, 1, 3)"
   ]
  },
  {
   "cell_type": "markdown",
   "metadata": {},
   "source": [
    "# UNION-FIND Disjoint-set data structure\n"
   ]
  },
  {
   "cell_type": "code",
   "execution_count": 6,
   "metadata": {},
   "outputs": [
    {
     "name": "stdout",
     "output_type": "stream",
     "text": [
      "[1, 3]\n"
     ]
    }
   ],
   "source": [
    "from networkx.utils import UnionFind\n",
    "subtrees = UnionFind()\n",
    "if subtrees[1] == subtrees[3]:\n",
    "    pass\n",
    "print(list(subtrees))\n"
   ]
  },
  {
   "cell_type": "code",
   "execution_count": 10,
   "metadata": {},
   "outputs": [
    {
     "name": "stdout",
     "output_type": "stream",
     "text": [
      "[1, 3]\n",
      "3\n"
     ]
    }
   ],
   "source": [
    "subtrees.union(3,1)\n",
    "print(list(subtrees))\n",
    "print(subtrees[1])"
   ]
  },
  {
   "cell_type": "code",
   "execution_count": 12,
   "metadata": {},
   "outputs": [
    {
     "name": "stdout",
     "output_type": "stream",
     "text": [
      "[1, 3, 5, 9]\n"
     ]
    }
   ],
   "source": [
    "subtrees[9]\n",
    "subtrees[5]\n",
    "print(list(subtrees))"
   ]
  },
  {
   "cell_type": "code",
   "execution_count": null,
   "metadata": {},
   "outputs": [],
   "source": []
  }
 ],
 "metadata": {
  "kernelspec": {
   "display_name": "Python 3",
   "language": "python",
   "name": "python3"
  },
  "language_info": {
   "codemirror_mode": {
    "name": "ipython",
    "version": 3
   },
   "file_extension": ".py",
   "mimetype": "text/x-python",
   "name": "python",
   "nbconvert_exporter": "python",
   "pygments_lexer": "ipython3",
   "version": "3.6.8"
  }
 },
 "nbformat": 4,
 "nbformat_minor": 2
}
