{
 "cells": [
  {
   "cell_type": "markdown",
   "metadata": {},
   "source": [
    "# heapify(), heappush() and heappop() \n",
    "1. heapify(iterable) :- This function is used to convert the iterable into a heap data structure. i.e. in heap order.\n",
    "\n",
    "2. heappush(heap, ele) :- This function is used to insert the element mentioned in its arguments into heap. The order is adjusted, so as heap structure is maintained.\n",
    "\n",
    "3. heappop(heap) :- This function is used to remove and return the smallest element from heap. The order is adjusted, so as heap structure is maintained."
   ]
  },
  {
   "cell_type": "code",
   "execution_count": 14,
   "metadata": {},
   "outputs": [
    {
     "name": "stdout",
     "output_type": "stream",
     "text": [
      "The created heap is : [1, 3, 9, 7, 5]\n",
      "The heap is : [1, 3, 4, 7, 5, 9]\n",
      "1\n",
      "The heap is : [3, 5, 4, 7, 9]\n"
     ]
    }
   ],
   "source": [
    "# importing \"heapq\" to implement heap queue \n",
    "import heapq \n",
    "\n",
    "# initializing list \n",
    "li = [5, 7, 9, 1, 3] \n",
    "\n",
    "# using heapify to convert list into heap  (occurs in O(n) time - faster than adding individual elements separately )\n",
    "heapq.heapify(li) \n",
    "\n",
    "# printing created heap \n",
    "print (\"The created heap is : {}\".format(li)) \n",
    "\n",
    "# using heappush() to push elements into heap \n",
    "# pushes 4 \n",
    "heapq.heappush(li,4) \n",
    "print (\"The heap is : {}\".format(li)) \n",
    "\n",
    "# using heappop() to pop smallest element \n",
    "print (heapq.heappop(li)) \n",
    "print (\"The heap is : {}\".format(li)) \n",
    "\n"
   ]
  },
  {
   "cell_type": "markdown",
   "metadata": {},
   "source": [
    "4. heappushpop(heap, ele) :- This function combines the functioning of both push and pop operations in one statement, increasing efficiency. Heap order is maintained after this operation.\n",
    "\n",
    "5. heapreplace(heap, ele) :- This function also inserts and pops element in one statement, but it is different from above function. In this, element is first popped, then element is pushed.i.e, the value larger than the pushed value can be returned."
   ]
  },
  {
   "cell_type": "code",
   "execution_count": 15,
   "metadata": {},
   "outputs": [
    {
     "name": "stdout",
     "output_type": "stream",
     "text": [
      "3\n",
      "The heap is : [4, 5, 10, 7, 9]\n",
      "4\n",
      "The heap is : [1, 5, 10, 7, 9]\n"
     ]
    }
   ],
   "source": [
    "# using heappushpop() to push and pop items simultaneously \n",
    "print (heapq.heappushpop(li, 10)) \n",
    "print (\"The heap is : {}\".format(li)) \n",
    "\n",
    "print (heapq.heapreplace(li, 1)) \n",
    "print (\"The heap is : {}\".format(li)) \n",
    "\n"
   ]
  },
  {
   "cell_type": "markdown",
   "metadata": {},
   "source": [
    "6. nlargest(k, iterable, key = fun) :- This function is used to return the k largest elements from the iterable specified and satisfying the key if mentioned.\n",
    "\n",
    "7. nsmallest(k, iterable, key = fun) :- This function is used to return the k smallest elements from the iterable specified and satisfying the key if mentioned."
   ]
  },
  {
   "cell_type": "code",
   "execution_count": 30,
   "metadata": {},
   "outputs": [
    {
     "name": "stdout",
     "output_type": "stream",
     "text": [
      "The 3 largest numbers in list are : \n",
      "[10, 9, 7]\n",
      "The 3 smallest numbers in list are : \n",
      "[1, 5, 7]\n",
      "Heap: [1, 5, 10, 7, 9]\n"
     ]
    }
   ],
   "source": [
    "# using nlargest to print 3 largest numbers \n",
    "print(\"The 3 largest numbers in list are : \") \n",
    "print(heapq.nlargest(3, li)) \n",
    "print(\"The 3 smallest numbers in list are : \")\n",
    "print(heapq.nsmallest(3, li)) \n",
    "print(\"Heap: {}\".format(li))"
   ]
  },
  {
   "cell_type": "code",
   "execution_count": 18,
   "metadata": {},
   "outputs": [
    {
     "name": "stdout",
     "output_type": "stream",
     "text": [
      "The heap is : [1, 5, 10, 7, 9]\n"
     ]
    }
   ],
   "source": [
    "print (\"The heap is : {}\".format(li)) "
   ]
  },
  {
   "cell_type": "code",
   "execution_count": 29,
   "metadata": {},
   "outputs": [
    {
     "name": "stdout",
     "output_type": "stream",
     "text": [
      "1\n",
      "5\n",
      "7\n",
      "10\n",
      "9\n"
     ]
    }
   ],
   "source": [
    "li1 = [10, 1, 9]\n",
    "li2 = [7, 5]\n",
    "heapq.heapify(li1)\n",
    "heapq.heapify(li2)\n",
    "x = heapq.merge(li1, li2)\n",
    "try:\n",
    "    while True:\n",
    "        print(x.next())\n",
    "except StopIteration:\n",
    "    pass"
   ]
  },
  {
   "cell_type": "markdown",
   "metadata": {},
   "source": [
    "### Length of Heap"
   ]
  },
  {
   "cell_type": "code",
   "execution_count": 32,
   "metadata": {},
   "outputs": [
    {
     "name": "stdout",
     "output_type": "stream",
     "text": [
      "Length of heap li : 5\n",
      "Length of heap li1 : 3\n",
      "Length of heap li2 : 2\n"
     ]
    }
   ],
   "source": [
    "print (\"Length of heap li : {}\".format(len(li))) \n",
    "print (\"Length of heap li1 : {}\".format(len(li1))) \n",
    "print (\"Length of heap li2 : {}\".format(len(li2))) "
   ]
  },
  {
   "cell_type": "code",
   "execution_count": 36,
   "metadata": {},
   "outputs": [
    {
     "name": "stdout",
     "output_type": "stream",
     "text": [
      "List of heap li : [1, 5, 10, 7, 9]\n",
      "Reverse List of heap li : [9, 7, 10, 5, 1]\n"
     ]
    }
   ],
   "source": [
    "print (\"List of heap li : {}\".format(list(li))) \n",
    "print (\"Reverse List of heap li : {}\".format(list(li)[::-1]))"
   ]
  },
  {
   "cell_type": "markdown",
   "metadata": {},
   "source": [
    "### Dict with heapq using sets"
   ]
  },
  {
   "cell_type": "code",
   "execution_count": 60,
   "metadata": {},
   "outputs": [
    {
     "name": "stdout",
     "output_type": "stream",
     "text": [
      "[('def', 250), ('xyz', 200), ('abc', 100)]\n",
      "[('abc', 100), ('xyz', 200), ('def', 250)]\n",
      "[(50, 300), ('abc', 100), ('def', 250), ('xyz', 200)]\n",
      "\n",
      "[(-250, 'def'), (-200, 'xyz'), (-100, 'abc')]\n",
      "[('def', 250), ('xyz', 200), ('abc', 100)]\n"
     ]
    }
   ],
   "source": [
    "# min heap\n",
    "the_dict = {'abc':100,'xyz':200,'def':250}\n",
    "heap = [(value, key) for key,value in the_dict.items()]\n",
    "smallest = heapq.nsmallest(10, heap)\n",
    "print(largest)\n",
    "smallest = [(key, value) for value, key in smallest]\n",
    "print(smallest)\n",
    "heapq.heappush(smallest, (50, 300))\n",
    "print(smallest)\n",
    "print('')\n",
    "\n",
    "# max heap\n",
    "the_dict = {'abc':100,'xyz':200,'def':250}\n",
    "heap = [(-value, key) for key,value in the_dict.items()]\n",
    "largest = heapq.nsmallest(10, heap)\n",
    "print(largest)\n",
    "largest = [(key, -value) for value, key in largest]\n",
    "print(largest)"
   ]
  },
  {
   "cell_type": "code",
   "execution_count": 61,
   "metadata": {},
   "outputs": [
    {
     "name": "stdout",
     "output_type": "stream",
     "text": [
      "1st set element in heap\n",
      "2nd set element in heap\n"
     ]
    }
   ],
   "source": [
    "if 50 in smallest[0]:\n",
    "    print(\"1st set element in heap\")\n",
    "if 300 in smallest[0]:\n",
    "    print(\"2nd set element in heap\")"
   ]
  },
  {
   "cell_type": "markdown",
   "metadata": {},
   "source": [
    "### Dict with heapq using lists"
   ]
  },
  {
   "cell_type": "code",
   "execution_count": 93,
   "metadata": {},
   "outputs": [
    {
     "name": "stdout",
     "output_type": "stream",
     "text": [
      "[['def', 250], ['xyz', 200], ['abc', 100]]\n",
      "[['abc', 100], ['xyz', 200], ['def', 250]]\n",
      "[[50, 300], [150, 300], [250, 'def'], [100, 'abc'], [200, 'xyz']]\n",
      "\n",
      "[[-250, 'def'], [-200, 'xyz'], [-100, 'abc']]\n",
      "[['def', 250], ['xyz', 200], ['abc', 100]]\n"
     ]
    }
   ],
   "source": [
    "# min heap\n",
    "the_dict = {'abc':100,'xyz':200,'def':250}\n",
    "heap = [[value, key] for key,value in the_dict.items()]\n",
    "smallest = heapq.nsmallest(10, heap)\n",
    "print(largest)\n",
    "smallest = [[key, value] for value, key in smallest]\n",
    "print(smallest)\n",
    "heapq.heappush(heap, [50, 300])\n",
    "heapq.heappush(heap, [150, 300])\n",
    "print(heap)\n",
    "print('')\n",
    "\n",
    "# max heap\n",
    "the_dict = {'abc':100,'xyz':200,'def':250}\n",
    "heap2 = [[-value, key] for key,value in the_dict.items()]\n",
    "largest = heapq.nsmallest(10, heap2)\n",
    "print(largest)\n",
    "largest = [[key, -value] for value, key in largest]\n",
    "print(largest)"
   ]
  },
  {
   "cell_type": "code",
   "execution_count": 94,
   "metadata": {},
   "outputs": [
    {
     "name": "stdout",
     "output_type": "stream",
     "text": [
      "[[50, 300], [150, 300], [250, 'def'], [100, 'abc'], [200, 'xyz']]\n",
      "[50, 150, 250, 100, 200]\n"
     ]
    }
   ],
   "source": [
    "print(heap)\n",
    "print([item[0] for item in heap])"
   ]
  },
  {
   "cell_type": "code",
   "execution_count": 117,
   "metadata": {},
   "outputs": [
    {
     "name": "stdout",
     "output_type": "stream",
     "text": [
      "[[1, 'dist'], [3, 'dist'], [2, 'dist'], [6, 'dist'], [4, 'dist'], [9, 'dist'], [5, 'dist'], [10, 'dist'], [8, 'dist'], [7, 'dist'], [15, 'dist'], [17, 'dist'], [13, 'dist']]\n",
      "\n",
      "[1, 3, 2, 6, 4, 9, 5, 10, 8, 7, 15, 17, 13]\n",
      "\n",
      "Int after push: [[1, 8], [3, 7], [2, 4], [6, 15], [4, 2], [9, 13], [5, 5], [10, 17], [8, 1], [7, 3], [15, 6], [17, 10], [13, 9]]\n",
      "\n",
      "[1, 3, 2, 6, 4, 9, 5, 10, 8, 7, 15, 17, 13]\n",
      "[ 1  3  2  6  4  9  5 10  8  7 15 17 13]\n",
      "\n",
      "[1 3 2 6 4]\n",
      "Int after remove: [[1, 8], [4, 2], [2, 4], [6, 15], [7, 3], [9, 13], [5, 5], [10, 17], [8, 1], [13, 9], [15, 6], [17, 10]]\n"
     ]
    }
   ],
   "source": [
    "import numpy as np\n",
    "\n",
    "li = [9, 10, 6, 2, 7, 1, 5, 8, 3, 4, 15, 17, 13]\n",
    "r = li[::-1]\n",
    "minheap_str = []\n",
    "minheap_int = []\n",
    "minheap = []\n",
    "\n",
    "# heappush\n",
    "for i in range(len(li)):\n",
    "    heapq.heappush(minheap_str, [li[i], 'dist'])\n",
    "    heapq.heappush(minheap_int, [li[i], r[i]])\n",
    "    heapq.heappush(minheap, li[i])\n",
    "\n",
    "n = np.array(minheap_int)\n",
    "print(\"{}\\n\\n{}\\n\\nInt after push: {}\\n\\n{}\".format(minheap_str, minheap, minheap_int, [item[0] for item in minheap_int]))\n",
    "print(\"{}\\n\\n{}\".format(n[:,0], n[0:5,0]))\n",
    "\n",
    "# heap remove element at any position\n",
    "#Just replace the element you want to remove with the last element \n",
    "#and remove the last element then re-heapify the heap. \n",
    "minheap_int[1] = minheap_int[0]\n",
    "heapq.heappop(minheap_int)\n",
    "print(\"Int after remove: {}\".format(minheap_int))"
   ]
  },
  {
   "cell_type": "markdown",
   "metadata": {},
   "source": [
    "### Dict with heapq using dict (not working)"
   ]
  },
  {
   "cell_type": "code",
   "execution_count": 101,
   "metadata": {},
   "outputs": [
    {
     "name": "stdout",
     "output_type": "stream",
     "text": [
      "[set([9, '13']), set([10, '17']), set(['15', 6]), set([2, '4']), set(['3', 7]), set(['8', 1]), set(['5', 5]), set(['1', 8]), set([3, '7']), set(['2', 4]), set([15, '6']), set(['10', 17]), set(['9', 13])]\n"
     ]
    }
   ],
   "source": [
    "li = [9, 10, 6, 2, 7, 1, 5, 8, 3, 4, 15, 17, 13]\n",
    "r = li[::-1]\n",
    "minheap_str = []\n",
    "minheap_int = []\n",
    "minheap = []\n",
    "for i in range(len(li)):\n",
    "    heapq.heappush(minheap_str, {str(r[i]), li[i]})\n",
    "\n",
    "print(\"{}\".format(minheap_str))\n"
   ]
  },
  {
   "cell_type": "code",
   "execution_count": null,
   "metadata": {},
   "outputs": [],
   "source": []
  }
 ],
 "metadata": {
  "kernelspec": {
   "display_name": "Python 2",
   "language": "python",
   "name": "python2"
  },
  "language_info": {
   "codemirror_mode": {
    "name": "ipython",
    "version": 2
   },
   "file_extension": ".py",
   "mimetype": "text/x-python",
   "name": "python",
   "nbconvert_exporter": "python",
   "pygments_lexer": "ipython2",
   "version": "2.7.14"
  }
 },
 "nbformat": 4,
 "nbformat_minor": 2
}
