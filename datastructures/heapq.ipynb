{
 "cells": [
  {
   "cell_type": "markdown",
   "metadata": {},
   "source": [
    "# heapify(), heappush() and heappop() \n",
    "1. heapify(iterable) :- This function is used to convert the iterable into a heap data structure. i.e. in heap order.\n",
    "\n",
    "2. heappush(heap, ele) :- This function is used to insert the element mentioned in its arguments into heap. The order is adjusted, so as heap structure is maintained.\n",
    "\n",
    "3. heappop(heap) :- This function is used to remove and return the smallest element from heap. The order is adjusted, so as heap structure is maintained."
   ]
  },
  {
   "cell_type": "code",
   "execution_count": 14,
   "metadata": {},
   "outputs": [
    {
     "name": "stdout",
     "output_type": "stream",
     "text": [
      "The created heap is : [1, 3, 9, 7, 5]\n",
      "The heap is : [1, 3, 4, 7, 5, 9]\n",
      "1\n",
      "The heap is : [3, 5, 4, 7, 9]\n"
     ]
    }
   ],
   "source": [
    "# importing \"heapq\" to implement heap queue \n",
    "import heapq \n",
    "\n",
    "# initializing list \n",
    "li = [5, 7, 9, 1, 3] \n",
    "\n",
    "# using heapify to convert list into heap  (occurs in O(n) time - faster than adding individual elements separately )\n",
    "heapq.heapify(li) \n",
    "\n",
    "# printing created heap \n",
    "print (\"The created heap is : {}\".format(li)) \n",
    "\n",
    "# using heappush() to push elements into heap \n",
    "# pushes 4 \n",
    "heapq.heappush(li,4) \n",
    "print (\"The heap is : {}\".format(li)) \n",
    "\n",
    "# using heappop() to pop smallest element \n",
    "print (heapq.heappop(li)) \n",
    "print (\"The heap is : {}\".format(li)) \n",
    "\n"
   ]
  },
  {
   "cell_type": "markdown",
   "metadata": {},
   "source": [
    "4. heappushpop(heap, ele) :- This function combines the functioning of both push and pop operations in one statement, increasing efficiency. Heap order is maintained after this operation.\n",
    "\n",
    "5. heapreplace(heap, ele) :- This function also inserts and pops element in one statement, but it is different from above function. In this, element is first popped, then element is pushed.i.e, the value larger than the pushed value can be returned."
   ]
  },
  {
   "cell_type": "code",
   "execution_count": 15,
   "metadata": {},
   "outputs": [
    {
     "name": "stdout",
     "output_type": "stream",
     "text": [
      "3\n",
      "The heap is : [4, 5, 10, 7, 9]\n",
      "4\n",
      "The heap is : [1, 5, 10, 7, 9]\n"
     ]
    }
   ],
   "source": [
    "# using heappushpop() to push and pop items simultaneously \n",
    "print (heapq.heappushpop(li, 10)) \n",
    "print (\"The heap is : {}\".format(li)) \n",
    "\n",
    "print (heapq.heapreplace(li, 1)) \n",
    "print (\"The heap is : {}\".format(li)) \n",
    "\n"
   ]
  },
  {
   "cell_type": "markdown",
   "metadata": {},
   "source": [
    "6. nlargest(k, iterable, key = fun) :- This function is used to return the k largest elements from the iterable specified and satisfying the key if mentioned.\n",
    "\n",
    "7. nsmallest(k, iterable, key = fun) :- This function is used to return the k smallest elements from the iterable specified and satisfying the key if mentioned."
   ]
  },
  {
   "cell_type": "code",
   "execution_count": 17,
   "metadata": {},
   "outputs": [
    {
     "name": "stdout",
     "output_type": "stream",
     "text": [
      "The 3 largest numbers in list are : \n",
      "[10, 9, 7]\n",
      "The 3 smallest numbers in list are : \n",
      "[1, 5, 7]\n"
     ]
    }
   ],
   "source": [
    "# using nlargest to print 3 largest numbers \n",
    "print(\"The 3 largest numbers in list are : \") \n",
    "print(heapq.nlargest(3, li)) \n",
    "print(\"The 3 smallest numbers in list are : \")\n",
    "print(heapq.nsmallest(3, li)) "
   ]
  },
  {
   "cell_type": "code",
   "execution_count": 18,
   "metadata": {},
   "outputs": [
    {
     "name": "stdout",
     "output_type": "stream",
     "text": [
      "The heap is : [1, 5, 10, 7, 9]\n"
     ]
    }
   ],
   "source": [
    "print (\"The heap is : {}\".format(li)) "
   ]
  },
  {
   "cell_type": "code",
   "execution_count": 29,
   "metadata": {},
   "outputs": [
    {
     "name": "stdout",
     "output_type": "stream",
     "text": [
      "1\n",
      "5\n",
      "7\n",
      "10\n",
      "9\n"
     ]
    }
   ],
   "source": [
    "li1 = [10, 1, 9]\n",
    "li2 = [7, 5]\n",
    "heapq.heapify(li1)\n",
    "heapq.heapify(li2)\n",
    "x = heapq.merge(li1, li2)\n",
    "try:\n",
    "    while True:\n",
    "        print(x.next())\n",
    "except StopIteration:\n",
    "    pass"
   ]
  },
  {
   "cell_type": "code",
   "execution_count": null,
   "metadata": {},
   "outputs": [],
   "source": []
  }
 ],
 "metadata": {
  "kernelspec": {
   "display_name": "Python 2",
   "language": "python",
   "name": "python2"
  },
  "language_info": {
   "codemirror_mode": {
    "name": "ipython",
    "version": 2
   },
   "file_extension": ".py",
   "mimetype": "text/x-python",
   "name": "python",
   "nbconvert_exporter": "python",
   "pygments_lexer": "ipython2",
   "version": "2.7.14"
  }
 },
 "nbformat": 4,
 "nbformat_minor": 2
}
