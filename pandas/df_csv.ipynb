{
 "cells": [
  {
   "cell_type": "code",
   "execution_count": 7,
   "metadata": {},
   "outputs": [],
   "source": [
    "import pandas as pd\n",
    "import os\n",
    "import numpy as np\n",
    "import networkx as nx"
   ]
  },
  {
   "cell_type": "markdown",
   "metadata": {},
   "source": [
    "### Using networkx"
   ]
  },
  {
   "cell_type": "code",
   "execution_count": 9,
   "metadata": {},
   "outputs": [
    {
     "name": "stdout",
     "output_type": "stream",
     "text": [
      "['123', '456', '']\n",
      "123 456 \n",
      "['1', '1', '']\n",
      "1 1 \n",
      "['2', '2', '']\n",
      "2 2 \n"
     ]
    },
    {
     "data": {
      "image/png": "[encoded data removed]",
      "text/plain": [
       "<matplotlib.figure.Figure at 0x114cda050>"
      ]
     },
     "metadata": {},
     "output_type": "display_data"
    }
   ],
   "source": [
    "DG = nx.DiGraph()\n",
    "b = ['123 456 ', '1 1 ', '2 2 ']\n",
    "for i in b:\n",
    "    from_to = i.split(' ')\n",
    "    print(from_to)\n",
    "    print(i)\n",
    "    fromint = int(from_to[0])\n",
    "    toint = int(from_to[1])\n",
    "    DG.add_edge(fromint, toint)\n",
    "\n",
    "nx.draw(DG, with_labels = True)"
   ]
  },
  {
   "cell_type": "markdown",
   "metadata": {},
   "source": [
    "### Using pandas"
   ]
  },
  {
   "cell_type": "code",
   "execution_count": 35,
   "metadata": {},
   "outputs": [
    {
     "name": "stdout",
     "output_type": "stream",
     "text": [
      "   from   to\n",
      "0   123  456\n",
      "1     1    1\n",
      "2     2    2\n"
     ]
    }
   ],
   "source": [
    "os.remove('graph.csv')\n",
    "b = ['123 456 ', '1 1 ', '2 2 ']\n",
    "header_setter = 0\n",
    "with open('graph.csv', 'a') as graph_file:\n",
    "    for i in b:\n",
    "        from_to = i.split(' ')\n",
    "        fromint = int(from_to[0])\n",
    "        toint = int(from_to[1])\n",
    "        d = {'from': [fromint], 'to': [toint]}\n",
    "        df = pd.DataFrame(data=d)\n",
    "        if header_setter == 0:\n",
    "            df.to_csv(graph_file, header=True, index=False)\n",
    "            header_setter = 1\n",
    "        elif header_setter == 1:\n",
    "            df.to_csv(graph_file, header=False, index=False)\n",
    "\n",
    "graph_stored = pd.read_csv(\"graph.csv\")\n",
    "print(graph_stored)"
   ]
  },
  {
   "cell_type": "code",
   "execution_count": 37,
   "metadata": {},
   "outputs": [
    {
     "data": {
      "text/plain": [
       "0    123\n",
       "1      1\n",
       "2      2\n",
       "Name: from, dtype: int64"
      ]
     },
     "execution_count": 37,
     "metadata": {},
     "output_type": "execute_result"
    }
   ],
   "source": [
    "graph_stored['from']"
   ]
  },
  {
   "cell_type": "code",
   "execution_count": 38,
   "metadata": {},
   "outputs": [
    {
     "data": {
      "text/plain": [
       "0    456\n",
       "1      1\n",
       "2      2\n",
       "Name: to, dtype: int64"
      ]
     },
     "execution_count": 38,
     "metadata": {},
     "output_type": "execute_result"
    }
   ],
   "source": [
    "graph_stored['to']"
   ]
  },
  {
   "cell_type": "markdown",
   "metadata": {},
   "source": [
    "To select rows whose column value equals a scalar, 123 , use ==:"
   ]
  },
  {
   "cell_type": "code",
   "execution_count": 47,
   "metadata": {},
   "outputs": [
    {
     "data": {
      "text/html": [
       "<div>\n",
       "<style scoped>\n",
       "    .dataframe tbody tr th:only-of-type {\n",
       "        vertical-align: middle;\n",
       "    }\n",
       "\n",
       "    .dataframe tbody tr th {\n",
       "        vertical-align: top;\n",
       "    }\n",
       "\n",
       "    .dataframe thead th {\n",
       "        text-align: right;\n",
       "    }\n",
       "</style>\n",
       "<table border=\"1\" class=\"dataframe\">\n",
       "  <thead>\n",
       "    <tr style=\"text-align: right;\">\n",
       "      <th></th>\n",
       "      <th>from</th>\n",
       "      <th>to</th>\n",
       "    </tr>\n",
       "  </thead>\n",
       "  <tbody>\n",
       "    <tr>\n",
       "      <th>0</th>\n",
       "      <td>123</td>\n",
       "      <td>456</td>\n",
       "    </tr>\n",
       "  </tbody>\n",
       "</table>\n",
       "</div>"
      ],
      "text/plain": [
       "   from   to\n",
       "0   123  456"
      ]
     },
     "execution_count": 47,
     "metadata": {},
     "output_type": "execute_result"
    }
   ],
   "source": [
    "df = graph_stored\n",
    "df.loc[df['from'] == 123]"
   ]
  },
  {
   "cell_type": "markdown",
   "metadata": {},
   "source": [
    "To select rows whose column value is in an iterable, [123, 2] , use isin:"
   ]
  },
  {
   "cell_type": "code",
   "execution_count": 50,
   "metadata": {},
   "outputs": [
    {
     "data": {
      "text/html": [
       "<div>\n",
       "<style scoped>\n",
       "    .dataframe tbody tr th:only-of-type {\n",
       "        vertical-align: middle;\n",
       "    }\n",
       "\n",
       "    .dataframe tbody tr th {\n",
       "        vertical-align: top;\n",
       "    }\n",
       "\n",
       "    .dataframe thead th {\n",
       "        text-align: right;\n",
       "    }\n",
       "</style>\n",
       "<table border=\"1\" class=\"dataframe\">\n",
       "  <thead>\n",
       "    <tr style=\"text-align: right;\">\n",
       "      <th></th>\n",
       "      <th>from</th>\n",
       "      <th>to</th>\n",
       "    </tr>\n",
       "  </thead>\n",
       "  <tbody>\n",
       "    <tr>\n",
       "      <th>0</th>\n",
       "      <td>123</td>\n",
       "      <td>456</td>\n",
       "    </tr>\n",
       "    <tr>\n",
       "      <th>2</th>\n",
       "      <td>2</td>\n",
       "      <td>2</td>\n",
       "    </tr>\n",
       "  </tbody>\n",
       "</table>\n",
       "</div>"
      ],
      "text/plain": [
       "   from   to\n",
       "0   123  456\n",
       "2     2    2"
      ]
     },
     "execution_count": 50,
     "metadata": {},
     "output_type": "execute_result"
    }
   ],
   "source": [
    "df.loc[df['from'].isin([123, 2])]"
   ]
  },
  {
   "cell_type": "markdown",
   "metadata": {},
   "source": [
    "Combine multiple conditions with & :"
   ]
  },
  {
   "cell_type": "code",
   "execution_count": 53,
   "metadata": {},
   "outputs": [
    {
     "data": {
      "text/html": [
       "<div>\n",
       "<style scoped>\n",
       "    .dataframe tbody tr th:only-of-type {\n",
       "        vertical-align: middle;\n",
       "    }\n",
       "\n",
       "    .dataframe tbody tr th {\n",
       "        vertical-align: top;\n",
       "    }\n",
       "\n",
       "    .dataframe thead th {\n",
       "        text-align: right;\n",
       "    }\n",
       "</style>\n",
       "<table border=\"1\" class=\"dataframe\">\n",
       "  <thead>\n",
       "    <tr style=\"text-align: right;\">\n",
       "      <th></th>\n",
       "      <th>from</th>\n",
       "      <th>to</th>\n",
       "    </tr>\n",
       "  </thead>\n",
       "  <tbody>\n",
       "    <tr>\n",
       "      <th>0</th>\n",
       "      <td>123</td>\n",
       "      <td>456</td>\n",
       "    </tr>\n",
       "  </tbody>\n",
       "</table>\n",
       "</div>"
      ],
      "text/plain": [
       "   from   to\n",
       "0   123  456"
      ]
     },
     "execution_count": 53,
     "metadata": {},
     "output_type": "execute_result"
    }
   ],
   "source": [
    "df.loc[(df['from'] >= 100) & (df['to'] <= 500)]"
   ]
  },
  {
   "cell_type": "markdown",
   "metadata": {},
   "source": [
    "Note the parentheses. Due to Python's operator precedence rules, & binds more tightly than <= and >=. Thus, the parentheses in the last example are necessary. Without the parentheses"
   ]
  },
  {
   "cell_type": "code",
   "execution_count": 57,
   "metadata": {},
   "outputs": [
    {
     "ename": "ValueError",
     "evalue": "The truth value of a Series is ambiguous. Use a.empty, a.bool(), a.item(), a.any() or a.all().",
     "output_type": "error",
     "traceback": [
      "\u001b[0;31m---------------------------------------------------------------------------\u001b[0m",
      "\u001b[0;31mValueError\u001b[0m                                Traceback (most recent call last)",
      "\u001b[0;32m<ipython-input-57-9a485a5518a8>\u001b[0m in \u001b[0;36m<module>\u001b[0;34m()\u001b[0m\n\u001b[0;32m----> 1\u001b[0;31m \u001b[0mdf\u001b[0m\u001b[0;34m.\u001b[0m\u001b[0mloc\u001b[0m\u001b[0;34m[\u001b[0m\u001b[0mdf\u001b[0m\u001b[0;34m[\u001b[0m\u001b[0;34m'from'\u001b[0m\u001b[0;34m]\u001b[0m \u001b[0;34m>=\u001b[0m \u001b[0;36m100\u001b[0m \u001b[0;34m&\u001b[0m \u001b[0mdf\u001b[0m\u001b[0;34m[\u001b[0m\u001b[0;34m'to'\u001b[0m\u001b[0;34m]\u001b[0m \u001b[0;34m<=\u001b[0m \u001b[0;36m500\u001b[0m\u001b[0;34m]\u001b[0m\u001b[0;34m\u001b[0m\u001b[0m\n\u001b[0m",
      "\u001b[0;32m/Users/aishwaya/anaconda2/lib/python2.7/site-packages/pandas/core/generic.pyc\u001b[0m in \u001b[0;36m__nonzero__\u001b[0;34m(self)\u001b[0m\n\u001b[1;32m   1119\u001b[0m         raise ValueError(\"The truth value of a {0} is ambiguous. \"\n\u001b[1;32m   1120\u001b[0m                          \u001b[0;34m\"Use a.empty, a.bool(), a.item(), a.any() or a.all().\"\u001b[0m\u001b[0;34m\u001b[0m\u001b[0m\n\u001b[0;32m-> 1121\u001b[0;31m                          .format(self.__class__.__name__))\n\u001b[0m\u001b[1;32m   1122\u001b[0m \u001b[0;34m\u001b[0m\u001b[0m\n\u001b[1;32m   1123\u001b[0m     \u001b[0m__bool__\u001b[0m \u001b[0;34m=\u001b[0m \u001b[0m__nonzero__\u001b[0m\u001b[0;34m\u001b[0m\u001b[0m\n",
      "\u001b[0;31mValueError\u001b[0m: The truth value of a Series is ambiguous. Use a.empty, a.bool(), a.item(), a.any() or a.all()."
     ]
    }
   ],
   "source": [
    "df.loc[df['from'] >= 100 & df['to'] <= 500]"
   ]
  },
  {
   "cell_type": "markdown",
   "metadata": {},
   "source": [
    "is parsed as\n",
    "<br><br>\n",
    "    df['column_name'] >= (A & df['column_name']) <= B\n",
    "<br><br>\n",
    "which results in a Truth value of a Series is ambiguous error.\n",
    "\n",
    "***\n",
    "\n",
    "To select rows whose column value does not equal 123, use !=:"
   ]
  },
  {
   "cell_type": "code",
   "execution_count": 58,
   "metadata": {},
   "outputs": [
    {
     "data": {
      "text/html": [
       "<div>\n",
       "<style scoped>\n",
       "    .dataframe tbody tr th:only-of-type {\n",
       "        vertical-align: middle;\n",
       "    }\n",
       "\n",
       "    .dataframe tbody tr th {\n",
       "        vertical-align: top;\n",
       "    }\n",
       "\n",
       "    .dataframe thead th {\n",
       "        text-align: right;\n",
       "    }\n",
       "</style>\n",
       "<table border=\"1\" class=\"dataframe\">\n",
       "  <thead>\n",
       "    <tr style=\"text-align: right;\">\n",
       "      <th></th>\n",
       "      <th>from</th>\n",
       "      <th>to</th>\n",
       "    </tr>\n",
       "  </thead>\n",
       "  <tbody>\n",
       "    <tr>\n",
       "      <th>1</th>\n",
       "      <td>1</td>\n",
       "      <td>1</td>\n",
       "    </tr>\n",
       "    <tr>\n",
       "      <th>2</th>\n",
       "      <td>2</td>\n",
       "      <td>2</td>\n",
       "    </tr>\n",
       "  </tbody>\n",
       "</table>\n",
       "</div>"
      ],
      "text/plain": [
       "   from  to\n",
       "1     1   1\n",
       "2     2   2"
      ]
     },
     "execution_count": 58,
     "metadata": {},
     "output_type": "execute_result"
    }
   ],
   "source": [
    "df.loc[df['from'] != 123]"
   ]
  },
  {
   "cell_type": "markdown",
   "metadata": {},
   "source": [
    "**isin** returns a boolean Series, so to select rows whose value is not in some_values, negate the boolean Series using ~:"
   ]
  },
  {
   "cell_type": "code",
   "execution_count": 59,
   "metadata": {},
   "outputs": [
    {
     "data": {
      "text/html": [
       "<div>\n",
       "<style scoped>\n",
       "    .dataframe tbody tr th:only-of-type {\n",
       "        vertical-align: middle;\n",
       "    }\n",
       "\n",
       "    .dataframe tbody tr th {\n",
       "        vertical-align: top;\n",
       "    }\n",
       "\n",
       "    .dataframe thead th {\n",
       "        text-align: right;\n",
       "    }\n",
       "</style>\n",
       "<table border=\"1\" class=\"dataframe\">\n",
       "  <thead>\n",
       "    <tr style=\"text-align: right;\">\n",
       "      <th></th>\n",
       "      <th>from</th>\n",
       "      <th>to</th>\n",
       "    </tr>\n",
       "  </thead>\n",
       "  <tbody>\n",
       "    <tr>\n",
       "      <th>1</th>\n",
       "      <td>1</td>\n",
       "      <td>1</td>\n",
       "    </tr>\n",
       "  </tbody>\n",
       "</table>\n",
       "</div>"
      ],
      "text/plain": [
       "   from  to\n",
       "1     1   1"
      ]
     },
     "execution_count": 59,
     "metadata": {},
     "output_type": "execute_result"
    }
   ],
   "source": [
    "df.loc[~df['from'].isin([123, 2])]"
   ]
  },
  {
   "cell_type": "markdown",
   "metadata": {},
   "source": [
    "Check whether a pandas DataFrame is empty :"
   ]
  },
  {
   "cell_type": "code",
   "execution_count": 65,
   "metadata": {},
   "outputs": [
    {
     "data": {
      "text/html": [
       "<div>\n",
       "<style scoped>\n",
       "    .dataframe tbody tr th:only-of-type {\n",
       "        vertical-align: middle;\n",
       "    }\n",
       "\n",
       "    .dataframe tbody tr th {\n",
       "        vertical-align: top;\n",
       "    }\n",
       "\n",
       "    .dataframe thead th {\n",
       "        text-align: right;\n",
       "    }\n",
       "</style>\n",
       "<table border=\"1\" class=\"dataframe\">\n",
       "  <thead>\n",
       "    <tr style=\"text-align: right;\">\n",
       "      <th></th>\n",
       "      <th>from</th>\n",
       "      <th>to</th>\n",
       "    </tr>\n",
       "  </thead>\n",
       "  <tbody>\n",
       "  </tbody>\n",
       "</table>\n",
       "</div>"
      ],
      "text/plain": [
       "Empty DataFrame\n",
       "Columns: [from, to]\n",
       "Index: []"
      ]
     },
     "execution_count": 65,
     "metadata": {},
     "output_type": "execute_result"
    }
   ],
   "source": [
    "graph_stored.loc[graph_stored['from'] == 3]"
   ]
  },
  {
   "cell_type": "code",
   "execution_count": 69,
   "metadata": {},
   "outputs": [
    {
     "name": "stdout",
     "output_type": "stream",
     "text": [
      "1\n"
     ]
    }
   ],
   "source": [
    "x = 0\n",
    "if graph_stored.loc[graph_stored['from'] == 3].empty:\n",
    "    x = 1\n",
    "print(x)"
   ]
  },
  {
   "cell_type": "markdown",
   "metadata": {},
   "source": [
    "**Solve : EmptyDataError: No columns to parse from file**<br>\n",
    "**Should I use `with open(file):` if I want to `pd.read_csv`? **\n",
    "<br>\n",
    "With open('<>') as file: method allows the users need to do line by line operations for single or multiple lines in the file.\n",
    "\n",
    "pandas handles the files differently. When you import a file to pandas dataframe, it imports the entire contents of the file to the dataframe. Opening and closing the file are not needed to be specified since you will be processing the dataframe there on.\n",
    "\n",
    "Hence, when you are reading files to a pandas dataframe, with open () is not required."
   ]
  },
  {
   "cell_type": "code",
   "execution_count": 89,
   "metadata": {},
   "outputs": [
    {
     "name": "stdout",
     "output_type": "stream",
     "text": [
      "    explored  scc  starting time\n",
      "0          0    1              3\n",
      "1          3    1              5\n",
      "2          0    0              0\n",
      "3          1    1              1\n",
      "4          2    2              2\n",
      "5          3    3              3\n",
      "6          4    4              4\n",
      "7          5    5              5\n",
      "8          6    6              6\n",
      "9          7    7              7\n",
      "10         8    8              8\n",
      "11         9    9              9\n",
      "12        10   10             10\n",
      "13        11   11             11\n",
      "14        12   12             12\n",
      "15        13   13             13\n",
      "16        14   14             14\n",
      "17        15   15             15\n",
      "18        16   16             16\n",
      "19        17   17             17\n",
      "20        18   18             18\n",
      "21        19   19             19\n"
     ]
    }
   ],
   "source": [
    "with open('edge.csv', 'a') as edge_file, open('nodes.csv', 'a') as nodes_file: \n",
    "    if os.path.getsize(\"nodes.csv\") <= 0:\n",
    "        d2 = {'explored': [0], 'scc': [1], 'starting time': [3]}\n",
    "        df2 = pd.DataFrame(data=d2)\n",
    "        df2.to_csv(nodes_file, header=True, index=False)\n",
    "        \n",
    "with open('edge.csv', 'a') as edge_file, open('nodes.csv', 'a') as nodes_file: \n",
    "    empty_graph = pd.read_csv(\"nodes.csv\") \n",
    "    if empty_graph.loc[empty_graph['explored'] == 3].empty:\n",
    "        d2 = {'explored': [3], 'scc': [1], 'starting time': [5]}\n",
    "        df2 = pd.DataFrame(data=d2)\n",
    "        df2.to_csv(nodes_file, header=False, index=False)\n",
    "    for i in range(20):\n",
    "        d2 = {'explored': [i], 'scc': [i], 'starting time': [i]}\n",
    "        df2 = pd.DataFrame(data=d2)\n",
    "        df2.to_csv(nodes_file, header=False, index=False)\n",
    "        \n",
    "graph_stored = pd.read_csv(\"nodes.csv\")\n",
    "print(graph_stored)"
   ]
  },
  {
   "cell_type": "code",
   "execution_count": 95,
   "metadata": {},
   "outputs": [
    {
     "name": "stdout",
     "output_type": "stream",
     "text": [
      "   explored  scc  starting time\n",
      "0         0    1              3\n",
      "1         3    1              5\n",
      "2         0    0              0\n",
      "3         1    1              1\n",
      "4         2    2              2\n",
      "0    0\n",
      "1    3\n",
      "2    0\n",
      "3    1\n",
      "4    2\n",
      "Name: explored, dtype: int64\n",
      "0\n",
      "   explored  scc  starting time\n",
      "5         3    3              3\n",
      "6         4    4              4\n",
      "7         5    5              5\n",
      "8         6    6              6\n",
      "9         7    7              7\n",
      "5    3\n",
      "6    4\n",
      "7    5\n",
      "8    6\n",
      "9    7\n",
      "Name: explored, dtype: int64\n",
      "3\n",
      "    explored  scc  starting time\n",
      "10         8    8              8\n",
      "11         9    9              9\n",
      "12        10   10             10\n",
      "13        11   11             11\n",
      "14        12   12             12\n",
      "10     8\n",
      "11     9\n",
      "12    10\n",
      "13    11\n",
      "14    12\n",
      "Name: explored, dtype: int64\n",
      "8\n",
      "    explored  scc  starting time\n",
      "15        13   13             13\n",
      "16        14   14             14\n",
      "17        15   15             15\n",
      "18        16   16             16\n",
      "19        17   17             17\n",
      "15    13\n",
      "16    14\n",
      "17    15\n",
      "18    16\n",
      "19    17\n",
      "Name: explored, dtype: int64\n",
      "13\n",
      "    explored  scc  starting time\n",
      "20        18   18             18\n",
      "21        19   19             19\n",
      "20    18\n",
      "21    19\n",
      "Name: explored, dtype: int64\n",
      "18\n"
     ]
    }
   ],
   "source": [
    "i=0\n",
    "for chunk in pd.read_csv(\"nodes.csv\", chunksize=5):\n",
    "    print(chunk)\n",
    "    print(chunk[\"explored\"])\n",
    "    print(chunk[\"explored\"][i])\n",
    "    i = i+5"
   ]
  },
  {
   "cell_type": "code",
   "execution_count": null,
   "metadata": {},
   "outputs": [],
   "source": []
  }
 ],
 "metadata": {
  "kernelspec": {
   "display_name": "Python 2",
   "language": "python",
   "name": "python2"
  },
  "language_info": {
   "codemirror_mode": {
    "name": "ipython",
    "version": 2
   },
   "file_extension": ".py",
   "mimetype": "text/x-python",
   "name": "python",
   "nbconvert_exporter": "python",
   "pygments_lexer": "ipython2",
   "version": "2.7.14"
  }
 },
 "nbformat": 4,
 "nbformat_minor": 2
}
